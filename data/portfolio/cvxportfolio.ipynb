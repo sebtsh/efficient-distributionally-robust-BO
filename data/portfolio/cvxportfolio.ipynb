{
 "cells": [
  {
   "cell_type": "code",
   "execution_count": 1,
   "metadata": {},
   "outputs": [],
   "source": [
    "import os\n",
    "import sys\n",
    "\n",
    "%matplotlib inline\n",
    "import pandas as pd\n",
    "import cvxportfolio as cp\n",
    "import quandl\n",
    "import numpy as np\n",
    "import pickle\n",
    "from scipy.stats import qmc"
   ]
  },
  {
   "cell_type": "code",
   "execution_count": 7,
   "metadata": {},
   "outputs": [],
   "source": [
    "quandl.ApiConfig.api_key = 'XB2H55DxdNiJjBbLvCzu'"
   ]
  },
  {
   "cell_type": "code",
   "execution_count": 8,
   "metadata": {},
   "outputs": [
    {
     "data": {
      "text/html": [
       "<div>\n",
       "<style scoped>\n",
       "    .dataframe tbody tr th:only-of-type {\n",
       "        vertical-align: middle;\n",
       "    }\n",
       "\n",
       "    .dataframe tbody tr th {\n",
       "        vertical-align: top;\n",
       "    }\n",
       "\n",
       "    .dataframe thead th {\n",
       "        text-align: right;\n",
       "    }\n",
       "</style>\n",
       "<table border=\"1\" class=\"dataframe\">\n",
       "  <thead>\n",
       "    <tr style=\"text-align: right;\">\n",
       "      <th></th>\n",
       "      <th>AMZN</th>\n",
       "      <th>GOOGL</th>\n",
       "      <th>TSLA</th>\n",
       "      <th>NKE</th>\n",
       "      <th>USDOLLAR</th>\n",
       "    </tr>\n",
       "    <tr>\n",
       "      <th>Date</th>\n",
       "      <th></th>\n",
       "      <th></th>\n",
       "      <th></th>\n",
       "      <th></th>\n",
       "      <th></th>\n",
       "    </tr>\n",
       "  </thead>\n",
       "  <tbody>\n",
       "    <tr>\n",
       "      <th>2016-12-23</th>\n",
       "      <td>-0.007503</td>\n",
       "      <td>-0.002322</td>\n",
       "      <td>0.023459</td>\n",
       "      <td>-0.004411</td>\n",
       "      <td>0.000020</td>\n",
       "    </tr>\n",
       "    <tr>\n",
       "      <th>2016-12-27</th>\n",
       "      <td>0.014213</td>\n",
       "      <td>0.002637</td>\n",
       "      <td>0.029015</td>\n",
       "      <td>-0.011944</td>\n",
       "      <td>0.000020</td>\n",
       "    </tr>\n",
       "    <tr>\n",
       "      <th>2016-12-28</th>\n",
       "      <td>0.000946</td>\n",
       "      <td>-0.006618</td>\n",
       "      <td>0.000957</td>\n",
       "      <td>-0.005264</td>\n",
       "      <td>0.000021</td>\n",
       "    </tr>\n",
       "    <tr>\n",
       "      <th>2016-12-29</th>\n",
       "      <td>-0.009040</td>\n",
       "      <td>-0.002101</td>\n",
       "      <td>-0.023027</td>\n",
       "      <td>0.000784</td>\n",
       "      <td>0.000018</td>\n",
       "    </tr>\n",
       "    <tr>\n",
       "      <th>2016-12-30</th>\n",
       "      <td>-0.019970</td>\n",
       "      <td>-0.012991</td>\n",
       "      <td>-0.004612</td>\n",
       "      <td>-0.004505</td>\n",
       "      <td>0.000020</td>\n",
       "    </tr>\n",
       "  </tbody>\n",
       "</table>\n",
       "</div>"
      ],
      "text/plain": [
       "                AMZN     GOOGL      TSLA       NKE  USDOLLAR\n",
       "Date                                                        \n",
       "2016-12-23 -0.007503 -0.002322  0.023459 -0.004411  0.000020\n",
       "2016-12-27  0.014213  0.002637  0.029015 -0.011944  0.000020\n",
       "2016-12-28  0.000946 -0.006618  0.000957 -0.005264  0.000021\n",
       "2016-12-29 -0.009040 -0.002101 -0.023027  0.000784  0.000018\n",
       "2016-12-30 -0.019970 -0.012991 -0.004612 -0.004505  0.000020"
      ]
     },
     "execution_count": 8,
     "metadata": {},
     "output_type": "execute_result"
    }
   ],
   "source": [
    "tickers = ['AMZN', 'GOOGL', 'TSLA', 'NKE']\n",
    "start_date='2012-01-01'\n",
    "end_date='2016-12-31'\n",
    "returns = pd.DataFrame(dict([(ticker, quandl.get('WIKI/'+ticker, \n",
    "                                    start_date=start_date, \n",
    "                                    end_date=end_date)['Adj. Close'].pct_change())\n",
    "                for ticker in tickers]))\n",
    "returns[[\"USDOLLAR\"]]=quandl.get('FRED/DTB3', start_date=start_date, end_date=end_date)/(250*100)\n",
    "returns = returns.fillna(method='ffill').iloc[1:]\n",
    "\n",
    "returns.tail()"
   ]
  },
  {
   "cell_type": "code",
   "execution_count": 9,
   "metadata": {},
   "outputs": [
    {
     "data": {
      "text/html": [
       "<div>\n",
       "<style scoped>\n",
       "    .dataframe tbody tr th:only-of-type {\n",
       "        vertical-align: middle;\n",
       "    }\n",
       "\n",
       "    .dataframe tbody tr th {\n",
       "        vertical-align: top;\n",
       "    }\n",
       "\n",
       "    .dataframe thead th {\n",
       "        text-align: right;\n",
       "    }\n",
       "</style>\n",
       "<table border=\"1\" class=\"dataframe\">\n",
       "  <thead>\n",
       "    <tr style=\"text-align: right;\">\n",
       "      <th></th>\n",
       "      <th>AMZN</th>\n",
       "      <th>GOOGL</th>\n",
       "      <th>TSLA</th>\n",
       "      <th>NKE</th>\n",
       "      <th>USDOLLAR</th>\n",
       "    </tr>\n",
       "    <tr>\n",
       "      <th>Date</th>\n",
       "      <th></th>\n",
       "      <th></th>\n",
       "      <th></th>\n",
       "      <th></th>\n",
       "      <th></th>\n",
       "    </tr>\n",
       "  </thead>\n",
       "  <tbody>\n",
       "    <tr>\n",
       "      <th>2016-12-23</th>\n",
       "      <td>0.000683</td>\n",
       "      <td>0.000219</td>\n",
       "      <td>-0.000074</td>\n",
       "      <td>-0.000660</td>\n",
       "      <td>0.000012</td>\n",
       "    </tr>\n",
       "    <tr>\n",
       "      <th>2016-12-27</th>\n",
       "      <td>0.000542</td>\n",
       "      <td>0.000150</td>\n",
       "      <td>-0.000124</td>\n",
       "      <td>-0.000706</td>\n",
       "      <td>0.000013</td>\n",
       "    </tr>\n",
       "    <tr>\n",
       "      <th>2016-12-28</th>\n",
       "      <td>0.000627</td>\n",
       "      <td>0.000179</td>\n",
       "      <td>-0.000023</td>\n",
       "      <td>-0.000691</td>\n",
       "      <td>0.000013</td>\n",
       "    </tr>\n",
       "    <tr>\n",
       "      <th>2016-12-29</th>\n",
       "      <td>0.000707</td>\n",
       "      <td>0.000215</td>\n",
       "      <td>-0.000052</td>\n",
       "      <td>-0.000664</td>\n",
       "      <td>0.000013</td>\n",
       "    </tr>\n",
       "    <tr>\n",
       "      <th>2016-12-30</th>\n",
       "      <td>0.000901</td>\n",
       "      <td>0.000302</td>\n",
       "      <td>0.000133</td>\n",
       "      <td>-0.000598</td>\n",
       "      <td>0.000013</td>\n",
       "    </tr>\n",
       "  </tbody>\n",
       "</table>\n",
       "</div>"
      ],
      "text/plain": [
       "                AMZN     GOOGL      TSLA       NKE  USDOLLAR\n",
       "Date                                                        \n",
       "2016-12-23  0.000683  0.000219 -0.000074 -0.000660  0.000012\n",
       "2016-12-27  0.000542  0.000150 -0.000124 -0.000706  0.000013\n",
       "2016-12-28  0.000627  0.000179 -0.000023 -0.000691  0.000013\n",
       "2016-12-29  0.000707  0.000215 -0.000052 -0.000664  0.000013\n",
       "2016-12-30  0.000901  0.000302  0.000133 -0.000598  0.000013"
      ]
     },
     "execution_count": 9,
     "metadata": {},
     "output_type": "execute_result"
    }
   ],
   "source": [
    "r_hat = returns.rolling(window=250, min_periods=250).mean().shift(1).dropna()\n",
    "Sigma_hat = returns.rolling(window=250, min_periods=250, closed='neither').cov().dropna().droplevel(1)\n",
    "\n",
    "r_hat.tail()"
   ]
  },
  {
   "cell_type": "code",
   "execution_count": 10,
   "metadata": {},
   "outputs": [],
   "source": [
    "# Dimensions are [risk_aversion, trade_aversion, holding_cost, bid_ask_spread, borrow_cost]\n",
    "# array([5.0005e+02, 6.7500e+00, 5.0050e+01, 5.0500e-03, 5.5000e-04])"
   ]
  },
  {
   "cell_type": "code",
   "execution_count": 116,
   "metadata": {
    "scrolled": true
   },
   "outputs": [
    {
     "data": {
      "text/plain": [
       "array([7.49951172e+00, 2.67334961e+01, 1.09667969e-04, 2.74902344e-04])"
      ]
     },
     "execution_count": 116,
     "metadata": {},
     "output_type": "execute_result"
    }
   ],
   "source": [
    "params = scaled_samples[546]\n",
    "params"
   ]
  },
  {
   "cell_type": "code",
   "execution_count": 139,
   "metadata": {},
   "outputs": [],
   "source": [
    "# risk_aversion = params[0]\n",
    "# trade_aversion = params[1]\n",
    "# holding_cost = params[2]\n",
    "# bid_ask_spread = params[3]\n",
    "# borrow_cost = params[4]\n",
    "\n",
    "risk_aversion = 1\n",
    "trade_aversion = params[0]\n",
    "holding_cost = params[1]\n",
    "bid_ask_spread = params[2] * 15\n",
    "borrow_cost = params[3]"
   ]
  },
  {
   "cell_type": "code",
   "execution_count": 140,
   "metadata": {
    "scrolled": true
   },
   "outputs": [
    {
     "name": "stdout",
     "output_type": "stream",
     "text": [
      "Number of periods                              1007\n",
      "Initial timestamp               2013-01-03 00:00:00\n",
      "Final timestamp                 2016-12-30 00:00:00\n",
      "Portfolio return (%)                         36.423\n",
      "Excess return (%)                            36.307\n",
      "Excess risk (%)                              34.069\n",
      "Sharpe ratio                                  1.066\n",
      "Max. drawdown                                33.700\n",
      "Turnover (%)                                  4.382\n",
      "Average policy time (sec)                     0.038\n",
      "Average simulator time (sec)                  0.004\n"
     ]
    }
   ],
   "source": [
    "# Context parameters\n",
    "tcost_model=cp.TcostModel(half_spread=0.5 * bid_ask_spread)\n",
    "hcost_model=cp.HcostModel(borrow_costs=borrow_cost)\n",
    "\n",
    "risk_model = cp.FullSigma(Sigma_hat)\n",
    "# Action parameters\n",
    "leverage_limit = cp.LeverageLimit(3)\n",
    "\n",
    "spo_policy = cp.SinglePeriodOpt(return_forecast=r_hat, \n",
    "                                costs=[risk_aversion*risk_model, trade_aversion*tcost_model, holding_cost*hcost_model],\n",
    "                                constraints=[leverage_limit])\n",
    "\n",
    "market_sim=cp.MarketSimulator(returns, [tcost_model, hcost_model], cash_key='USDOLLAR') \n",
    "init_portfolio = pd.Series(index=returns.columns, data=250000.)\n",
    "init_portfolio.USDOLLAR = 0\n",
    "results = market_sim.run_multiple_backtest(init_portfolio,\n",
    "                               start_time='2013-01-03',  end_time='2016-12-31',  \n",
    "                               policies=[spo_policy, cp.Hold()])\n",
    "results[0].summary()"
   ]
  },
  {
   "cell_type": "code",
   "execution_count": 29,
   "metadata": {
    "scrolled": true
   },
   "outputs": [
    {
     "data": {
      "text/plain": [
       "0.6794021163594256"
      ]
     },
     "execution_count": 29,
     "metadata": {},
     "output_type": "execute_result"
    }
   ],
   "source": [
    "results[0].returns.mean() * 100"
   ]
  },
  {
   "cell_type": "code",
   "execution_count": 30,
   "metadata": {},
   "outputs": [
    {
     "data": {
      "text/plain": [
       "<AxesSubplot:>"
      ]
     },
     "execution_count": 30,
     "metadata": {},
     "output_type": "execute_result"
    },
    {
     "data": {
      "image/png": "[encoded data removed]",
      "text/plain": [
       "<Figure size 864x360 with 1 Axes>"
      ]
     },
     "metadata": {
      "needs_background": "light"
     },
     "output_type": "display_data"
    }
   ],
   "source": [
    "results[0].v.plot(figsize=(12,5))\n",
    "results[1].v.plot(figsize=(12,5))"
   ]
  },
  {
   "cell_type": "code",
   "execution_count": 8,
   "metadata": {
    "scrolled": true
   },
   "outputs": [
    {
     "data": {
      "text/plain": [
       "<AxesSubplot:>"
      ]
     },
     "execution_count": 8,
     "metadata": {},
     "output_type": "execute_result"
    },
    {
     "data": {
      "image/png": "[encoded data removed]",
      "text/plain": [
       "<Figure size 864x432 with 1 Axes>"
      ]
     },
     "metadata": {
      "needs_background": "light"
     },
     "output_type": "display_data"
    }
   ],
   "source": [
    "results[0].w.plot(figsize=(12,6))"
   ]
  },
  {
   "cell_type": "code",
   "execution_count": 24,
   "metadata": {},
   "outputs": [],
   "source": [
    "# Dimensions are [risk_aversion, trade_aversion, holding_cost, bid_ask_spread, borrow_cost]"
   ]
  },
  {
   "cell_type": "code",
   "execution_count": 16,
   "metadata": {},
   "outputs": [],
   "source": [
    "sampler = qmc.Sobol(d=5, scramble=False)"
   ]
  },
  {
   "cell_type": "code",
   "execution_count": 20,
   "metadata": {},
   "outputs": [],
   "source": [
    "sample = sampler.random(3000)"
   ]
  },
  {
   "cell_type": "code",
   "execution_count": 21,
   "metadata": {
    "scrolled": true
   },
   "outputs": [
    {
     "data": {
      "text/plain": [
       "array([[0.14978027, 0.49499512, 0.98132324, 0.30310059, 0.51550293],\n",
       "       [0.64978027, 0.99499512, 0.48132324, 0.80310059, 0.01550293],\n",
       "       [0.89978027, 0.24499512, 0.73132324, 0.05310059, 0.26550293],\n",
       "       ...,\n",
       "       [0.85559082, 0.89660645, 0.95080566, 0.62902832, 0.70910645],\n",
       "       [0.60559082, 0.14660645, 0.20080566, 0.37902832, 0.95910645],\n",
       "       [0.10559082, 0.64660645, 0.70080566, 0.87902832, 0.45910645]])"
      ]
     },
     "execution_count": 21,
     "metadata": {},
     "output_type": "execute_result"
    }
   ],
   "source": [
    "sample"
   ]
  },
  {
   "cell_type": "code",
   "execution_count": 55,
   "metadata": {},
   "outputs": [
    {
     "data": {
      "text/plain": [
       "array([0.49980359, 0.50002421, 0.49963668, 0.50001103, 0.50038188])"
      ]
     },
     "execution_count": 55,
     "metadata": {},
     "output_type": "execute_result"
    }
   ],
   "source": [
    "np.mean(sample, axis=0)"
   ]
  },
  {
   "cell_type": "code",
   "execution_count": 41,
   "metadata": {},
   "outputs": [],
   "source": [
    "lowers = [0.1, 5.5, 0.1, 1e-04, 1e-04]\n",
    "uppers = [1000, 8, 100, 1e-02, 1e-03]"
   ]
  },
  {
   "cell_type": "code",
   "execution_count": 42,
   "metadata": {},
   "outputs": [
    {
     "data": {
      "text/plain": [
       "array([[5.00050000e+02, 6.75000000e+00, 5.00500000e+01, 5.05000000e-03,\n",
       "        5.50000000e-04],\n",
       "       [7.50025000e+02, 6.12500000e+00, 2.50750000e+01, 2.57500000e-03,\n",
       "        7.75000000e-04],\n",
       "       [2.50075000e+02, 7.37500000e+00, 7.50250000e+01, 7.52500000e-03,\n",
       "        3.25000000e-04],\n",
       "       ...,\n",
       "       [7.12675220e+02, 5.87658691e+00, 5.20743408e+01, 7.38723145e-03,\n",
       "        8.03344727e-04],\n",
       "       [2.12725220e+02, 7.12658691e+00, 2.12434082e+00, 2.43723145e-03,\n",
       "        3.53344727e-04],\n",
       "       [1.50231470e+02, 6.34533691e+00, 5.83180908e+01, 4.29348145e-03,\n",
       "        9.72094727e-04]])"
      ]
     },
     "execution_count": 42,
     "metadata": {},
     "output_type": "execute_result"
    }
   ],
   "source": [
    "scaled_sample = qmc.scale(sample, lowers, uppers)"
   ]
  },
  {
   "cell_type": "code",
   "execution_count": 56,
   "metadata": {},
   "outputs": [],
   "source": [
    "def extract_results(result):\n",
    "    portfolio_return = result.returns.mean() * 100 * result.PPY\n",
    "    excess_return = result.excess_returns.mean() * 100 * result.PPY\n",
    "    excess_risk = result.excess_returns.std() * 100 * np.sqrt(result.PPY)\n",
    "    sharpe_ratio = result.sharpe_ratio\n",
    "    max_drawdown = result.max_drawdown\n",
    "    return [portfolio_return, excess_return, excess_risk, sharpe_ratio, max_drawdown]"
   ]
  },
  {
   "cell_type": "code",
   "execution_count": 57,
   "metadata": {},
   "outputs": [
    {
     "data": {
      "text/plain": [
       "[72.05850593104746,\n",
       " 71.94323722329396,\n",
       " 76.5321877167474,\n",
       " 0.940506512708237,\n",
       " 70.10326331796388]"
      ]
     },
     "execution_count": 57,
     "metadata": {},
     "output_type": "execute_result"
    }
   ],
   "source": [
    "extract_results(results[0])"
   ]
  },
  {
   "cell_type": "code",
   "execution_count": null,
   "metadata": {},
   "outputs": [],
   "source": []
  },
  {
   "cell_type": "code",
   "execution_count": null,
   "metadata": {},
   "outputs": [],
   "source": []
  },
  {
   "cell_type": "code",
   "execution_count": null,
   "metadata": {},
   "outputs": [],
   "source": []
  },
  {
   "cell_type": "code",
   "execution_count": 14,
   "metadata": {},
   "outputs": [],
   "source": [
    "import os"
   ]
  },
  {
   "cell_type": "code",
   "execution_count": 15,
   "metadata": {},
   "outputs": [],
   "source": [
    "os.chdir('../../')"
   ]
  },
  {
   "cell_type": "code",
   "execution_count": 16,
   "metadata": {},
   "outputs": [
    {
     "data": {
      "text/plain": [
       "'/home/sebtsh/fast-drbo'"
      ]
     },
     "execution_count": 16,
     "metadata": {},
     "output_type": "execute_result"
    }
   ],
   "source": [
    "os.getcwd()"
   ]
  },
  {
   "cell_type": "code",
   "execution_count": 17,
   "metadata": {},
   "outputs": [],
   "source": [
    "scaled_samples = pickle.load(open('data/portfolio/scaled_samples.p','rb'))"
   ]
  },
  {
   "cell_type": "code",
   "execution_count": 18,
   "metadata": {},
   "outputs": [],
   "source": [
    "all_results = pickle.load(open('data/portfolio/all_results.p','rb'))"
   ]
  },
  {
   "cell_type": "code",
   "execution_count": 19,
   "metadata": {},
   "outputs": [],
   "source": [
    "import matplotlib.pyplot as plt"
   ]
  },
  {
   "cell_type": "code",
   "execution_count": 20,
   "metadata": {
    "scrolled": false
   },
   "outputs": [
    {
     "data": {
      "text/plain": [
       "(array([348., 333., 328., 326., 301., 206., 159., 124.,  92.,  70.,  69.,\n",
       "         47.,  44.,  37.,  29.,  30.,  35.,  36.,  25.,  12.,   9.,  10.,\n",
       "         15.,  18.,  18.,  19.,  13.,  14.,  14.,  13.,  10.,   5.,  11.,\n",
       "          7.,  10.,   3.,   4.,   4.,  12.,   7.,   6.,  10.,   9.,   9.,\n",
       "          5.,   5.,   6.,   6.,   3.,   5.,   3.,   2.,   9.,   4.,   2.,\n",
       "          2.,   3.,   4.,   4.,   2.,   5.,  27.,   0.,   0.,   0.,   0.,\n",
       "          0.,   0.,   1.,   0.,   0.,   0.,   0.,   0.,   0.,   0.,   0.,\n",
       "          0.,   0.,   0.,   0.,   0.,   0.,   0.,   0.,   0.,   0.,   0.,\n",
       "          0.,   0.,   0.,   0.,   0.,   0.,   0.,   0.,   0.,   0.,   0.,\n",
       "          0.,   0.,   0.,   0.,   0.,   0.,   0.,   0.,   0.,   0.,   0.,\n",
       "          0.,   0.,   0.,   0.,   0.,   0.,   0.,   0.,   0.,   0.,   0.,\n",
       "          0.,   0.,   0.,   0.,   0.,   0.,   0.,   0.,   0.,   0.,   0.,\n",
       "          0.,   0.,   0.,   0.,   0.,   0.,   0.,   0.,   0.,   0.,   0.,\n",
       "          0.,   0.,   0.,   0.,   0.,   0.,   0.,   0.,   0.,   0.,   0.,\n",
       "          0.,   0.,   0.,   0.,   0.,   0.,   0.,   0.,   0.,   0.,   0.,\n",
       "          0.,   0.,   0.,   0.,   0.,   0.,   0.,   0.,   0.,   0.,   0.,\n",
       "          0.,   0.,   0.,   0.,   0.,   0.,   0.,   0.,   0.,   0.,   0.,\n",
       "          0.,   0.,   0.,   0.,   0.,   0.,   0.,   0.,   0.,   0.,   0.,\n",
       "          0.,   0.,   0.,   0.,   0.,   0.,   0.,   0.,   0.,   0.,   0.,\n",
       "          0.,   0.,   0.,   0.,   0.,   0.,   0.,   0.,   0.,   0.,   0.,\n",
       "          0.,   0.,   0.,   0.,   0.,   0.,   0.,   0.,   0.,   0.,   0.,\n",
       "          0.,   0.,   0.,   0.,   0.,   0.,   0.,   0.,   0.,   0.,   0.,\n",
       "          0.,   0.,   0.,   0.,   0.,   0.,   0.,   0.,   0.,   0.,   0.,\n",
       "          0.,   0.,   0.,   0.,   0.,   0.,   0.,   0.,   0.,   0.,   0.,\n",
       "          0.,   0.,   0.,   0.,   0.,   0.,   0.,   0.,   0.,   0.,   0.,\n",
       "          0.,   0.,   0.,   0.,   0.,   0.,   0.,   0.,   0.,   0.,   0.,\n",
       "          0.,   0.,   0.,   0.,   0.,   0.,   0.,   0.,   0.,   0.,   0.,\n",
       "          0.,   0.,   0.,   0.,   0.,   0.,   0.,   0.,   0.,   0.,   0.,\n",
       "          1.]),\n",
       " array([  0.23981051,   0.79310994,   1.34640937,   1.89970879,\n",
       "          2.45300822,   3.00630765,   3.55960707,   4.1129065 ,\n",
       "          4.66620593,   5.21950535,   5.77280478,   6.32610421,\n",
       "          6.87940363,   7.43270306,   7.98600249,   8.53930191,\n",
       "          9.09260134,   9.64590077,  10.19920019,  10.75249962,\n",
       "         11.30579904,  11.85909847,  12.4123979 ,  12.96569732,\n",
       "         13.51899675,  14.07229618,  14.6255956 ,  15.17889503,\n",
       "         15.73219446,  16.28549388,  16.83879331,  17.39209274,\n",
       "         17.94539216,  18.49869159,  19.05199102,  19.60529044,\n",
       "         20.15858987,  20.7118893 ,  21.26518872,  21.81848815,\n",
       "         22.37178758,  22.925087  ,  23.47838643,  24.03168586,\n",
       "         24.58498528,  25.13828471,  25.69158414,  26.24488356,\n",
       "         26.79818299,  27.35148242,  27.90478184,  28.45808127,\n",
       "         29.01138069,  29.56468012,  30.11797955,  30.67127897,\n",
       "         31.2245784 ,  31.77787783,  32.33117725,  32.88447668,\n",
       "         33.43777611,  33.99107553,  34.54437496,  35.09767439,\n",
       "         35.65097381,  36.20427324,  36.75757267,  37.31087209,\n",
       "         37.86417152,  38.41747095,  38.97077037,  39.5240698 ,\n",
       "         40.07736923,  40.63066865,  41.18396808,  41.73726751,\n",
       "         42.29056693,  42.84386636,  43.39716579,  43.95046521,\n",
       "         44.50376464,  45.05706407,  45.61036349,  46.16366292,\n",
       "         46.71696235,  47.27026177,  47.8235612 ,  48.37686062,\n",
       "         48.93016005,  49.48345948,  50.0367589 ,  50.59005833,\n",
       "         51.14335776,  51.69665718,  52.24995661,  52.80325604,\n",
       "         53.35655546,  53.90985489,  54.46315432,  55.01645374,\n",
       "         55.56975317,  56.1230526 ,  56.67635202,  57.22965145,\n",
       "         57.78295088,  58.3362503 ,  58.88954973,  59.44284916,\n",
       "         59.99614858,  60.54944801,  61.10274744,  61.65604686,\n",
       "         62.20934629,  62.76264572,  63.31594514,  63.86924457,\n",
       "         64.422544  ,  64.97584342,  65.52914285,  66.08244227,\n",
       "         66.6357417 ,  67.18904113,  67.74234055,  68.29563998,\n",
       "         68.84893941,  69.40223883,  69.95553826,  70.50883769,\n",
       "         71.06213711,  71.61543654,  72.16873597,  72.72203539,\n",
       "         73.27533482,  73.82863425,  74.38193367,  74.9352331 ,\n",
       "         75.48853253,  76.04183195,  76.59513138,  77.14843081,\n",
       "         77.70173023,  78.25502966,  78.80832909,  79.36162851,\n",
       "         79.91492794,  80.46822737,  81.02152679,  81.57482622,\n",
       "         82.12812565,  82.68142507,  83.2347245 ,  83.78802393,\n",
       "         84.34132335,  84.89462278,  85.4479222 ,  86.00122163,\n",
       "         86.55452106,  87.10782048,  87.66111991,  88.21441934,\n",
       "         88.76771876,  89.32101819,  89.87431762,  90.42761704,\n",
       "         90.98091647,  91.5342159 ,  92.08751532,  92.64081475,\n",
       "         93.19411418,  93.7474136 ,  94.30071303,  94.85401246,\n",
       "         95.40731188,  95.96061131,  96.51391074,  97.06721016,\n",
       "         97.62050959,  98.17380902,  98.72710844,  99.28040787,\n",
       "         99.8337073 , 100.38700672, 100.94030615, 101.49360558,\n",
       "        102.046905  , 102.60020443, 103.15350385, 103.70680328,\n",
       "        104.26010271, 104.81340213, 105.36670156, 105.92000099,\n",
       "        106.47330041, 107.02659984, 107.57989927, 108.13319869,\n",
       "        108.68649812, 109.23979755, 109.79309697, 110.3463964 ,\n",
       "        110.89969583, 111.45299525, 112.00629468, 112.55959411,\n",
       "        113.11289353, 113.66619296, 114.21949239, 114.77279181,\n",
       "        115.32609124, 115.87939067, 116.43269009, 116.98598952,\n",
       "        117.53928895, 118.09258837, 118.6458878 , 119.19918723,\n",
       "        119.75248665, 120.30578608, 120.85908551, 121.41238493,\n",
       "        121.96568436, 122.51898378, 123.07228321, 123.62558264,\n",
       "        124.17888206, 124.73218149, 125.28548092, 125.83878034,\n",
       "        126.39207977, 126.9453792 , 127.49867862, 128.05197805,\n",
       "        128.60527748, 129.1585769 , 129.71187633, 130.26517576,\n",
       "        130.81847518, 131.37177461, 131.92507404, 132.47837346,\n",
       "        133.03167289, 133.58497232, 134.13827174, 134.69157117,\n",
       "        135.2448706 , 135.79817002, 136.35146945, 136.90476888,\n",
       "        137.4580683 , 138.01136773, 138.56466716, 139.11796658,\n",
       "        139.67126601, 140.22456543, 140.77786486, 141.33116429,\n",
       "        141.88446371, 142.43776314, 142.99106257, 143.54436199,\n",
       "        144.09766142, 144.65096085, 145.20426027, 145.7575597 ,\n",
       "        146.31085913, 146.86415855, 147.41745798, 147.97075741,\n",
       "        148.52405683, 149.07735626, 149.63065569, 150.18395511,\n",
       "        150.73725454, 151.29055397, 151.84385339, 152.39715282,\n",
       "        152.95045225, 153.50375167, 154.0570511 , 154.61035053,\n",
       "        155.16364995, 155.71694938, 156.27024881, 156.82354823,\n",
       "        157.37684766, 157.93014708, 158.48344651, 159.03674594,\n",
       "        159.59004536, 160.14334479, 160.69664422, 161.24994364,\n",
       "        161.80324307, 162.3565425 , 162.90984192, 163.46314135,\n",
       "        164.01644078, 164.5697402 , 165.12303963, 165.67633906,\n",
       "        166.22963848, 166.78293791, 167.33623734, 167.88953676,\n",
       "        168.44283619, 168.99613562, 169.54943504, 170.10273447,\n",
       "        170.6560339 , 171.20933332]),\n",
       " <BarContainer object of 309 artists>)"
      ]
     },
     "execution_count": 20,
     "metadata": {},
     "output_type": "execute_result"
    },
    {
     "data": {
      "image/png": "[encoded data removed]",
      "text/plain": [
       "<Figure size 432x288 with 1 Axes>"
      ]
     },
     "metadata": {
      "needs_background": "light"
     },
     "output_type": "display_data"
    }
   ],
   "source": [
    "plt.hist(all_results[:, 0], bins='auto')"
   ]
  },
  {
   "cell_type": "code",
   "execution_count": 21,
   "metadata": {},
   "outputs": [
    {
     "data": {
      "text/plain": [
       "array([171.20933332,   2.79293346,   0.92357702, ...,   1.63869376,\n",
       "         2.45430878,   3.33066261])"
      ]
     },
     "execution_count": 21,
     "metadata": {},
     "output_type": "execute_result"
    }
   ],
   "source": [
    "all_results[:, 0]"
   ]
  },
  {
   "cell_type": "code",
   "execution_count": 22,
   "metadata": {
    "scrolled": false
   },
   "outputs": [
    {
     "data": {
      "text/plain": [
       "array([1.0e-01, 5.5e+00, 1.0e-01, 1.0e-04, 1.0e-04])"
      ]
     },
     "execution_count": 22,
     "metadata": {},
     "output_type": "execute_result"
    }
   ],
   "source": [
    "scaled_samples[0]"
   ]
  },
  {
   "cell_type": "code",
   "execution_count": 23,
   "metadata": {},
   "outputs": [
    {
     "data": {
      "text/plain": [
       "array([5.0005e+02, 6.7500e+00, 5.0050e+01, 5.0500e-03, 5.5000e-04])"
      ]
     },
     "execution_count": 23,
     "metadata": {},
     "output_type": "execute_result"
    }
   ],
   "source": [
    "scaled_samples[1]"
   ]
  },
  {
   "cell_type": "code",
   "execution_count": 25,
   "metadata": {},
   "outputs": [
    {
     "name": "stdout",
     "output_type": "stream",
     "text": [
      "Collecting scikit-learn\n",
      "  Downloading scikit_learn-0.24.2-cp37-cp37m-manylinux2010_x86_64.whl (22.3 MB)\n",
      "\u001b[K     |████████████████████████████████| 22.3 MB 15.2 MB/s eta 0:00:01\n",
      "\u001b[?25hRequirement already satisfied: scipy>=0.19.1 in /home/sebtsh/anaconda3/envs/fastdrbo/lib/python3.7/site-packages (from scikit-learn) (1.7.0)\n",
      "Collecting joblib>=0.11\n",
      "  Downloading joblib-1.0.1-py3-none-any.whl (303 kB)\n",
      "\u001b[K     |████████████████████████████████| 303 kB 60.5 MB/s eta 0:00:01\n",
      "\u001b[?25hRequirement already satisfied: numpy>=1.13.3 in /home/sebtsh/anaconda3/envs/fastdrbo/lib/python3.7/site-packages (from scikit-learn) (1.19.5)\n",
      "Collecting threadpoolctl>=2.0.0\n",
      "  Downloading threadpoolctl-2.2.0-py3-none-any.whl (12 kB)\n",
      "Installing collected packages: threadpoolctl, joblib, scikit-learn\n",
      "Successfully installed joblib-1.0.1 scikit-learn-0.24.2 threadpoolctl-2.2.0\n"
     ]
    }
   ],
   "source": [
    "! pip install scikit-learn"
   ]
  },
  {
   "cell_type": "code",
   "execution_count": 26,
   "metadata": {
    "scrolled": true
   },
   "outputs": [],
   "source": [
    "from sklearn.neighbors import NearestNeighbors"
   ]
  },
  {
   "cell_type": "code",
   "execution_count": 27,
   "metadata": {},
   "outputs": [],
   "source": [
    "neigh = NearestNeighbors(n_neighbors=5)"
   ]
  },
  {
   "cell_type": "code",
   "execution_count": 48,
   "metadata": {},
   "outputs": [
    {
     "data": {
      "text/plain": [
       "NearestNeighbors()"
      ]
     },
     "execution_count": 48,
     "metadata": {},
     "output_type": "execute_result"
    }
   ],
   "source": [
    "neigh.fit(scaled_samples[:, 0:1])"
   ]
  },
  {
   "cell_type": "code",
   "execution_count": 50,
   "metadata": {},
   "outputs": [
    {
     "data": {
      "text/plain": [
       "(array([[0.        , 0.48823242, 0.73234863, 0.97646484, 1.46469727]]),\n",
       " array([[   0, 2047, 2048, 1023, 1024]]))"
      ]
     },
     "execution_count": 50,
     "metadata": {},
     "output_type": "execute_result"
    }
   ],
   "source": [
    "neigh.kneighbors(scaled_samples[0, 0:1][None, :])"
   ]
  },
  {
   "cell_type": "code",
   "execution_count": 31,
   "metadata": {},
   "outputs": [
    {
     "data": {
      "text/plain": [
       "array([1.03528809e+01, 6.84887695e+00, 3.56333008e+00, 1.46801758e-03,\n",
       "       5.56591797e-04])"
      ]
     },
     "execution_count": 31,
     "metadata": {},
     "output_type": "execute_result"
    }
   ],
   "source": [
    "scaled_samples[1663]"
   ]
  },
  {
   "cell_type": "code",
   "execution_count": 34,
   "metadata": {},
   "outputs": [
    {
     "data": {
      "text/plain": [
       "array([27.62332236, 27.50805365, 18.69949163,  1.47179059, 17.58753614])"
      ]
     },
     "execution_count": 34,
     "metadata": {},
     "output_type": "execute_result"
    }
   ],
   "source": [
    "all_results[1663]"
   ]
  },
  {
   "cell_type": "code",
   "execution_count": 35,
   "metadata": {},
   "outputs": [
    {
     "data": {
      "text/plain": [
       "array([34.32134688, 34.20607817, 28.86735179,  1.18552932, 27.90240818])"
      ]
     },
     "execution_count": 35,
     "metadata": {},
     "output_type": "execute_result"
    }
   ],
   "source": [
    "all_results[2304]"
   ]
  },
  {
   "cell_type": "code",
   "execution_count": 36,
   "metadata": {},
   "outputs": [
    {
     "data": {
      "text/plain": [
       "array([34.32134758, 34.20607888, 28.86735299,  1.18552929, 27.90240968])"
      ]
     },
     "execution_count": 36,
     "metadata": {},
     "output_type": "execute_result"
    }
   ],
   "source": [
    "all_results[1535]"
   ]
  },
  {
   "cell_type": "code",
   "execution_count": 37,
   "metadata": {},
   "outputs": [
    {
     "data": {
      "text/plain": [
       "array([34.32134527, 34.20607656, 28.86734948,  1.18552936, 27.90240453])"
      ]
     },
     "execution_count": 37,
     "metadata": {},
     "output_type": "execute_result"
    }
   ],
   "source": [
    "all_results[896]"
   ]
  },
  {
   "cell_type": "code",
   "execution_count": 38,
   "metadata": {},
   "outputs": [
    {
     "data": {
      "text/plain": [
       "array([6.69113770e+00, 5.96691895e+00, 8.85588379e+00, 9.56252441e-03,\n",
       "       6.28442383e-04])"
      ]
     },
     "execution_count": 38,
     "metadata": {},
     "output_type": "execute_result"
    }
   ],
   "source": [
    "scaled_samples[2304]"
   ]
  },
  {
   "cell_type": "code",
   "execution_count": 40,
   "metadata": {},
   "outputs": [
    {
     "data": {
      "text/plain": [
       "array([3.51762695e+00, 7.69604492e+00, 1.02948730e+01, 6.44702148e-03,\n",
       "       8.45751953e-04])"
      ]
     },
     "execution_count": 40,
     "metadata": {},
     "output_type": "execute_result"
    }
   ],
   "source": [
    "scaled_samples[1535]"
   ]
  },
  {
   "cell_type": "code",
   "execution_count": 41,
   "metadata": {},
   "outputs": [
    {
     "data": {
      "text/plain": [
       "array([8.88818359e+00, 6.54248047e+00, 7.41689453e+00, 5.33037109e-03,\n",
       "       4.01464844e-04])"
      ]
     },
     "execution_count": 41,
     "metadata": {},
     "output_type": "execute_result"
    }
   ],
   "source": [
    "scaled_samples[896]"
   ]
  },
  {
   "cell_type": "code",
   "execution_count": 32,
   "metadata": {
    "scrolled": false
   },
   "outputs": [
    {
     "data": {
      "text/plain": [
       "array([1.0e-01, 5.5e+00, 1.0e-01, 1.0e-04, 1.0e-04])"
      ]
     },
     "execution_count": 32,
     "metadata": {},
     "output_type": "execute_result"
    }
   ],
   "source": [
    "scaled_samples[0]"
   ]
  },
  {
   "cell_type": "code",
   "execution_count": 47,
   "metadata": {},
   "outputs": [
    {
     "data": {
      "text/plain": [
       "(array([199., 200., 201., 200., 199., 201., 200., 198., 201., 199., 202.,\n",
       "        199., 200., 200., 201.]),\n",
       " array([1.00000000e-01, 6.67437256e+01, 1.33387451e+02, 2.00031177e+02,\n",
       "        2.66674902e+02, 3.33318628e+02, 3.99962354e+02, 4.66606079e+02,\n",
       "        5.33249805e+02, 5.99893530e+02, 6.66537256e+02, 7.33180981e+02,\n",
       "        7.99824707e+02, 8.66468433e+02, 9.33112158e+02, 9.99755884e+02]),\n",
       " <BarContainer object of 15 artists>)"
      ]
     },
     "execution_count": 47,
     "metadata": {},
     "output_type": "execute_result"
    },
    {
     "data": {
      "image/png": "[encoded data removed]",
      "text/plain": [
       "<Figure size 432x288 with 1 Axes>"
      ]
     },
     "metadata": {
      "needs_background": "light"
     },
     "output_type": "display_data"
    }
   ],
   "source": [
    "plt.hist(scaled_samples[:, 0], bins='auto')"
   ]
  },
  {
   "cell_type": "code",
   "execution_count": 54,
   "metadata": {},
   "outputs": [
    {
     "data": {
      "text/plain": [
       "array([5.88232422e-01, 7.06860352e+00, 9.31221191e+01, 3.57563477e-03,\n",
       "       6.67333984e-04])"
      ]
     },
     "execution_count": 54,
     "metadata": {},
     "output_type": "execute_result"
    }
   ],
   "source": [
    "scaled_samples[2047]"
   ]
  },
  {
   "cell_type": "code",
   "execution_count": 55,
   "metadata": {},
   "outputs": [
    {
     "data": {
      "text/plain": [
       "array([34.32135627, 34.20608757, 28.86736373,  1.18552915, 27.9024204 ])"
      ]
     },
     "execution_count": 55,
     "metadata": {},
     "output_type": "execute_result"
    }
   ],
   "source": [
    "all_results[2047]"
   ]
  },
  {
   "cell_type": "code",
   "execution_count": null,
   "metadata": {},
   "outputs": [],
   "source": []
  },
  {
   "cell_type": "code",
   "execution_count": null,
   "metadata": {},
   "outputs": [],
   "source": []
  },
  {
   "cell_type": "code",
   "execution_count": null,
   "metadata": {},
   "outputs": [],
   "source": []
  },
  {
   "cell_type": "code",
   "execution_count": null,
   "metadata": {},
   "outputs": [],
   "source": []
  },
  {
   "cell_type": "code",
   "execution_count": 108,
   "metadata": {},
   "outputs": [],
   "source": [
    "all_results = pickle.load(open(\"data/portfolio/all_results.p\",'rb'))"
   ]
  },
  {
   "cell_type": "code",
   "execution_count": 141,
   "metadata": {},
   "outputs": [
    {
     "data": {
      "text/plain": [
       "(array([  42,   16,   16,   37,   58,   26,   16,   21,   13,   12,    9,\n",
       "           4,    9,    6,    7,    3,   16,   21,   42, 1674]),\n",
       " array([0.84697728, 0.86408173, 0.88118619, 0.89829065, 0.9153951 ,\n",
       "        0.93249956, 0.94960402, 0.96670848, 0.98381293, 1.00091739,\n",
       "        1.01802185, 1.0351263 , 1.05223076, 1.06933522, 1.08643967,\n",
       "        1.10354413, 1.12064859, 1.13775305, 1.1548575 , 1.17196196,\n",
       "        1.18906642]))"
      ]
     },
     "execution_count": 141,
     "metadata": {},
     "output_type": "execute_result"
    }
   ],
   "source": [
    "np.histogram(all_results[:, 3], bins=20)"
   ]
  },
  {
   "cell_type": "code",
   "execution_count": 110,
   "metadata": {},
   "outputs": [
    {
     "data": {
      "text/plain": [
       "546"
      ]
     },
     "execution_count": 110,
     "metadata": {},
     "output_type": "execute_result"
    }
   ],
   "source": [
    "np.argmax(all_results[:, 0])"
   ]
  },
  {
   "cell_type": "code",
   "execution_count": 111,
   "metadata": {},
   "outputs": [
    {
     "data": {
      "text/plain": [
       "array([94.5556518 , 94.44038309, 80.42359918,  1.17487103, 64.74917225])"
      ]
     },
     "execution_count": 111,
     "metadata": {},
     "output_type": "execute_result"
    }
   ],
   "source": [
    "all_results[546]"
   ]
  },
  {
   "cell_type": "code",
   "execution_count": 113,
   "metadata": {},
   "outputs": [],
   "source": [
    "sampler = qmc.Sobol(d=4, scramble=False)\n",
    "sample = sampler.random(2048)\n",
    "lowers = [5.5, 0.1, 1e-04, 1e-04]\n",
    "uppers = [8, 100, 1e-02, 1e-03]\n",
    "scaled_samples = qmc.scale(sample, lowers, uppers)"
   ]
  },
  {
   "cell_type": "code",
   "execution_count": 115,
   "metadata": {},
   "outputs": [
    {
     "data": {
      "text/plain": [
       "array([7.49951172e+00, 2.67334961e+01, 1.09667969e-04, 2.74902344e-04])"
      ]
     },
     "execution_count": 115,
     "metadata": {},
     "output_type": "execute_result"
    }
   ],
   "source": [
    "scaled_samples[546]"
   ]
  },
  {
   "cell_type": "code",
   "execution_count": null,
   "metadata": {},
   "outputs": [],
   "source": []
  },
  {
   "cell_type": "code",
   "execution_count": 121,
   "metadata": {},
   "outputs": [
    {
     "data": {
      "text/plain": [
       "537"
      ]
     },
     "execution_count": 121,
     "metadata": {},
     "output_type": "execute_result"
    }
   ],
   "source": [
    "np.argmin(all_results[:, 0])"
   ]
  },
  {
   "cell_type": "code",
   "execution_count": 122,
   "metadata": {},
   "outputs": [
    {
     "data": {
      "text/plain": [
       "array([7.14794922e+00, 9.07319336e+01, 9.85498047e-03, 6.82714844e-04])"
      ]
     },
     "execution_count": 122,
     "metadata": {},
     "output_type": "execute_result"
    }
   ],
   "source": [
    "scaled_samples[537]"
   ]
  }
 ],
 "metadata": {
  "kernelspec": {
   "display_name": "Python 3",
   "language": "python",
   "name": "python3"
  },
  "language_info": {
   "codemirror_mode": {
    "name": "ipython",
    "version": 3
   },
   "file_extension": ".py",
   "mimetype": "text/x-python",
   "name": "python",
   "nbconvert_exporter": "python",
   "pygments_lexer": "ipython3",
   "version": "3.7.10"
  }
 },
 "nbformat": 4,
 "nbformat_minor": 4
}
