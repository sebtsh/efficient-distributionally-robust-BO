{
 "cells": [
  {
   "cell_type": "code",
   "execution_count": 51,
   "metadata": {},
   "outputs": [],
   "source": [
    "import os\n",
    "import sys\n",
    "\n",
    "%matplotlib inline\n",
    "import pandas as pd\n",
    "import cvxportfolio as cp\n",
    "import quandl\n",
    "import numpy as np\n",
    "import pickle\n",
    "from scipy.stats import qmc\n",
    "from tqdm import trange"
   ]
  },
  {
   "cell_type": "code",
   "execution_count": 48,
   "metadata": {},
   "outputs": [],
   "source": [
    "def extract_results(result):\n",
    "    portfolio_return = result.returns.mean() * 100 * result.PPY\n",
    "    excess_return = result.excess_returns.mean() * 100 * result.PPY\n",
    "    excess_risk = result.excess_returns.std() * 100 * np.sqrt(result.PPY)\n",
    "    sharpe_ratio = result.sharpe_ratio\n",
    "    max_drawdown = result.max_drawdown\n",
    "    return [portfolio_return, excess_return, excess_risk, sharpe_ratio, max_drawdown]"
   ]
  },
  {
   "cell_type": "code",
   "execution_count": 40,
   "metadata": {},
   "outputs": [],
   "source": [
    "quandl.ApiConfig.api_key = 'XB2H55DxdNiJjBbLvCzu'"
   ]
  },
  {
   "cell_type": "code",
   "execution_count": 41,
   "metadata": {},
   "outputs": [
    {
     "data": {
      "text/html": [
       "<div>\n",
       "<style scoped>\n",
       "    .dataframe tbody tr th:only-of-type {\n",
       "        vertical-align: middle;\n",
       "    }\n",
       "\n",
       "    .dataframe tbody tr th {\n",
       "        vertical-align: top;\n",
       "    }\n",
       "\n",
       "    .dataframe thead th {\n",
       "        text-align: right;\n",
       "    }\n",
       "</style>\n",
       "<table border=\"1\" class=\"dataframe\">\n",
       "  <thead>\n",
       "    <tr style=\"text-align: right;\">\n",
       "      <th></th>\n",
       "      <th>AMZN</th>\n",
       "      <th>GOOGL</th>\n",
       "      <th>TSLA</th>\n",
       "      <th>NKE</th>\n",
       "      <th>USDOLLAR</th>\n",
       "    </tr>\n",
       "    <tr>\n",
       "      <th>Date</th>\n",
       "      <th></th>\n",
       "      <th></th>\n",
       "      <th></th>\n",
       "      <th></th>\n",
       "      <th></th>\n",
       "    </tr>\n",
       "  </thead>\n",
       "  <tbody>\n",
       "    <tr>\n",
       "      <th>2016-12-23</th>\n",
       "      <td>-0.007503</td>\n",
       "      <td>-0.002322</td>\n",
       "      <td>0.023459</td>\n",
       "      <td>-0.004411</td>\n",
       "      <td>0.000020</td>\n",
       "    </tr>\n",
       "    <tr>\n",
       "      <th>2016-12-27</th>\n",
       "      <td>0.014213</td>\n",
       "      <td>0.002637</td>\n",
       "      <td>0.029015</td>\n",
       "      <td>-0.011944</td>\n",
       "      <td>0.000020</td>\n",
       "    </tr>\n",
       "    <tr>\n",
       "      <th>2016-12-28</th>\n",
       "      <td>0.000946</td>\n",
       "      <td>-0.006618</td>\n",
       "      <td>0.000957</td>\n",
       "      <td>-0.005264</td>\n",
       "      <td>0.000021</td>\n",
       "    </tr>\n",
       "    <tr>\n",
       "      <th>2016-12-29</th>\n",
       "      <td>-0.009040</td>\n",
       "      <td>-0.002101</td>\n",
       "      <td>-0.023027</td>\n",
       "      <td>0.000784</td>\n",
       "      <td>0.000018</td>\n",
       "    </tr>\n",
       "    <tr>\n",
       "      <th>2016-12-30</th>\n",
       "      <td>-0.019970</td>\n",
       "      <td>-0.012991</td>\n",
       "      <td>-0.004612</td>\n",
       "      <td>-0.004505</td>\n",
       "      <td>0.000020</td>\n",
       "    </tr>\n",
       "  </tbody>\n",
       "</table>\n",
       "</div>"
      ],
      "text/plain": [
       "                AMZN     GOOGL      TSLA       NKE  USDOLLAR\n",
       "Date                                                        \n",
       "2016-12-23 -0.007503 -0.002322  0.023459 -0.004411  0.000020\n",
       "2016-12-27  0.014213  0.002637  0.029015 -0.011944  0.000020\n",
       "2016-12-28  0.000946 -0.006618  0.000957 -0.005264  0.000021\n",
       "2016-12-29 -0.009040 -0.002101 -0.023027  0.000784  0.000018\n",
       "2016-12-30 -0.019970 -0.012991 -0.004612 -0.004505  0.000020"
      ]
     },
     "execution_count": 41,
     "metadata": {},
     "output_type": "execute_result"
    }
   ],
   "source": [
    "tickers = ['AMZN', 'GOOGL', 'TSLA', 'NKE']\n",
    "start_date='2012-01-01'\n",
    "end_date='2016-12-31'\n",
    "returns = pd.DataFrame(dict([(ticker, quandl.get('WIKI/'+ticker, \n",
    "                                    start_date=start_date, \n",
    "                                    end_date=end_date)['Adj. Close'].pct_change())\n",
    "                for ticker in tickers]))\n",
    "returns[[\"USDOLLAR\"]]=quandl.get('FRED/DTB3', start_date=start_date, end_date=end_date)/(250*100)\n",
    "returns = returns.fillna(method='ffill').iloc[1:]\n",
    "\n",
    "returns.tail()"
   ]
  },
  {
   "cell_type": "code",
   "execution_count": 42,
   "metadata": {},
   "outputs": [
    {
     "data": {
      "text/html": [
       "<div>\n",
       "<style scoped>\n",
       "    .dataframe tbody tr th:only-of-type {\n",
       "        vertical-align: middle;\n",
       "    }\n",
       "\n",
       "    .dataframe tbody tr th {\n",
       "        vertical-align: top;\n",
       "    }\n",
       "\n",
       "    .dataframe thead th {\n",
       "        text-align: right;\n",
       "    }\n",
       "</style>\n",
       "<table border=\"1\" class=\"dataframe\">\n",
       "  <thead>\n",
       "    <tr style=\"text-align: right;\">\n",
       "      <th></th>\n",
       "      <th>AMZN</th>\n",
       "      <th>GOOGL</th>\n",
       "      <th>TSLA</th>\n",
       "      <th>NKE</th>\n",
       "      <th>USDOLLAR</th>\n",
       "    </tr>\n",
       "    <tr>\n",
       "      <th>Date</th>\n",
       "      <th></th>\n",
       "      <th></th>\n",
       "      <th></th>\n",
       "      <th></th>\n",
       "      <th></th>\n",
       "    </tr>\n",
       "  </thead>\n",
       "  <tbody>\n",
       "    <tr>\n",
       "      <th>2016-12-23</th>\n",
       "      <td>0.000683</td>\n",
       "      <td>0.000219</td>\n",
       "      <td>-0.000074</td>\n",
       "      <td>-0.000660</td>\n",
       "      <td>0.000012</td>\n",
       "    </tr>\n",
       "    <tr>\n",
       "      <th>2016-12-27</th>\n",
       "      <td>0.000542</td>\n",
       "      <td>0.000150</td>\n",
       "      <td>-0.000124</td>\n",
       "      <td>-0.000706</td>\n",
       "      <td>0.000013</td>\n",
       "    </tr>\n",
       "    <tr>\n",
       "      <th>2016-12-28</th>\n",
       "      <td>0.000627</td>\n",
       "      <td>0.000179</td>\n",
       "      <td>-0.000023</td>\n",
       "      <td>-0.000691</td>\n",
       "      <td>0.000013</td>\n",
       "    </tr>\n",
       "    <tr>\n",
       "      <th>2016-12-29</th>\n",
       "      <td>0.000707</td>\n",
       "      <td>0.000215</td>\n",
       "      <td>-0.000052</td>\n",
       "      <td>-0.000664</td>\n",
       "      <td>0.000013</td>\n",
       "    </tr>\n",
       "    <tr>\n",
       "      <th>2016-12-30</th>\n",
       "      <td>0.000901</td>\n",
       "      <td>0.000302</td>\n",
       "      <td>0.000133</td>\n",
       "      <td>-0.000598</td>\n",
       "      <td>0.000013</td>\n",
       "    </tr>\n",
       "  </tbody>\n",
       "</table>\n",
       "</div>"
      ],
      "text/plain": [
       "                AMZN     GOOGL      TSLA       NKE  USDOLLAR\n",
       "Date                                                        \n",
       "2016-12-23  0.000683  0.000219 -0.000074 -0.000660  0.000012\n",
       "2016-12-27  0.000542  0.000150 -0.000124 -0.000706  0.000013\n",
       "2016-12-28  0.000627  0.000179 -0.000023 -0.000691  0.000013\n",
       "2016-12-29  0.000707  0.000215 -0.000052 -0.000664  0.000013\n",
       "2016-12-30  0.000901  0.000302  0.000133 -0.000598  0.000013"
      ]
     },
     "execution_count": 42,
     "metadata": {},
     "output_type": "execute_result"
    }
   ],
   "source": [
    "r_hat = returns.rolling(window=250, min_periods=250).mean().shift(1).dropna()\n",
    "Sigma_hat = returns.rolling(window=250, min_periods=250, closed='neither').cov().dropna().droplevel(1)\n",
    "\n",
    "r_hat.tail()"
   ]
  },
  {
   "cell_type": "code",
   "execution_count": 86,
   "metadata": {},
   "outputs": [],
   "source": [
    "def get_returns(params):\n",
    "    risk_aversion = params[0]\n",
    "    trade_aversion = params[1]\n",
    "    holding_cost = params[2]\n",
    "    bid_ask_spread = params[3]\n",
    "    borrow_cost = params[4]\n",
    "    \n",
    "    # Context parameters\n",
    "    tcost_model=cp.TcostModel(half_spread=0.5 * bid_ask_spread)\n",
    "    hcost_model=cp.HcostModel(borrow_costs=borrow_cost)\n",
    "\n",
    "    risk_model = cp.FullSigma(Sigma_hat)\n",
    "    # Action parameters\n",
    "    leverage_limit = cp.LeverageLimit(5)\n",
    "\n",
    "    spo_policy = cp.SinglePeriodOpt(return_forecast=r_hat, \n",
    "                                    costs=[risk_aversion*risk_model, trade_aversion*tcost_model, holding_cost*hcost_model],\n",
    "                                    constraints=[leverage_limit])\n",
    "\n",
    "    market_sim=cp.MarketSimulator(returns, [tcost_model, hcost_model], cash_key='USDOLLAR') \n",
    "    init_portfolio = pd.Series(index=returns.columns, data=250000.)\n",
    "    init_portfolio.USDOLLAR = 0\n",
    "    results = market_sim.run_multiple_backtest(init_portfolio,\n",
    "                                   start_time='2013-01-03',  end_time='2016-12-31',  \n",
    "                                   policies=[spo_policy, cp.Hold()])\n",
    "    lst = extract_results(results[0])\n",
    "    return lst[0]"
   ]
  },
  {
   "cell_type": "code",
   "execution_count": null,
   "metadata": {},
   "outputs": [],
   "source": []
  },
  {
   "cell_type": "code",
   "execution_count": 104,
   "metadata": {},
   "outputs": [
    {
     "name": "stdout",
     "output_type": "stream",
     "text": [
      "[1.e-01 1.e+00 1.e+01 1.e+02 1.e+03]\n"
     ]
    }
   ],
   "source": [
    "test_idx = 0\n",
    "num_tests = 5\n",
    "exps = np.linspace(np.log(lowers[test_idx]), np.log(uppers[test_idx]), num_tests)\n",
    "print(np.exp(exps))"
   ]
  },
  {
   "cell_type": "code",
   "execution_count": 118,
   "metadata": {},
   "outputs": [],
   "source": [
    "def get_test_params(test_idx, uppers, lowers, num_tests=10, mode='mid'):\n",
    "    \"\"\"\n",
    "    Returns an array of shape (num_params, 5), for passing to the simulator/\n",
    "    :param test_idx: int. if 0, tests first param (risk aversion), if 1, tests second param (trade aversion), and so on\n",
    "    \"\"\"\n",
    "    if mode == 'mid':\n",
    "        test_params = np.tile((uppers - (uppers - lowers)/2)[None, :], (num_tests, 1))\n",
    "    elif mode == 'min':\n",
    "        test_params = np.tile(lowers[None, :], (num_tests, 1))\n",
    "    elif mode == 'max':\n",
    "        test_params = np.tile(uppers[None, :], (num_tests, 1))\n",
    "\n",
    "    exps = np.linspace(np.log(lowers[test_idx]), np.log(uppers[test_idx]), num_tests)\n",
    "\n",
    "    #test_params[:, test_idx] = np.linspace(lowers[test_idx], uppers[test_idx], num_tests)\n",
    "    test_params[:, test_idx] = np.exp(exps)\n",
    "\n",
    "    return test_params"
   ]
  },
  {
   "cell_type": "code",
   "execution_count": 125,
   "metadata": {},
   "outputs": [],
   "source": [
    "# lowers = np.array([0.1, 5.5, 1e-04, 1e-04])\n",
    "# uppers = np.array([10, 8, 1.5e-03, 1e-03])\n",
    "\n",
    "# lowers = np.array([0.1, 0.1, 1e-04, 1e-04])\n",
    "# uppers = np.array([10, 10, 1.5e-03, 1e-02])\n",
    "# var = np.array([1.47614056e+02, 7.26460678e+01, 6.55794444e+01, 2.06741708e-09])\n",
    "\n",
    "lowers = np.array([0.1, 5.5, 0.1, 1e-04, 1e-04])\n",
    "uppers = np.array([0.1, 8, 100, 1e-02, 1e-03])"
   ]
  },
  {
   "cell_type": "code",
   "execution_count": 132,
   "metadata": {
    "scrolled": false
   },
   "outputs": [
    {
     "name": "stderr",
     "output_type": "stream",
     "text": [
      "  0%|                                                                                                         | 0/5 [00:00<?, ?it/s]\n",
      "  0%|                                                                                                         | 0/5 [00:00<?, ?it/s]\u001b[A\n",
      " 20%|███████████████████▍                                                                             | 1/5 [00:48<03:13, 48.42s/it]\u001b[A\n",
      " 40%|██████████████████████████████████████▊                                                          | 2/5 [01:36<02:24, 48.18s/it]\u001b[A\n",
      " 60%|██████████████████████████████████████████████████████████▏                                      | 3/5 [02:24<01:36, 48.20s/it]\u001b[A\n",
      " 80%|█████████████████████████████████████████████████████████████████████████████▌                   | 4/5 [03:13<00:48, 48.27s/it]\u001b[A\n",
      "100%|█████████████████████████████████████████████████████████████████████████████████████████████████| 5/5 [04:01<00:00, 48.21s/it]\u001b[A\n",
      " 20%|███████████████████▏                                                                            | 1/5 [04:01<16:04, 241.07s/it]\n",
      "  0%|                                                                                                         | 0/5 [00:00<?, ?it/s]\u001b[A\n",
      " 20%|███████████████████▍                                                                             | 1/5 [00:48<03:13, 48.34s/it]\u001b[A\n",
      " 40%|██████████████████████████████████████▊                                                          | 2/5 [01:36<02:24, 48.22s/it]\u001b[A\n",
      " 60%|██████████████████████████████████████████████████████████▏                                      | 3/5 [02:24<01:36, 48.27s/it]\u001b[A\n",
      " 80%|█████████████████████████████████████████████████████████████████████████████▌                   | 4/5 [03:13<00:48, 48.38s/it]\u001b[A\n",
      "100%|█████████████████████████████████████████████████████████████████████████████████████████████████| 5/5 [04:02<00:00, 48.43s/it]\u001b[A\n",
      " 40%|██████████████████████████████████████▍                                                         | 2/5 [08:03<12:05, 241.69s/it]\n",
      "  0%|                                                                                                         | 0/5 [00:00<?, ?it/s]\u001b[A\n",
      " 20%|███████████████████▍                                                                             | 1/5 [00:48<03:14, 48.59s/it]\u001b[A\n",
      " 40%|██████████████████████████████████████▊                                                          | 2/5 [01:37<02:26, 48.70s/it]\u001b[A\n",
      " 60%|██████████████████████████████████████████████████████████▏                                      | 3/5 [02:26<01:37, 48.69s/it]\u001b[A\n",
      " 80%|█████████████████████████████████████████████████████████████████████████████▌                   | 4/5 [03:14<00:48, 48.50s/it]\u001b[A\n",
      "100%|█████████████████████████████████████████████████████████████████████████████████████████████████| 5/5 [04:03<00:00, 48.64s/it]\u001b[A\n",
      " 60%|█████████████████████████████████████████████████████████▌                                      | 3/5 [12:06<08:04, 242.39s/it]\n",
      "  0%|                                                                                                         | 0/5 [00:00<?, ?it/s]\u001b[A\n",
      " 20%|███████████████████▍                                                                             | 1/5 [00:52<03:29, 52.31s/it]\u001b[A\n",
      " 40%|██████████████████████████████████████▊                                                          | 2/5 [01:49<02:45, 55.31s/it]\u001b[A\n",
      " 60%|██████████████████████████████████████████████████████████▏                                      | 3/5 [02:45<01:51, 55.55s/it]\u001b[A\n",
      " 80%|█████████████████████████████████████████████████████████████████████████████▌                   | 4/5 [03:45<00:57, 57.29s/it]\u001b[A\n",
      "100%|█████████████████████████████████████████████████████████████████████████████████████████████████| 5/5 [04:35<00:00, 55.05s/it]\u001b[A\n",
      " 80%|████████████████████████████████████████████████████████████████████████████▊                   | 4/5 [16:41<04:15, 255.36s/it]\n",
      "  0%|                                                                                                         | 0/5 [00:00<?, ?it/s]\u001b[A\n",
      " 20%|███████████████████▍                                                                             | 1/5 [00:47<03:10, 47.59s/it]\u001b[A\n",
      " 40%|██████████████████████████████████████▊                                                          | 2/5 [01:35<02:22, 47.57s/it]\u001b[A\n",
      " 60%|██████████████████████████████████████████████████████████▏                                      | 3/5 [02:22<01:35, 47.63s/it]\u001b[A\n",
      " 80%|█████████████████████████████████████████████████████████████████████████████▌                   | 4/5 [03:11<00:47, 47.97s/it]\u001b[A\n",
      "100%|█████████████████████████████████████████████████████████████████████████████████████████████████| 5/5 [03:59<00:00, 47.87s/it]\u001b[A\n",
      "100%|████████████████████████████████████████████████████████████████████████████████████████████████| 5/5 [20:41<00:00, 248.20s/it]\n"
     ]
    }
   ],
   "source": [
    "num_tests = 5\n",
    "\n",
    "all_rets = []\n",
    "for test_idx in trange(len(lowers)):\n",
    "    rets = []\n",
    "    test_params = get_test_params(test_idx, uppers, lowers, num_tests, 'max')\n",
    "    for i in trange(num_tests):\n",
    "        params = test_params[i]\n",
    "        rets.append(get_returns(params))\n",
    "    all_rets.append(rets)"
   ]
  },
  {
   "cell_type": "code",
   "execution_count": 133,
   "metadata": {
    "scrolled": false
   },
   "outputs": [
    {
     "data": {
      "text/plain": [
       "array([[ 34.32134699,  34.32134699,  34.32134699,  34.32134699,\n",
       "         34.32134699],\n",
       "       [ 34.32134691,  34.32134695,  34.32134691,  34.321347  ,\n",
       "         34.32134699],\n",
       "       [ 34.3213487 ,  34.32134748,  34.32134715,  34.32134767,\n",
       "         34.32134699],\n",
       "       [289.24175432, 297.50873735, 159.7715454 ,  34.32134931,\n",
       "         34.32134699],\n",
       "       [ 34.32134764,  34.32134767,  34.32134812,  34.32134704,\n",
       "         34.32134699]])"
      ]
     },
     "execution_count": 133,
     "metadata": {},
     "output_type": "execute_result"
    }
   ],
   "source": [
    "np.array(all_rets)"
   ]
  },
  {
   "cell_type": "code",
   "execution_count": 134,
   "metadata": {
    "scrolled": true
   },
   "outputs": [
    {
     "data": {
      "text/plain": [
       "array([0.00000000e+00, 1.48350755e-15, 3.60316804e-13, 1.34312779e+04,\n",
       "       1.78779330e-13])"
      ]
     },
     "execution_count": 134,
     "metadata": {},
     "output_type": "execute_result"
    }
   ],
   "source": [
    "np.var(np.array(all_rets), axis=1)"
   ]
  },
  {
   "cell_type": "code",
   "execution_count": null,
   "metadata": {},
   "outputs": [],
   "source": []
  },
  {
   "cell_type": "code",
   "execution_count": null,
   "metadata": {},
   "outputs": [],
   "source": []
  },
  {
   "cell_type": "code",
   "execution_count": null,
   "metadata": {},
   "outputs": [],
   "source": []
  },
  {
   "cell_type": "code",
   "execution_count": null,
   "metadata": {},
   "outputs": [],
   "source": []
  },
  {
   "cell_type": "code",
   "execution_count": 28,
   "metadata": {},
   "outputs": [
    {
     "data": {
      "text/plain": [
       "array([ 0.        ,  1.11111111,  2.22222222,  3.33333333,  4.44444444,\n",
       "        5.55555556,  6.66666667,  7.77777778,  8.88888889, 10.        ])"
      ]
     },
     "execution_count": 28,
     "metadata": {},
     "output_type": "execute_result"
    }
   ],
   "source": [
    "np.linspace(0, 10, 10)"
   ]
  },
  {
   "cell_type": "code",
   "execution_count": 27,
   "metadata": {},
   "outputs": [
    {
     "data": {
      "text/plain": [
       "array([[9.9e+00, 2.5e+00, 1.4e-03, 9.0e-04],\n",
       "       [9.9e+00, 2.5e+00, 1.4e-03, 9.0e-04],\n",
       "       [9.9e+00, 2.5e+00, 1.4e-03, 9.0e-04],\n",
       "       [9.9e+00, 2.5e+00, 1.4e-03, 9.0e-04],\n",
       "       [9.9e+00, 2.5e+00, 1.4e-03, 9.0e-04]])"
      ]
     },
     "execution_count": 27,
     "metadata": {},
     "output_type": "execute_result"
    }
   ],
   "source": [
    "np.tile((uppers - lowers)[None, :], (5, 1))"
   ]
  },
  {
   "cell_type": "code",
   "execution_count": null,
   "metadata": {},
   "outputs": [],
   "source": []
  },
  {
   "cell_type": "code",
   "execution_count": null,
   "metadata": {},
   "outputs": [],
   "source": []
  },
  {
   "cell_type": "code",
   "execution_count": 11,
   "metadata": {},
   "outputs": [],
   "source": [
    "# Dimensions are [risk_aversion, trade_aversion, holding_cost, bid_ask_spread, borrow_cost]\n",
    "params = np.array([5.0005e+02, 6.7500e+00, 5.0050e+01, 5.0500e-03, 5.5000e-04])"
   ]
  },
  {
   "cell_type": "code",
   "execution_count": null,
   "metadata": {},
   "outputs": [],
   "source": []
  },
  {
   "cell_type": "code",
   "execution_count": null,
   "metadata": {},
   "outputs": [],
   "source": []
  },
  {
   "cell_type": "code",
   "execution_count": 8,
   "metadata": {
    "scrolled": true
   },
   "outputs": [
    {
     "ename": "NameError",
     "evalue": "name 'scaled_samples' is not defined",
     "output_type": "error",
     "traceback": [
      "\u001b[0;31m---------------------------------------------------------------------------\u001b[0m",
      "\u001b[0;31mNameError\u001b[0m                                 Traceback (most recent call last)",
      "\u001b[0;32m/tmp/ipykernel_848016/3515129453.py\u001b[0m in \u001b[0;36m<module>\u001b[0;34m\u001b[0m\n\u001b[0;32m----> 1\u001b[0;31m \u001b[0mparams\u001b[0m \u001b[0;34m=\u001b[0m \u001b[0mscaled_samples\u001b[0m\u001b[0;34m[\u001b[0m\u001b[0;36m546\u001b[0m\u001b[0;34m]\u001b[0m\u001b[0;34m\u001b[0m\u001b[0;34m\u001b[0m\u001b[0m\n\u001b[0m\u001b[1;32m      2\u001b[0m \u001b[0mparams\u001b[0m\u001b[0;34m\u001b[0m\u001b[0;34m\u001b[0m\u001b[0m\n",
      "\u001b[0;31mNameError\u001b[0m: name 'scaled_samples' is not defined"
     ]
    }
   ],
   "source": [
    "# params = scaled_samples[546]\n",
    "# params"
   ]
  },
  {
   "cell_type": "code",
   "execution_count": null,
   "metadata": {},
   "outputs": [],
   "source": []
  },
  {
   "cell_type": "code",
   "execution_count": null,
   "metadata": {},
   "outputs": [],
   "source": []
  },
  {
   "cell_type": "code",
   "execution_count": 12,
   "metadata": {},
   "outputs": [],
   "source": [
    "risk_aversion = params[0]\n",
    "trade_aversion = params[1]\n",
    "holding_cost = params[2]\n",
    "bid_ask_spread = params[3]\n",
    "borrow_cost = params[4]\n",
    "\n",
    "# risk_aversion = 1\n",
    "# trade_aversion = params[0]\n",
    "# holding_cost = params[1]\n",
    "# bid_ask_spread = params[2] * 15\n",
    "# borrow_cost = params[3]"
   ]
  },
  {
   "cell_type": "code",
   "execution_count": null,
   "metadata": {},
   "outputs": [],
   "source": []
  },
  {
   "cell_type": "code",
   "execution_count": 13,
   "metadata": {
    "scrolled": true
   },
   "outputs": [
    {
     "name": "stderr",
     "output_type": "stream",
     "text": [
      "/home/sebtsh/miniconda3/envs/fastdrbo/lib/python3.7/site-packages/cvxportfolio/utils/data_management.py:25: FutureWarning: The Panel class is removed from pandas. Accessing it from the top-level namespace will also be removed in the next version\n",
      "  if (isinstance(obj, pd.Panel) or\n"
     ]
    },
    {
     "name": "stdout",
     "output_type": "stream",
     "text": [
      "Number of periods                              1007\n",
      "Initial timestamp               2013-01-03 00:00:00\n",
      "Final timestamp                 2016-12-30 00:00:00\n",
      "Portfolio return (%)                          2.793\n",
      "Excess return (%)                             2.678\n",
      "Excess risk (%)                               2.286\n",
      "Sharpe ratio                                  1.172\n",
      "Max. drawdown                                 1.928\n",
      "Turnover (%)                                 25.450\n",
      "Average policy time (sec)                     0.033\n",
      "Average simulator time (sec)                  0.003\n"
     ]
    }
   ],
   "source": [
    "# Context parameters\n",
    "tcost_model=cp.TcostModel(half_spread=0.5 * bid_ask_spread)\n",
    "hcost_model=cp.HcostModel(borrow_costs=borrow_cost)\n",
    "\n",
    "risk_model = cp.FullSigma(Sigma_hat)\n",
    "# Action parameters\n",
    "leverage_limit = cp.LeverageLimit(3)\n",
    "\n",
    "spo_policy = cp.SinglePeriodOpt(return_forecast=r_hat, \n",
    "                                costs=[risk_aversion*risk_model, trade_aversion*tcost_model, holding_cost*hcost_model],\n",
    "                                constraints=[leverage_limit])\n",
    "\n",
    "market_sim=cp.MarketSimulator(returns, [tcost_model, hcost_model], cash_key='USDOLLAR') \n",
    "init_portfolio = pd.Series(index=returns.columns, data=250000.)\n",
    "init_portfolio.USDOLLAR = 0\n",
    "results = market_sim.run_multiple_backtest(init_portfolio,\n",
    "                               start_time='2013-01-03',  end_time='2016-12-31',  \n",
    "                               policies=[spo_policy, cp.Hold()])\n",
    "results[0].summary()"
   ]
  },
  {
   "cell_type": "code",
   "execution_count": 14,
   "metadata": {
    "scrolled": false
   },
   "outputs": [
    {
     "data": {
      "text/plain": [
       "0.011083069821205976"
      ]
     },
     "execution_count": 14,
     "metadata": {},
     "output_type": "execute_result"
    }
   ],
   "source": [
    "results[0].returns.mean() * 100"
   ]
  },
  {
   "cell_type": "code",
   "execution_count": 15,
   "metadata": {
    "scrolled": true
   },
   "outputs": [
    {
     "data": {
      "text/plain": [
       "<AxesSubplot:>"
      ]
     },
     "execution_count": 15,
     "metadata": {},
     "output_type": "execute_result"
    },
    {
     "data": {
      "image/png": "[encoded data removed]",
      "text/plain": [
       "<Figure size 864x360 with 1 Axes>"
      ]
     },
     "metadata": {
      "needs_background": "light"
     },
     "output_type": "display_data"
    }
   ],
   "source": [
    "results[0].v.plot(figsize=(12,5))\n",
    "results[1].v.plot(figsize=(12,5))"
   ]
  },
  {
   "cell_type": "code",
   "execution_count": 16,
   "metadata": {
    "scrolled": true
   },
   "outputs": [
    {
     "data": {
      "text/plain": [
       "<AxesSubplot:>"
      ]
     },
     "execution_count": 16,
     "metadata": {},
     "output_type": "execute_result"
    },
    {
     "data": {
      "image/png": "[encoded data removed]",
      "text/plain": [
       "<Figure size 864x432 with 1 Axes>"
      ]
     },
     "metadata": {
      "needs_background": "light"
     },
     "output_type": "display_data"
    }
   ],
   "source": [
    "results[0].w.plot(figsize=(12,6))"
   ]
  },
  {
   "cell_type": "code",
   "execution_count": 24,
   "metadata": {},
   "outputs": [],
   "source": [
    "# Dimensions are [risk_aversion, trade_aversion, holding_cost, bid_ask_spread, borrow_cost]"
   ]
  },
  {
   "cell_type": "code",
   "execution_count": 16,
   "metadata": {},
   "outputs": [],
   "source": [
    "sampler = qmc.Sobol(d=5, scramble=False)"
   ]
  },
  {
   "cell_type": "code",
   "execution_count": 20,
   "metadata": {},
   "outputs": [],
   "source": [
    "sample = sampler.random(3000)"
   ]
  },
  {
   "cell_type": "code",
   "execution_count": 21,
   "metadata": {
    "scrolled": true
   },
   "outputs": [
    {
     "data": {
      "text/plain": [
       "array([[0.14978027, 0.49499512, 0.98132324, 0.30310059, 0.51550293],\n",
       "       [0.64978027, 0.99499512, 0.48132324, 0.80310059, 0.01550293],\n",
       "       [0.89978027, 0.24499512, 0.73132324, 0.05310059, 0.26550293],\n",
       "       ...,\n",
       "       [0.85559082, 0.89660645, 0.95080566, 0.62902832, 0.70910645],\n",
       "       [0.60559082, 0.14660645, 0.20080566, 0.37902832, 0.95910645],\n",
       "       [0.10559082, 0.64660645, 0.70080566, 0.87902832, 0.45910645]])"
      ]
     },
     "execution_count": 21,
     "metadata": {},
     "output_type": "execute_result"
    }
   ],
   "source": [
    "sample"
   ]
  },
  {
   "cell_type": "code",
   "execution_count": 55,
   "metadata": {},
   "outputs": [
    {
     "data": {
      "text/plain": [
       "array([0.49980359, 0.50002421, 0.49963668, 0.50001103, 0.50038188])"
      ]
     },
     "execution_count": 55,
     "metadata": {},
     "output_type": "execute_result"
    }
   ],
   "source": [
    "np.mean(sample, axis=0)"
   ]
  },
  {
   "cell_type": "code",
   "execution_count": 41,
   "metadata": {},
   "outputs": [],
   "source": [
    "lowers = [0.1, 5.5, 0.1, 1e-04, 1e-04]\n",
    "uppers = [1000, 8, 100, 1e-02, 1e-03]"
   ]
  },
  {
   "cell_type": "code",
   "execution_count": 42,
   "metadata": {},
   "outputs": [
    {
     "data": {
      "text/plain": [
       "array([[5.00050000e+02, 6.75000000e+00, 5.00500000e+01, 5.05000000e-03,\n",
       "        5.50000000e-04],\n",
       "       [7.50025000e+02, 6.12500000e+00, 2.50750000e+01, 2.57500000e-03,\n",
       "        7.75000000e-04],\n",
       "       [2.50075000e+02, 7.37500000e+00, 7.50250000e+01, 7.52500000e-03,\n",
       "        3.25000000e-04],\n",
       "       ...,\n",
       "       [7.12675220e+02, 5.87658691e+00, 5.20743408e+01, 7.38723145e-03,\n",
       "        8.03344727e-04],\n",
       "       [2.12725220e+02, 7.12658691e+00, 2.12434082e+00, 2.43723145e-03,\n",
       "        3.53344727e-04],\n",
       "       [1.50231470e+02, 6.34533691e+00, 5.83180908e+01, 4.29348145e-03,\n",
       "        9.72094727e-04]])"
      ]
     },
     "execution_count": 42,
     "metadata": {},
     "output_type": "execute_result"
    }
   ],
   "source": [
    "scaled_sample = qmc.scale(sample, lowers, uppers)"
   ]
  },
  {
   "cell_type": "code",
   "execution_count": 57,
   "metadata": {},
   "outputs": [
    {
     "data": {
      "text/plain": [
       "[72.05850593104746,\n",
       " 71.94323722329396,\n",
       " 76.5321877167474,\n",
       " 0.940506512708237,\n",
       " 70.10326331796388]"
      ]
     },
     "execution_count": 57,
     "metadata": {},
     "output_type": "execute_result"
    }
   ],
   "source": [
    "extract_results(results[0])"
   ]
  },
  {
   "cell_type": "code",
   "execution_count": null,
   "metadata": {},
   "outputs": [],
   "source": []
  },
  {
   "cell_type": "code",
   "execution_count": null,
   "metadata": {},
   "outputs": [],
   "source": []
  },
  {
   "cell_type": "code",
   "execution_count": 14,
   "metadata": {},
   "outputs": [],
   "source": [
    "import os"
   ]
  },
  {
   "cell_type": "code",
   "execution_count": 15,
   "metadata": {},
   "outputs": [],
   "source": [
    "os.chdir('../../')"
   ]
  },
  {
   "cell_type": "code",
   "execution_count": 16,
   "metadata": {},
   "outputs": [
    {
     "data": {
      "text/plain": [
       "'/home/sebtsh/fast-drbo'"
      ]
     },
     "execution_count": 16,
     "metadata": {},
     "output_type": "execute_result"
    }
   ],
   "source": [
    "os.getcwd()"
   ]
  },
  {
   "cell_type": "code",
   "execution_count": 142,
   "metadata": {},
   "outputs": [],
   "source": [
    "scaled_samples = pickle.load(open('data/portfolio/scaled_samples.p','rb'))"
   ]
  },
  {
   "cell_type": "code",
   "execution_count": 143,
   "metadata": {},
   "outputs": [],
   "source": [
    "all_results = pickle.load(open('data/portfolio/all_results.p','rb'))"
   ]
  },
  {
   "cell_type": "code",
   "execution_count": 19,
   "metadata": {},
   "outputs": [],
   "source": [
    "import matplotlib.pyplot as plt"
   ]
  },
  {
   "cell_type": "code",
   "execution_count": 149,
   "metadata": {
    "scrolled": false
   },
   "outputs": [
    {
     "data": {
      "text/plain": [
       "(array([ 15.,  68., 111.,  85.,  96.,  84.,  69.,  98.,  80., 128., 133.,\n",
       "        174., 371.,  71.,  40.,  33.,  24.,  25.,  28.,  16.,  17.,  11.,\n",
       "         12.,  20.,  11.,  19.,  11.,  15.,  11.,  11.,   8.,   5.,   5.,\n",
       "          6.,   5.,   8.,   7.,   3.,   8.,   3.,   5.,   5.,   4.,   4.,\n",
       "          6.,   2.,   5.,   3.,   5.,   3.,   2.,   1.,   1.,   2.,   2.,\n",
       "          3.,   1.,   5.,   5.,   3.,   1.,   2.,   1.,   0.,   2.,   1.,\n",
       "          1.,   4.,   2.,   3.,   0.,   0.,   2.,   1.,   2.,   1.,   2.,\n",
       "          0.,   0.,   2.,   0.,   3.,   2.,   1.,   2.,   1.]),\n",
       " array([-1.07969866, -1.00015506, -0.92061146, -0.84106786, -0.76152426,\n",
       "        -0.68198067, -0.60243707, -0.52289347, -0.44334987, -0.36380627,\n",
       "        -0.28426268, -0.20471908, -0.12517548, -0.04563188,  0.03391172,\n",
       "         0.11345531,  0.19299891,  0.27254251,  0.35208611,  0.43162971,\n",
       "         0.5111733 ,  0.5907169 ,  0.6702605 ,  0.7498041 ,  0.8293477 ,\n",
       "         0.90889129,  0.98843489,  1.06797849,  1.14752209,  1.22706568,\n",
       "         1.30660928,  1.38615288,  1.46569648,  1.54524008,  1.62478367,\n",
       "         1.70432727,  1.78387087,  1.86341447,  1.94295807,  2.02250166,\n",
       "         2.10204526,  2.18158886,  2.26113246,  2.34067606,  2.42021965,\n",
       "         2.49976325,  2.57930685,  2.65885045,  2.73839405,  2.81793764,\n",
       "         2.89748124,  2.97702484,  3.05656844,  3.13611204,  3.21565563,\n",
       "         3.29519923,  3.37474283,  3.45428643,  3.53383003,  3.61337362,\n",
       "         3.69291722,  3.77246082,  3.85200442,  3.93154802,  4.01109161,\n",
       "         4.09063521,  4.17017881,  4.24972241,  4.32926601,  4.4088096 ,\n",
       "         4.4883532 ,  4.5678968 ,  4.6474404 ,  4.72698399,  4.80652759,\n",
       "         4.88607119,  4.96561479,  5.04515839,  5.12470198,  5.20424558,\n",
       "         5.28378918,  5.36333278,  5.44287638,  5.52241997,  5.60196357,\n",
       "         5.68150717,  5.76105077]),\n",
       " <BarContainer object of 86 artists>)"
      ]
     },
     "execution_count": 149,
     "metadata": {},
     "output_type": "execute_result"
    },
    {
     "data": {
      "image/png": "[encoded data removed]",
      "text/plain": [
       "<Figure size 432x288 with 1 Axes>"
      ]
     },
     "metadata": {
      "needs_background": "light"
     },
     "output_type": "display_data"
    }
   ],
   "source": [
    "plt.hist((all_results[:, 0] - np.mean(all_results[:, 0])) / np.std(all_results[:, 0]), bins='auto')"
   ]
  },
  {
   "cell_type": "code",
   "execution_count": 21,
   "metadata": {},
   "outputs": [
    {
     "data": {
      "text/plain": [
       "array([171.20933332,   2.79293346,   0.92357702, ...,   1.63869376,\n",
       "         2.45430878,   3.33066261])"
      ]
     },
     "execution_count": 21,
     "metadata": {},
     "output_type": "execute_result"
    }
   ],
   "source": [
    "all_results[:, 0]"
   ]
  },
  {
   "cell_type": "code",
   "execution_count": 22,
   "metadata": {
    "scrolled": false
   },
   "outputs": [
    {
     "data": {
      "text/plain": [
       "array([1.0e-01, 5.5e+00, 1.0e-01, 1.0e-04, 1.0e-04])"
      ]
     },
     "execution_count": 22,
     "metadata": {},
     "output_type": "execute_result"
    }
   ],
   "source": [
    "scaled_samples[0]"
   ]
  },
  {
   "cell_type": "code",
   "execution_count": 23,
   "metadata": {},
   "outputs": [
    {
     "data": {
      "text/plain": [
       "array([5.0005e+02, 6.7500e+00, 5.0050e+01, 5.0500e-03, 5.5000e-04])"
      ]
     },
     "execution_count": 23,
     "metadata": {},
     "output_type": "execute_result"
    }
   ],
   "source": [
    "scaled_samples[1]"
   ]
  },
  {
   "cell_type": "code",
   "execution_count": 25,
   "metadata": {},
   "outputs": [
    {
     "name": "stdout",
     "output_type": "stream",
     "text": [
      "Collecting scikit-learn\n",
      "  Downloading scikit_learn-0.24.2-cp37-cp37m-manylinux2010_x86_64.whl (22.3 MB)\n",
      "\u001b[K     |████████████████████████████████| 22.3 MB 15.2 MB/s eta 0:00:01\n",
      "\u001b[?25hRequirement already satisfied: scipy>=0.19.1 in /home/sebtsh/anaconda3/envs/fastdrbo/lib/python3.7/site-packages (from scikit-learn) (1.7.0)\n",
      "Collecting joblib>=0.11\n",
      "  Downloading joblib-1.0.1-py3-none-any.whl (303 kB)\n",
      "\u001b[K     |████████████████████████████████| 303 kB 60.5 MB/s eta 0:00:01\n",
      "\u001b[?25hRequirement already satisfied: numpy>=1.13.3 in /home/sebtsh/anaconda3/envs/fastdrbo/lib/python3.7/site-packages (from scikit-learn) (1.19.5)\n",
      "Collecting threadpoolctl>=2.0.0\n",
      "  Downloading threadpoolctl-2.2.0-py3-none-any.whl (12 kB)\n",
      "Installing collected packages: threadpoolctl, joblib, scikit-learn\n",
      "Successfully installed joblib-1.0.1 scikit-learn-0.24.2 threadpoolctl-2.2.0\n"
     ]
    }
   ],
   "source": [
    "! pip install scikit-learn"
   ]
  },
  {
   "cell_type": "code",
   "execution_count": 26,
   "metadata": {
    "scrolled": true
   },
   "outputs": [],
   "source": [
    "from sklearn.neighbors import NearestNeighbors"
   ]
  },
  {
   "cell_type": "code",
   "execution_count": 27,
   "metadata": {},
   "outputs": [],
   "source": [
    "neigh = NearestNeighbors(n_neighbors=5)"
   ]
  },
  {
   "cell_type": "code",
   "execution_count": 48,
   "metadata": {},
   "outputs": [
    {
     "data": {
      "text/plain": [
       "NearestNeighbors()"
      ]
     },
     "execution_count": 48,
     "metadata": {},
     "output_type": "execute_result"
    }
   ],
   "source": [
    "neigh.fit(scaled_samples[:, 0:1])"
   ]
  },
  {
   "cell_type": "code",
   "execution_count": 50,
   "metadata": {},
   "outputs": [
    {
     "data": {
      "text/plain": [
       "(array([[0.        , 0.48823242, 0.73234863, 0.97646484, 1.46469727]]),\n",
       " array([[   0, 2047, 2048, 1023, 1024]]))"
      ]
     },
     "execution_count": 50,
     "metadata": {},
     "output_type": "execute_result"
    }
   ],
   "source": [
    "neigh.kneighbors(scaled_samples[0, 0:1][None, :])"
   ]
  },
  {
   "cell_type": "code",
   "execution_count": 31,
   "metadata": {},
   "outputs": [
    {
     "data": {
      "text/plain": [
       "array([1.03528809e+01, 6.84887695e+00, 3.56333008e+00, 1.46801758e-03,\n",
       "       5.56591797e-04])"
      ]
     },
     "execution_count": 31,
     "metadata": {},
     "output_type": "execute_result"
    }
   ],
   "source": [
    "scaled_samples[1663]"
   ]
  },
  {
   "cell_type": "code",
   "execution_count": 34,
   "metadata": {},
   "outputs": [
    {
     "data": {
      "text/plain": [
       "array([27.62332236, 27.50805365, 18.69949163,  1.47179059, 17.58753614])"
      ]
     },
     "execution_count": 34,
     "metadata": {},
     "output_type": "execute_result"
    }
   ],
   "source": [
    "all_results[1663]"
   ]
  },
  {
   "cell_type": "code",
   "execution_count": 35,
   "metadata": {},
   "outputs": [
    {
     "data": {
      "text/plain": [
       "array([34.32134688, 34.20607817, 28.86735179,  1.18552932, 27.90240818])"
      ]
     },
     "execution_count": 35,
     "metadata": {},
     "output_type": "execute_result"
    }
   ],
   "source": [
    "all_results[2304]"
   ]
  },
  {
   "cell_type": "code",
   "execution_count": 36,
   "metadata": {},
   "outputs": [
    {
     "data": {
      "text/plain": [
       "array([34.32134758, 34.20607888, 28.86735299,  1.18552929, 27.90240968])"
      ]
     },
     "execution_count": 36,
     "metadata": {},
     "output_type": "execute_result"
    }
   ],
   "source": [
    "all_results[1535]"
   ]
  },
  {
   "cell_type": "code",
   "execution_count": 37,
   "metadata": {},
   "outputs": [
    {
     "data": {
      "text/plain": [
       "array([34.32134527, 34.20607656, 28.86734948,  1.18552936, 27.90240453])"
      ]
     },
     "execution_count": 37,
     "metadata": {},
     "output_type": "execute_result"
    }
   ],
   "source": [
    "all_results[896]"
   ]
  },
  {
   "cell_type": "code",
   "execution_count": 38,
   "metadata": {},
   "outputs": [
    {
     "data": {
      "text/plain": [
       "array([6.69113770e+00, 5.96691895e+00, 8.85588379e+00, 9.56252441e-03,\n",
       "       6.28442383e-04])"
      ]
     },
     "execution_count": 38,
     "metadata": {},
     "output_type": "execute_result"
    }
   ],
   "source": [
    "scaled_samples[2304]"
   ]
  },
  {
   "cell_type": "code",
   "execution_count": 40,
   "metadata": {},
   "outputs": [
    {
     "data": {
      "text/plain": [
       "array([3.51762695e+00, 7.69604492e+00, 1.02948730e+01, 6.44702148e-03,\n",
       "       8.45751953e-04])"
      ]
     },
     "execution_count": 40,
     "metadata": {},
     "output_type": "execute_result"
    }
   ],
   "source": [
    "scaled_samples[1535]"
   ]
  },
  {
   "cell_type": "code",
   "execution_count": 41,
   "metadata": {},
   "outputs": [
    {
     "data": {
      "text/plain": [
       "array([8.88818359e+00, 6.54248047e+00, 7.41689453e+00, 5.33037109e-03,\n",
       "       4.01464844e-04])"
      ]
     },
     "execution_count": 41,
     "metadata": {},
     "output_type": "execute_result"
    }
   ],
   "source": [
    "scaled_samples[896]"
   ]
  },
  {
   "cell_type": "code",
   "execution_count": 32,
   "metadata": {
    "scrolled": false
   },
   "outputs": [
    {
     "data": {
      "text/plain": [
       "array([1.0e-01, 5.5e+00, 1.0e-01, 1.0e-04, 1.0e-04])"
      ]
     },
     "execution_count": 32,
     "metadata": {},
     "output_type": "execute_result"
    }
   ],
   "source": [
    "scaled_samples[0]"
   ]
  },
  {
   "cell_type": "code",
   "execution_count": null,
   "metadata": {},
   "outputs": [],
   "source": [
    "plt.hist(scaled_samples[:, 1], bins='auto')"
   ]
  },
  {
   "cell_type": "code",
   "execution_count": 54,
   "metadata": {},
   "outputs": [
    {
     "data": {
      "text/plain": [
       "array([5.88232422e-01, 7.06860352e+00, 9.31221191e+01, 3.57563477e-03,\n",
       "       6.67333984e-04])"
      ]
     },
     "execution_count": 54,
     "metadata": {},
     "output_type": "execute_result"
    }
   ],
   "source": [
    "scaled_samples[2047]"
   ]
  },
  {
   "cell_type": "code",
   "execution_count": 55,
   "metadata": {},
   "outputs": [
    {
     "data": {
      "text/plain": [
       "array([34.32135627, 34.20608757, 28.86736373,  1.18552915, 27.9024204 ])"
      ]
     },
     "execution_count": 55,
     "metadata": {},
     "output_type": "execute_result"
    }
   ],
   "source": [
    "all_results[2047]"
   ]
  },
  {
   "cell_type": "code",
   "execution_count": null,
   "metadata": {},
   "outputs": [],
   "source": []
  },
  {
   "cell_type": "code",
   "execution_count": null,
   "metadata": {},
   "outputs": [],
   "source": []
  },
  {
   "cell_type": "code",
   "execution_count": null,
   "metadata": {},
   "outputs": [],
   "source": []
  },
  {
   "cell_type": "code",
   "execution_count": null,
   "metadata": {},
   "outputs": [],
   "source": []
  },
  {
   "cell_type": "code",
   "execution_count": 108,
   "metadata": {},
   "outputs": [],
   "source": [
    "all_results = pickle.load(open(\"data/portfolio/all_results.p\",'rb'))"
   ]
  },
  {
   "cell_type": "code",
   "execution_count": 141,
   "metadata": {},
   "outputs": [
    {
     "data": {
      "text/plain": [
       "(array([  42,   16,   16,   37,   58,   26,   16,   21,   13,   12,    9,\n",
       "           4,    9,    6,    7,    3,   16,   21,   42, 1674]),\n",
       " array([0.84697728, 0.86408173, 0.88118619, 0.89829065, 0.9153951 ,\n",
       "        0.93249956, 0.94960402, 0.96670848, 0.98381293, 1.00091739,\n",
       "        1.01802185, 1.0351263 , 1.05223076, 1.06933522, 1.08643967,\n",
       "        1.10354413, 1.12064859, 1.13775305, 1.1548575 , 1.17196196,\n",
       "        1.18906642]))"
      ]
     },
     "execution_count": 141,
     "metadata": {},
     "output_type": "execute_result"
    }
   ],
   "source": [
    "np.histogram(all_results[:, 3], bins=20)"
   ]
  },
  {
   "cell_type": "code",
   "execution_count": 110,
   "metadata": {},
   "outputs": [
    {
     "data": {
      "text/plain": [
       "546"
      ]
     },
     "execution_count": 110,
     "metadata": {},
     "output_type": "execute_result"
    }
   ],
   "source": [
    "np.argmax(all_results[:, 0])"
   ]
  },
  {
   "cell_type": "code",
   "execution_count": 111,
   "metadata": {},
   "outputs": [
    {
     "data": {
      "text/plain": [
       "array([94.5556518 , 94.44038309, 80.42359918,  1.17487103, 64.74917225])"
      ]
     },
     "execution_count": 111,
     "metadata": {},
     "output_type": "execute_result"
    }
   ],
   "source": [
    "all_results[546]"
   ]
  },
  {
   "cell_type": "code",
   "execution_count": 113,
   "metadata": {},
   "outputs": [],
   "source": [
    "sampler = qmc.Sobol(d=4, scramble=False)\n",
    "sample = sampler.random(2048)\n",
    "lowers = [5.5, 0.1, 1e-04, 1e-04]\n",
    "uppers = [8, 100, 1e-02, 1e-03]\n",
    "scaled_samples = qmc.scale(sample, lowers, uppers)"
   ]
  },
  {
   "cell_type": "code",
   "execution_count": 115,
   "metadata": {},
   "outputs": [
    {
     "data": {
      "text/plain": [
       "array([7.49951172e+00, 2.67334961e+01, 1.09667969e-04, 2.74902344e-04])"
      ]
     },
     "execution_count": 115,
     "metadata": {},
     "output_type": "execute_result"
    }
   ],
   "source": [
    "scaled_samples[546]"
   ]
  },
  {
   "cell_type": "code",
   "execution_count": null,
   "metadata": {},
   "outputs": [],
   "source": []
  },
  {
   "cell_type": "code",
   "execution_count": 121,
   "metadata": {},
   "outputs": [
    {
     "data": {
      "text/plain": [
       "537"
      ]
     },
     "execution_count": 121,
     "metadata": {},
     "output_type": "execute_result"
    }
   ],
   "source": [
    "np.argmin(all_results[:, 0])"
   ]
  },
  {
   "cell_type": "code",
   "execution_count": 122,
   "metadata": {},
   "outputs": [
    {
     "data": {
      "text/plain": [
       "array([7.14794922e+00, 9.07319336e+01, 9.85498047e-03, 6.82714844e-04])"
      ]
     },
     "execution_count": 122,
     "metadata": {},
     "output_type": "execute_result"
    }
   ],
   "source": [
    "scaled_samples[537]"
   ]
  },
  {
   "cell_type": "code",
   "execution_count": null,
   "metadata": {},
   "outputs": [],
   "source": []
  },
  {
   "cell_type": "code",
   "execution_count": 147,
   "metadata": {},
   "outputs": [
    {
     "data": {
      "text/plain": [
       "array([[1.00000000e-01, 5.50000000e+00, 1.00000000e-04, 1.00000000e-04],\n",
       "       [5.05000000e+00, 6.75000000e+00, 8.00000000e-04, 5.50000000e-04],\n",
       "       [7.52500000e+00, 6.12500000e+00, 4.50000000e-04, 3.25000000e-04],\n",
       "       ...,\n",
       "       [7.52983398e+00, 7.69360352e+00, 1.05361328e-03, 1.90966797e-04],\n",
       "       [5.05483398e+00, 5.81860352e+00, 7.03613281e-04, 8.65966797e-04],\n",
       "       [1.04833984e-01, 7.06860352e+00, 1.40361328e-03, 4.15966797e-04]])"
      ]
     },
     "execution_count": 147,
     "metadata": {},
     "output_type": "execute_result"
    }
   ],
   "source": [
    "scaled_samples"
   ]
  },
  {
   "cell_type": "code",
   "execution_count": 152,
   "metadata": {},
   "outputs": [],
   "source": [
    "standardized_returns = (all_results[:, 0] - np.mean(all_results[:, 0])) / np.std(all_results[:, 0])"
   ]
  },
  {
   "cell_type": "code",
   "execution_count": 153,
   "metadata": {
    "scrolled": true
   },
   "outputs": [
    {
     "data": {
      "text/plain": [
       "(array([ 15.,  68., 111.,  85.,  96.,  84.,  69.,  98.,  80., 128., 133.,\n",
       "        174., 371.,  71.,  40.,  33.,  24.,  25.,  28.,  16.,  17.,  11.,\n",
       "         12.,  20.,  11.,  19.,  11.,  15.,  11.,  11.,   8.,   5.,   5.,\n",
       "          6.,   5.,   8.,   7.,   3.,   8.,   3.,   5.,   5.,   4.,   4.,\n",
       "          6.,   2.,   5.,   3.,   5.,   3.,   2.,   1.,   1.,   2.,   2.,\n",
       "          3.,   1.,   5.,   5.,   3.,   1.,   2.,   1.,   0.,   2.,   1.,\n",
       "          1.,   4.,   2.,   3.,   0.,   0.,   2.,   1.,   2.,   1.,   2.,\n",
       "          0.,   0.,   2.,   0.,   3.,   2.,   1.,   2.,   1.]),\n",
       " array([-1.07969866, -1.00015506, -0.92061146, -0.84106786, -0.76152426,\n",
       "        -0.68198067, -0.60243707, -0.52289347, -0.44334987, -0.36380627,\n",
       "        -0.28426268, -0.20471908, -0.12517548, -0.04563188,  0.03391172,\n",
       "         0.11345531,  0.19299891,  0.27254251,  0.35208611,  0.43162971,\n",
       "         0.5111733 ,  0.5907169 ,  0.6702605 ,  0.7498041 ,  0.8293477 ,\n",
       "         0.90889129,  0.98843489,  1.06797849,  1.14752209,  1.22706568,\n",
       "         1.30660928,  1.38615288,  1.46569648,  1.54524008,  1.62478367,\n",
       "         1.70432727,  1.78387087,  1.86341447,  1.94295807,  2.02250166,\n",
       "         2.10204526,  2.18158886,  2.26113246,  2.34067606,  2.42021965,\n",
       "         2.49976325,  2.57930685,  2.65885045,  2.73839405,  2.81793764,\n",
       "         2.89748124,  2.97702484,  3.05656844,  3.13611204,  3.21565563,\n",
       "         3.29519923,  3.37474283,  3.45428643,  3.53383003,  3.61337362,\n",
       "         3.69291722,  3.77246082,  3.85200442,  3.93154802,  4.01109161,\n",
       "         4.09063521,  4.17017881,  4.24972241,  4.32926601,  4.4088096 ,\n",
       "         4.4883532 ,  4.5678968 ,  4.6474404 ,  4.72698399,  4.80652759,\n",
       "         4.88607119,  4.96561479,  5.04515839,  5.12470198,  5.20424558,\n",
       "         5.28378918,  5.36333278,  5.44287638,  5.52241997,  5.60196357,\n",
       "         5.68150717,  5.76105077]),\n",
       " <BarContainer object of 86 artists>)"
      ]
     },
     "execution_count": 153,
     "metadata": {},
     "output_type": "execute_result"
    },
    {
     "data": {
      "image/png": "[encoded data removed]",
      "text/plain": [
       "<Figure size 432x288 with 1 Axes>"
      ]
     },
     "metadata": {
      "needs_background": "light"
     },
     "output_type": "display_data"
    }
   ],
   "source": [
    "plt.hist(standardized_returns, bins='auto')"
   ]
  },
  {
   "cell_type": "code",
   "execution_count": 166,
   "metadata": {},
   "outputs": [
    {
     "data": {
      "text/plain": [
       "(2048,)"
      ]
     },
     "execution_count": 166,
     "metadata": {},
     "output_type": "execute_result"
    }
   ],
   "source": [
    "standardized_returns.shape"
   ]
  },
  {
   "cell_type": "code",
   "execution_count": 155,
   "metadata": {},
   "outputs": [],
   "source": [
    "lowers = np.array([0.1, 5.5, 1e-04, 1e-04])\n",
    "uppers = np.array([10, 8, 1.5e-03, 1e-03])"
   ]
  },
  {
   "cell_type": "code",
   "execution_count": 163,
   "metadata": {
    "scrolled": true
   },
   "outputs": [
    {
     "data": {
      "text/plain": [
       "array([0.99951172, 0.99951172, 0.99951172, 0.99951172])"
      ]
     },
     "execution_count": 163,
     "metadata": {},
     "output_type": "execute_result"
    }
   ],
   "source": [
    "np.max((scaled_samples - lowers) / (uppers - lowers), axis=0)"
   ]
  },
  {
   "cell_type": "code",
   "execution_count": 164,
   "metadata": {},
   "outputs": [],
   "source": [
    "normalized_samples = (scaled_samples - lowers) / (uppers - lowers)"
   ]
  },
  {
   "cell_type": "code",
   "execution_count": 165,
   "metadata": {},
   "outputs": [
    {
     "data": {
      "text/plain": [
       "(2048, 4)"
      ]
     },
     "execution_count": 165,
     "metadata": {},
     "output_type": "execute_result"
    }
   ],
   "source": [
    "normalized_samples.shape"
   ]
  },
  {
   "cell_type": "code",
   "execution_count": null,
   "metadata": {},
   "outputs": [],
   "source": [
    "import gpflow as gpf"
   ]
  },
  {
   "cell_type": "code",
   "execution_count": 203,
   "metadata": {},
   "outputs": [],
   "source": [
    "k = gpf.kernels.SquaredExponential(lengthscales=[0.1, 0.1, 0.1, 0.1])"
   ]
  },
  {
   "cell_type": "code",
   "execution_count": 204,
   "metadata": {},
   "outputs": [],
   "source": [
    "gp = gpf.models.GPR(data=(normalized_samples, standardized_returns[:, None]),\n",
    "                    kernel=k)"
   ]
  },
  {
   "cell_type": "code",
   "execution_count": 205,
   "metadata": {},
   "outputs": [
    {
     "data": {
      "text/plain": [
       "<tf.Variable 'UnreadVariable' shape=() dtype=float64, numpy=-4.600266525158521>"
      ]
     },
     "execution_count": 205,
     "metadata": {},
     "output_type": "execute_result"
    }
   ],
   "source": [
    "gp.likelihood.variance.assign(0.01)"
   ]
  },
  {
   "cell_type": "code",
   "execution_count": 206,
   "metadata": {},
   "outputs": [
    {
     "data": {
      "text/html": [
       "&lt;gpflow.models.gpr.GPR object at 0x7f40b80cc3d0&gt;\n",
       "<table>\n",
       "<thead>\n",
       "<tr><th>name                   </th><th>class    </th><th>transform       </th><th>prior  </th><th>trainable  </th><th>shape  </th><th>dtype  </th><th>value               </th></tr>\n",
       "</thead>\n",
       "<tbody>\n",
       "<tr><td>GPR.kernel.variance    </td><td>Parameter</td><td>Softplus        </td><td>       </td><td>True       </td><td>()     </td><td>float64</td><td>1.0                 </td></tr>\n",
       "<tr><td>GPR.kernel.lengthscales</td><td>Parameter</td><td>Softplus        </td><td>       </td><td>True       </td><td>(4,)   </td><td>float64</td><td>[0.1, 0.1, 0.1...   </td></tr>\n",
       "<tr><td>GPR.likelihood.variance</td><td>Parameter</td><td>Softplus + Shift</td><td>       </td><td>True       </td><td>()     </td><td>float64</td><td>0.009999999999999998</td></tr>\n",
       "</tbody>\n",
       "</table>"
      ],
      "text/plain": [
       "<gpflow.models.gpr.GPR object at 0x7f40b80cc3d0>\n",
       "╒═════════════════════════╤═══════════╤══════════════════╤═════════╤═════════════╤═════════╤═════════╤══════════════════════╕\n",
       "│ name                    │ class     │ transform        │ prior   │ trainable   │ shape   │ dtype   │ value                │\n",
       "╞═════════════════════════╪═══════════╪══════════════════╪═════════╪═════════════╪═════════╪═════════╪══════════════════════╡\n",
       "│ GPR.kernel.variance     │ Parameter │ Softplus         │         │ True        │ ()      │ float64 │ 1.0                  │\n",
       "├─────────────────────────┼───────────┼──────────────────┼─────────┼─────────────┼─────────┼─────────┼──────────────────────┤\n",
       "│ GPR.kernel.lengthscales │ Parameter │ Softplus         │         │ True        │ (4,)    │ float64 │ [0.1, 0.1, 0.1...    │\n",
       "├─────────────────────────┼───────────┼──────────────────┼─────────┼─────────────┼─────────┼─────────┼──────────────────────┤\n",
       "│ GPR.likelihood.variance │ Parameter │ Softplus + Shift │         │ True        │ ()      │ float64 │ 0.009999999999999998 │\n",
       "╘═════════════════════════╧═══════════╧══════════════════╧═════════╧═════════════╧═════════╧═════════╧══════════════════════╛"
      ]
     },
     "execution_count": 206,
     "metadata": {},
     "output_type": "execute_result"
    }
   ],
   "source": [
    "gp"
   ]
  },
  {
   "cell_type": "code",
   "execution_count": 207,
   "metadata": {},
   "outputs": [],
   "source": [
    "opt = gpf.optimizers.Scipy()"
   ]
  },
  {
   "cell_type": "code",
   "execution_count": 208,
   "metadata": {},
   "outputs": [],
   "source": [
    "opt_logs = opt.minimize(gp.training_loss, gp.trainable_variables, options=dict(maxiter=100))"
   ]
  },
  {
   "cell_type": "code",
   "execution_count": 209,
   "metadata": {
    "scrolled": true
   },
   "outputs": [
    {
     "data": {
      "text/plain": [
       "      fun: -2889.8795642244722\n",
       " hess_inv: <6x6 LbfgsInvHessProduct with dtype=float64>\n",
       "      jac: array([-8.48701844e-04,  5.38556862e-05, -1.63968521e-03, -2.32989475e-05,\n",
       "        1.83197941e-05,  1.06833600e-03])\n",
       "  message: 'CONVERGENCE: REL_REDUCTION_OF_F_<=_FACTR*EPSMCH'\n",
       "     nfev: 36\n",
       "      nit: 31\n",
       "     njev: 36\n",
       "   status: 0\n",
       "  success: True\n",
       "        x: array([-2.7399264 ,  3.67701767, -1.80772674, 17.52734164,  0.54296372,\n",
       "       -6.58083732])"
      ]
     },
     "execution_count": 209,
     "metadata": {},
     "output_type": "execute_result"
    }
   ],
   "source": [
    "opt_logs"
   ]
  },
  {
   "cell_type": "code",
   "execution_count": 210,
   "metadata": {
    "scrolled": true
   },
   "outputs": [
    {
     "data": {
      "text/plain": [
       "<Parameter: dtype=float64, shape=[4], fn=\"softplus\", numpy=array([ 0.06257575,  3.70200128,  0.15188519, 17.52734167])>"
      ]
     },
     "execution_count": 210,
     "metadata": {},
     "output_type": "execute_result"
    }
   ],
   "source": [
    "gp.kernel.lengthscales"
   ]
  },
  {
   "cell_type": "code",
   "execution_count": 217,
   "metadata": {},
   "outputs": [
    {
     "data": {
      "text/plain": [
       "<tf.Tensor: shape=(), dtype=float64, numpy=-2889.8795642244722>"
      ]
     },
     "execution_count": 217,
     "metadata": {},
     "output_type": "execute_result"
    }
   ],
   "source": [
    "gp.training_loss()"
   ]
  },
  {
   "cell_type": "code",
   "execution_count": 211,
   "metadata": {},
   "outputs": [],
   "source": [
    "opt_fmean, opt_fvar = gp.predict_f(normalized_samples)"
   ]
  },
  {
   "cell_type": "code",
   "execution_count": 214,
   "metadata": {},
   "outputs": [],
   "source": [
    "opt_errors = opt_fmean - standardized_returns[:, None]"
   ]
  },
  {
   "cell_type": "code",
   "execution_count": 247,
   "metadata": {
    "scrolled": true
   },
   "outputs": [
    {
     "data": {
      "text/plain": [
       "1.49386092715217"
      ]
     },
     "execution_count": 247,
     "metadata": {},
     "output_type": "execute_result"
    }
   ],
   "source": [
    "np.linalg.norm(opt_errors)"
   ]
  },
  {
   "cell_type": "code",
   "execution_count": 260,
   "metadata": {},
   "outputs": [
    {
     "data": {
      "text/plain": [
       "<tf.Variable 'UnreadVariable' shape=() dtype=float64, numpy=-4.600266525158521>"
      ]
     },
     "execution_count": 260,
     "metadata": {},
     "output_type": "execute_result"
    }
   ],
   "source": [
    "k = gpf.kernels.SquaredExponential(lengthscales=[0.1, 1, 0.1, 1])\n",
    "guess_gp = gpf.models.GPR(data=(normalized_samples, standardized_returns[:, None]),\n",
    "                    kernel=k)\n",
    "guess_gp.likelihood.variance.assign(0.01)"
   ]
  },
  {
   "cell_type": "code",
   "execution_count": 249,
   "metadata": {},
   "outputs": [],
   "source": [
    "guess_fmean, guess_fvar = guess_gp.predict_f(normalized_samples)"
   ]
  },
  {
   "cell_type": "code",
   "execution_count": 250,
   "metadata": {},
   "outputs": [],
   "source": [
    "guess_errors = guess_fmean - standardized_returns[:, None]"
   ]
  },
  {
   "cell_type": "code",
   "execution_count": 251,
   "metadata": {},
   "outputs": [
    {
     "data": {
      "text/plain": [
       "1.5992586194931597"
      ]
     },
     "execution_count": 251,
     "metadata": {},
     "output_type": "execute_result"
    }
   ],
   "source": [
    "np.linalg.norm(guess_errors)"
   ]
  },
  {
   "cell_type": "code",
   "execution_count": 259,
   "metadata": {
    "scrolled": false
   },
   "outputs": [
    {
     "data": {
      "text/plain": [
       "<tf.Tensor: shape=(), dtype=float64, numpy=-1780.8205910222973>"
      ]
     },
     "execution_count": 259,
     "metadata": {},
     "output_type": "execute_result"
    }
   ],
   "source": [
    "guess_gp.training_loss()"
   ]
  },
  {
   "cell_type": "code",
   "execution_count": 253,
   "metadata": {},
   "outputs": [
    {
     "data": {
      "text/plain": [
       "<tf.Tensor: shape=(2048, 1), dtype=float64, numpy=\n",
       "array([[ 5.43284527],\n",
       "       [-0.19057297],\n",
       "       [-0.81393953],\n",
       "       ...,\n",
       "       [-0.22568565],\n",
       "       [-0.47200773],\n",
       "       [ 2.27731374]])>"
      ]
     },
     "execution_count": 253,
     "metadata": {},
     "output_type": "execute_result"
    }
   ],
   "source": [
    "guess_fmean"
   ]
  },
  {
   "cell_type": "code",
   "execution_count": 254,
   "metadata": {},
   "outputs": [
    {
     "data": {
      "text/plain": [
       "<tf.Tensor: shape=(2048, 1), dtype=float64, numpy=\n",
       "array([[ 5.55125964],\n",
       "       [-0.20855455],\n",
       "       [-0.82406906],\n",
       "       ...,\n",
       "       [-0.21807888],\n",
       "       [-0.46465165],\n",
       "       [ 2.39270509]])>"
      ]
     },
     "execution_count": 254,
     "metadata": {},
     "output_type": "execute_result"
    }
   ],
   "source": [
    "opt_fmean"
   ]
  },
  {
   "cell_type": "code",
   "execution_count": 255,
   "metadata": {
    "scrolled": true
   },
   "outputs": [
    {
     "data": {
      "text/plain": [
       "array([[ 5.49239198],\n",
       "       [-0.17500637],\n",
       "       [-0.80935964],\n",
       "       ...,\n",
       "       [-0.22941851],\n",
       "       [-0.47077929],\n",
       "       [ 2.38407101]])"
      ]
     },
     "execution_count": 255,
     "metadata": {},
     "output_type": "execute_result"
    }
   ],
   "source": [
    "standardized_returns[:, None]"
   ]
  },
  {
   "cell_type": "code",
   "execution_count": 261,
   "metadata": {},
   "outputs": [],
   "source": [
    "pickle.dump(standardized_returns[:, None], open(\"standardized_returns.p\", \"wb\"))"
   ]
  },
  {
   "cell_type": "code",
   "execution_count": 263,
   "metadata": {},
   "outputs": [],
   "source": [
    "pickle.dump(normalized_samples, open(\"normalized_samples.p\", \"wb\"))"
   ]
  },
  {
   "cell_type": "code",
   "execution_count": null,
   "metadata": {},
   "outputs": [],
   "source": []
  },
  {
   "cell_type": "code",
   "execution_count": null,
   "metadata": {},
   "outputs": [],
   "source": []
  },
  {
   "cell_type": "code",
   "execution_count": 264,
   "metadata": {},
   "outputs": [],
   "source": [
    "obj_k = gpf.kernels.SquaredExponential(lengthscales=[0.1, 1, 0.1, 1])"
   ]
  },
  {
   "cell_type": "code",
   "execution_count": 284,
   "metadata": {},
   "outputs": [],
   "source": [
    "jitter = 1e-03"
   ]
  },
  {
   "cell_type": "code",
   "execution_count": 285,
   "metadata": {},
   "outputs": [],
   "source": [
    "cov = obj_k(normalized_samples) + jitter * np.eye(len(normalized_samples), dtype=np.float32)"
   ]
  },
  {
   "cell_type": "code",
   "execution_count": 286,
   "metadata": {},
   "outputs": [],
   "source": [
    "L_inv = np.linalg.inv(np.linalg.cholesky(cov))"
   ]
  },
  {
   "cell_type": "code",
   "execution_count": 287,
   "metadata": {},
   "outputs": [],
   "source": [
    "K_inv_f = L_inv.T @ L_inv @ standardized_returns[:, None]"
   ]
  },
  {
   "cell_type": "code",
   "execution_count": 288,
   "metadata": {},
   "outputs": [],
   "source": [
    "obj_func = lambda x: obj_k(x, normalized_samples) @ K_inv_f"
   ]
  },
  {
   "cell_type": "code",
   "execution_count": 289,
   "metadata": {},
   "outputs": [
    {
     "data": {
      "text/plain": [
       "<tf.Tensor: shape=(2048, 1), dtype=float64, numpy=\n",
       "array([[ 5.48603317],\n",
       "       [-0.18561668],\n",
       "       [-0.81267079],\n",
       "       ...,\n",
       "       [-0.22986219],\n",
       "       [-0.47548169],\n",
       "       [ 2.34683704]])>"
      ]
     },
     "execution_count": 289,
     "metadata": {},
     "output_type": "execute_result"
    }
   ],
   "source": [
    "obj_func(normalized_samples)"
   ]
  },
  {
   "cell_type": "code",
   "execution_count": 292,
   "metadata": {},
   "outputs": [],
   "source": [
    "def get_obj_func_from_samples(kernel, X, y, jitter=1e-03):\n",
    "    \"\"\"\n",
    "    Constructs an objective function from samples. Interpolates between the samples like a GP posterior would.\n",
    "    :param kernel: a GPflow kernel\n",
    "    :param X: array of shape (n, d)\n",
    "    :param y: array of shape (n, 1)\n",
    "    :param jitter:\n",
    "    :return:\n",
    "    \"\"\"\n",
    "    cov = kernel(X) + jitter * np.eye(len(X), dtype=np.float32)\n",
    "    L_inv = np.linalg.inv(np.linalg.cholesky(cov))\n",
    "    K_inv_f = L_inv.T @ L_inv @ y\n",
    "    return lambda x: kernel(x, X) @ K_inv_f"
   ]
  },
  {
   "cell_type": "code",
   "execution_count": 295,
   "metadata": {},
   "outputs": [],
   "source": [
    "obj_func = get_obj_func_from_samples(obj_k, normalized_samples, standardized_returns[:, None])"
   ]
  },
  {
   "cell_type": "code",
   "execution_count": 296,
   "metadata": {},
   "outputs": [
    {
     "data": {
      "text/plain": [
       "<tf.Tensor: shape=(2048, 1), dtype=float64, numpy=\n",
       "array([[ 5.48603317],\n",
       "       [-0.18561668],\n",
       "       [-0.81267079],\n",
       "       ...,\n",
       "       [-0.22986219],\n",
       "       [-0.47548169],\n",
       "       [ 2.34683704]])>"
      ]
     },
     "execution_count": 296,
     "metadata": {},
     "output_type": "execute_result"
    }
   ],
   "source": [
    "obj_func(normalized_samples)"
   ]
  },
  {
   "cell_type": "code",
   "execution_count": 297,
   "metadata": {},
   "outputs": [],
   "source": [
    "ls = np.array([0, 1, 2, 3])"
   ]
  },
  {
   "cell_type": "code",
   "execution_count": null,
   "metadata": {},
   "outputs": [],
   "source": []
  },
  {
   "cell_type": "code",
   "execution_count": 302,
   "metadata": {},
   "outputs": [],
   "source": [
    "from core.utils import construct_grid_1d, cross_product, get_discrete_normal_dist, get_discrete_uniform_dist, \\\n",
    "    get_margin, get_robust_expectation_and_action"
   ]
  },
  {
   "cell_type": "code",
   "execution_count": 324,
   "metadata": {},
   "outputs": [],
   "source": [
    "action_dims = 2\n",
    "context_dims = 2\n",
    "action_lowers = [0] * action_dims\n",
    "action_uppers = [1] * action_dims\n",
    "context_lowers = [0] * context_dims\n",
    "context_uppers = [1] * context_dims\n",
    "action_density_per_dim = 20\n",
    "context_density_per_dim = 20\n",
    "\n",
    "# Action space\n",
    "action_points = construct_grid_1d(action_lowers[0], action_uppers[0], action_density_per_dim)\n",
    "for i in range(action_dims - 1):\n",
    "    action_points = cross_product(action_points,\n",
    "                                  construct_grid_1d(action_lowers[i + 1], action_uppers[i + 1],\n",
    "                                                    action_density_per_dim))\n",
    "\n",
    "# Context space\n",
    "context_points = construct_grid_1d(context_lowers[0], context_uppers[0], context_density_per_dim)\n",
    "for i in range(context_dims - 1):\n",
    "    context_points = cross_product(context_points,\n",
    "                                   construct_grid_1d(context_lowers[i + 1], context_uppers[i + 1],\n",
    "                                                     context_density_per_dim))\n",
    "search_points = cross_product(action_points, context_points)"
   ]
  },
  {
   "cell_type": "code",
   "execution_count": 325,
   "metadata": {},
   "outputs": [],
   "source": [
    "ref_var = 0.1\n",
    "ref_means = np.array([[0., 0.], [0.25, 0.25], [0.5, 0.5]])\n",
    "ref_cov = ref_var * np.eye(context_dims)"
   ]
  },
  {
   "cell_type": "code",
   "execution_count": 326,
   "metadata": {},
   "outputs": [],
   "source": [
    "divergence = 'MMD_approx'\n",
    "ls = [0.1, 1, 0.1, 1]\n",
    "lengthscales = np.array(ls)\n",
    "context_lengthscales = lengthscales[-context_dims:]\n",
    "mmd_kernel = gpf.kernels.SquaredExponential(lengthscales=context_lengthscales)"
   ]
  },
  {
   "cell_type": "code",
   "execution_count": null,
   "metadata": {},
   "outputs": [],
   "source": []
  },
  {
   "cell_type": "code",
   "execution_count": 338,
   "metadata": {
    "scrolled": true
   },
   "outputs": [
    {
     "name": "stdout",
     "output_type": "stream",
     "text": [
      "Margin: [[0.24736733]]\n"
     ]
    }
   ],
   "source": [
    "ref_mean = ref_means[1]\n",
    "\n",
    "ref_dist_func = lambda x: get_discrete_normal_dist(context_points, ref_mean, ref_cov)\n",
    "true_dist_func = lambda x: get_discrete_uniform_dist(context_points)\n",
    "margin = get_margin(ref_dist_func(0), true_dist_func(0), mmd_kernel, context_points, divergence)\n",
    "print(\"Margin: {}\".format(margin))"
   ]
  },
  {
   "cell_type": "code",
   "execution_count": 339,
   "metadata": {},
   "outputs": [
    {
     "data": {
      "text/plain": [
       "array([0.0025, 0.0025, 0.0025, 0.0025, 0.0025, 0.0025, 0.0025, 0.0025,\n",
       "       0.0025, 0.0025, 0.0025, 0.0025, 0.0025, 0.0025, 0.0025, 0.0025,\n",
       "       0.0025, 0.0025, 0.0025, 0.0025, 0.0025, 0.0025, 0.0025, 0.0025,\n",
       "       0.0025, 0.0025, 0.0025, 0.0025, 0.0025, 0.0025, 0.0025, 0.0025,\n",
       "       0.0025, 0.0025, 0.0025, 0.0025, 0.0025, 0.0025, 0.0025, 0.0025,\n",
       "       0.0025, 0.0025, 0.0025, 0.0025, 0.0025, 0.0025, 0.0025, 0.0025,\n",
       "       0.0025, 0.0025, 0.0025, 0.0025, 0.0025, 0.0025, 0.0025, 0.0025,\n",
       "       0.0025, 0.0025, 0.0025, 0.0025, 0.0025, 0.0025, 0.0025, 0.0025,\n",
       "       0.0025, 0.0025, 0.0025, 0.0025, 0.0025, 0.0025, 0.0025, 0.0025,\n",
       "       0.0025, 0.0025, 0.0025, 0.0025, 0.0025, 0.0025, 0.0025, 0.0025,\n",
       "       0.0025, 0.0025, 0.0025, 0.0025, 0.0025, 0.0025, 0.0025, 0.0025,\n",
       "       0.0025, 0.0025, 0.0025, 0.0025, 0.0025, 0.0025, 0.0025, 0.0025,\n",
       "       0.0025, 0.0025, 0.0025, 0.0025, 0.0025, 0.0025, 0.0025, 0.0025,\n",
       "       0.0025, 0.0025, 0.0025, 0.0025, 0.0025, 0.0025, 0.0025, 0.0025,\n",
       "       0.0025, 0.0025, 0.0025, 0.0025, 0.0025, 0.0025, 0.0025, 0.0025,\n",
       "       0.0025, 0.0025, 0.0025, 0.0025, 0.0025, 0.0025, 0.0025, 0.0025,\n",
       "       0.0025, 0.0025, 0.0025, 0.0025, 0.0025, 0.0025, 0.0025, 0.0025,\n",
       "       0.0025, 0.0025, 0.0025, 0.0025, 0.0025, 0.0025, 0.0025, 0.0025,\n",
       "       0.0025, 0.0025, 0.0025, 0.0025, 0.0025, 0.0025, 0.0025, 0.0025,\n",
       "       0.0025, 0.0025, 0.0025, 0.0025, 0.0025, 0.0025, 0.0025, 0.0025,\n",
       "       0.0025, 0.0025, 0.0025, 0.0025, 0.0025, 0.0025, 0.0025, 0.0025,\n",
       "       0.0025, 0.0025, 0.0025, 0.0025, 0.0025, 0.0025, 0.0025, 0.0025,\n",
       "       0.0025, 0.0025, 0.0025, 0.0025, 0.0025, 0.0025, 0.0025, 0.0025,\n",
       "       0.0025, 0.0025, 0.0025, 0.0025, 0.0025, 0.0025, 0.0025, 0.0025,\n",
       "       0.0025, 0.0025, 0.0025, 0.0025, 0.0025, 0.0025, 0.0025, 0.0025,\n",
       "       0.0025, 0.0025, 0.0025, 0.0025, 0.0025, 0.0025, 0.0025, 0.0025,\n",
       "       0.0025, 0.0025, 0.0025, 0.0025, 0.0025, 0.0025, 0.0025, 0.0025,\n",
       "       0.0025, 0.0025, 0.0025, 0.0025, 0.0025, 0.0025, 0.0025, 0.0025,\n",
       "       0.0025, 0.0025, 0.0025, 0.0025, 0.0025, 0.0025, 0.0025, 0.0025,\n",
       "       0.0025, 0.0025, 0.0025, 0.0025, 0.0025, 0.0025, 0.0025, 0.0025,\n",
       "       0.0025, 0.0025, 0.0025, 0.0025, 0.0025, 0.0025, 0.0025, 0.0025,\n",
       "       0.0025, 0.0025, 0.0025, 0.0025, 0.0025, 0.0025, 0.0025, 0.0025,\n",
       "       0.0025, 0.0025, 0.0025, 0.0025, 0.0025, 0.0025, 0.0025, 0.0025,\n",
       "       0.0025, 0.0025, 0.0025, 0.0025, 0.0025, 0.0025, 0.0025, 0.0025,\n",
       "       0.0025, 0.0025, 0.0025, 0.0025, 0.0025, 0.0025, 0.0025, 0.0025,\n",
       "       0.0025, 0.0025, 0.0025, 0.0025, 0.0025, 0.0025, 0.0025, 0.0025,\n",
       "       0.0025, 0.0025, 0.0025, 0.0025, 0.0025, 0.0025, 0.0025, 0.0025,\n",
       "       0.0025, 0.0025, 0.0025, 0.0025, 0.0025, 0.0025, 0.0025, 0.0025,\n",
       "       0.0025, 0.0025, 0.0025, 0.0025, 0.0025, 0.0025, 0.0025, 0.0025,\n",
       "       0.0025, 0.0025, 0.0025, 0.0025, 0.0025, 0.0025, 0.0025, 0.0025,\n",
       "       0.0025, 0.0025, 0.0025, 0.0025, 0.0025, 0.0025, 0.0025, 0.0025,\n",
       "       0.0025, 0.0025, 0.0025, 0.0025, 0.0025, 0.0025, 0.0025, 0.0025,\n",
       "       0.0025, 0.0025, 0.0025, 0.0025, 0.0025, 0.0025, 0.0025, 0.0025,\n",
       "       0.0025, 0.0025, 0.0025, 0.0025, 0.0025, 0.0025, 0.0025, 0.0025,\n",
       "       0.0025, 0.0025, 0.0025, 0.0025, 0.0025, 0.0025, 0.0025, 0.0025,\n",
       "       0.0025, 0.0025, 0.0025, 0.0025, 0.0025, 0.0025, 0.0025, 0.0025,\n",
       "       0.0025, 0.0025, 0.0025, 0.0025, 0.0025, 0.0025, 0.0025, 0.0025,\n",
       "       0.0025, 0.0025, 0.0025, 0.0025, 0.0025, 0.0025, 0.0025, 0.0025,\n",
       "       0.0025, 0.0025, 0.0025, 0.0025, 0.0025, 0.0025, 0.0025, 0.0025,\n",
       "       0.0025, 0.0025, 0.0025, 0.0025, 0.0025, 0.0025, 0.0025, 0.0025])"
      ]
     },
     "execution_count": 339,
     "metadata": {},
     "output_type": "execute_result"
    }
   ],
   "source": [
    "true_dist_func(0)"
   ]
  },
  {
   "cell_type": "code",
   "execution_count": 333,
   "metadata": {},
   "outputs": [
    {
     "data": {
      "text/plain": [
       "array([[0.        , 0.        ],\n",
       "       [0.        , 0.05263158],\n",
       "       [0.        , 0.10526316],\n",
       "       [0.        , 0.15789474],\n",
       "       [0.        , 0.21052632],\n",
       "       [0.        , 0.26315789],\n",
       "       [0.        , 0.31578947],\n",
       "       [0.        , 0.36842105],\n",
       "       [0.        , 0.42105263],\n",
       "       [0.        , 0.47368421],\n",
       "       [0.        , 0.52631579],\n",
       "       [0.        , 0.57894737],\n",
       "       [0.        , 0.63157895],\n",
       "       [0.        , 0.68421053],\n",
       "       [0.        , 0.73684211],\n",
       "       [0.        , 0.78947368],\n",
       "       [0.        , 0.84210526],\n",
       "       [0.        , 0.89473684],\n",
       "       [0.        , 0.94736842],\n",
       "       [0.        , 1.        ],\n",
       "       [0.05263158, 0.        ],\n",
       "       [0.05263158, 0.05263158],\n",
       "       [0.05263158, 0.10526316],\n",
       "       [0.05263158, 0.15789474],\n",
       "       [0.05263158, 0.21052632],\n",
       "       [0.05263158, 0.26315789],\n",
       "       [0.05263158, 0.31578947],\n",
       "       [0.05263158, 0.36842105],\n",
       "       [0.05263158, 0.42105263],\n",
       "       [0.05263158, 0.47368421],\n",
       "       [0.05263158, 0.52631579],\n",
       "       [0.05263158, 0.57894737],\n",
       "       [0.05263158, 0.63157895],\n",
       "       [0.05263158, 0.68421053],\n",
       "       [0.05263158, 0.73684211],\n",
       "       [0.05263158, 0.78947368],\n",
       "       [0.05263158, 0.84210526],\n",
       "       [0.05263158, 0.89473684],\n",
       "       [0.05263158, 0.94736842],\n",
       "       [0.05263158, 1.        ],\n",
       "       [0.10526316, 0.        ],\n",
       "       [0.10526316, 0.05263158],\n",
       "       [0.10526316, 0.10526316],\n",
       "       [0.10526316, 0.15789474],\n",
       "       [0.10526316, 0.21052632],\n",
       "       [0.10526316, 0.26315789],\n",
       "       [0.10526316, 0.31578947],\n",
       "       [0.10526316, 0.36842105],\n",
       "       [0.10526316, 0.42105263],\n",
       "       [0.10526316, 0.47368421],\n",
       "       [0.10526316, 0.52631579],\n",
       "       [0.10526316, 0.57894737],\n",
       "       [0.10526316, 0.63157895],\n",
       "       [0.10526316, 0.68421053],\n",
       "       [0.10526316, 0.73684211],\n",
       "       [0.10526316, 0.78947368],\n",
       "       [0.10526316, 0.84210526],\n",
       "       [0.10526316, 0.89473684],\n",
       "       [0.10526316, 0.94736842],\n",
       "       [0.10526316, 1.        ],\n",
       "       [0.15789474, 0.        ],\n",
       "       [0.15789474, 0.05263158],\n",
       "       [0.15789474, 0.10526316],\n",
       "       [0.15789474, 0.15789474],\n",
       "       [0.15789474, 0.21052632],\n",
       "       [0.15789474, 0.26315789],\n",
       "       [0.15789474, 0.31578947],\n",
       "       [0.15789474, 0.36842105],\n",
       "       [0.15789474, 0.42105263],\n",
       "       [0.15789474, 0.47368421],\n",
       "       [0.15789474, 0.52631579],\n",
       "       [0.15789474, 0.57894737],\n",
       "       [0.15789474, 0.63157895],\n",
       "       [0.15789474, 0.68421053],\n",
       "       [0.15789474, 0.73684211],\n",
       "       [0.15789474, 0.78947368],\n",
       "       [0.15789474, 0.84210526],\n",
       "       [0.15789474, 0.89473684],\n",
       "       [0.15789474, 0.94736842],\n",
       "       [0.15789474, 1.        ],\n",
       "       [0.21052632, 0.        ],\n",
       "       [0.21052632, 0.05263158],\n",
       "       [0.21052632, 0.10526316],\n",
       "       [0.21052632, 0.15789474],\n",
       "       [0.21052632, 0.21052632],\n",
       "       [0.21052632, 0.26315789],\n",
       "       [0.21052632, 0.31578947],\n",
       "       [0.21052632, 0.36842105],\n",
       "       [0.21052632, 0.42105263],\n",
       "       [0.21052632, 0.47368421],\n",
       "       [0.21052632, 0.52631579],\n",
       "       [0.21052632, 0.57894737],\n",
       "       [0.21052632, 0.63157895],\n",
       "       [0.21052632, 0.68421053],\n",
       "       [0.21052632, 0.73684211],\n",
       "       [0.21052632, 0.78947368],\n",
       "       [0.21052632, 0.84210526],\n",
       "       [0.21052632, 0.89473684],\n",
       "       [0.21052632, 0.94736842],\n",
       "       [0.21052632, 1.        ],\n",
       "       [0.26315789, 0.        ],\n",
       "       [0.26315789, 0.05263158],\n",
       "       [0.26315789, 0.10526316],\n",
       "       [0.26315789, 0.15789474],\n",
       "       [0.26315789, 0.21052632],\n",
       "       [0.26315789, 0.26315789],\n",
       "       [0.26315789, 0.31578947],\n",
       "       [0.26315789, 0.36842105],\n",
       "       [0.26315789, 0.42105263],\n",
       "       [0.26315789, 0.47368421],\n",
       "       [0.26315789, 0.52631579],\n",
       "       [0.26315789, 0.57894737],\n",
       "       [0.26315789, 0.63157895],\n",
       "       [0.26315789, 0.68421053],\n",
       "       [0.26315789, 0.73684211],\n",
       "       [0.26315789, 0.78947368],\n",
       "       [0.26315789, 0.84210526],\n",
       "       [0.26315789, 0.89473684],\n",
       "       [0.26315789, 0.94736842],\n",
       "       [0.26315789, 1.        ],\n",
       "       [0.31578947, 0.        ],\n",
       "       [0.31578947, 0.05263158],\n",
       "       [0.31578947, 0.10526316],\n",
       "       [0.31578947, 0.15789474],\n",
       "       [0.31578947, 0.21052632],\n",
       "       [0.31578947, 0.26315789],\n",
       "       [0.31578947, 0.31578947],\n",
       "       [0.31578947, 0.36842105],\n",
       "       [0.31578947, 0.42105263],\n",
       "       [0.31578947, 0.47368421],\n",
       "       [0.31578947, 0.52631579],\n",
       "       [0.31578947, 0.57894737],\n",
       "       [0.31578947, 0.63157895],\n",
       "       [0.31578947, 0.68421053],\n",
       "       [0.31578947, 0.73684211],\n",
       "       [0.31578947, 0.78947368],\n",
       "       [0.31578947, 0.84210526],\n",
       "       [0.31578947, 0.89473684],\n",
       "       [0.31578947, 0.94736842],\n",
       "       [0.31578947, 1.        ],\n",
       "       [0.36842105, 0.        ],\n",
       "       [0.36842105, 0.05263158],\n",
       "       [0.36842105, 0.10526316],\n",
       "       [0.36842105, 0.15789474],\n",
       "       [0.36842105, 0.21052632],\n",
       "       [0.36842105, 0.26315789],\n",
       "       [0.36842105, 0.31578947],\n",
       "       [0.36842105, 0.36842105],\n",
       "       [0.36842105, 0.42105263],\n",
       "       [0.36842105, 0.47368421],\n",
       "       [0.36842105, 0.52631579],\n",
       "       [0.36842105, 0.57894737],\n",
       "       [0.36842105, 0.63157895],\n",
       "       [0.36842105, 0.68421053],\n",
       "       [0.36842105, 0.73684211],\n",
       "       [0.36842105, 0.78947368],\n",
       "       [0.36842105, 0.84210526],\n",
       "       [0.36842105, 0.89473684],\n",
       "       [0.36842105, 0.94736842],\n",
       "       [0.36842105, 1.        ],\n",
       "       [0.42105263, 0.        ],\n",
       "       [0.42105263, 0.05263158],\n",
       "       [0.42105263, 0.10526316],\n",
       "       [0.42105263, 0.15789474],\n",
       "       [0.42105263, 0.21052632],\n",
       "       [0.42105263, 0.26315789],\n",
       "       [0.42105263, 0.31578947],\n",
       "       [0.42105263, 0.36842105],\n",
       "       [0.42105263, 0.42105263],\n",
       "       [0.42105263, 0.47368421],\n",
       "       [0.42105263, 0.52631579],\n",
       "       [0.42105263, 0.57894737],\n",
       "       [0.42105263, 0.63157895],\n",
       "       [0.42105263, 0.68421053],\n",
       "       [0.42105263, 0.73684211],\n",
       "       [0.42105263, 0.78947368],\n",
       "       [0.42105263, 0.84210526],\n",
       "       [0.42105263, 0.89473684],\n",
       "       [0.42105263, 0.94736842],\n",
       "       [0.42105263, 1.        ],\n",
       "       [0.47368421, 0.        ],\n",
       "       [0.47368421, 0.05263158],\n",
       "       [0.47368421, 0.10526316],\n",
       "       [0.47368421, 0.15789474],\n",
       "       [0.47368421, 0.21052632],\n",
       "       [0.47368421, 0.26315789],\n",
       "       [0.47368421, 0.31578947],\n",
       "       [0.47368421, 0.36842105],\n",
       "       [0.47368421, 0.42105263],\n",
       "       [0.47368421, 0.47368421],\n",
       "       [0.47368421, 0.52631579],\n",
       "       [0.47368421, 0.57894737],\n",
       "       [0.47368421, 0.63157895],\n",
       "       [0.47368421, 0.68421053],\n",
       "       [0.47368421, 0.73684211],\n",
       "       [0.47368421, 0.78947368],\n",
       "       [0.47368421, 0.84210526],\n",
       "       [0.47368421, 0.89473684],\n",
       "       [0.47368421, 0.94736842],\n",
       "       [0.47368421, 1.        ],\n",
       "       [0.52631579, 0.        ],\n",
       "       [0.52631579, 0.05263158],\n",
       "       [0.52631579, 0.10526316],\n",
       "       [0.52631579, 0.15789474],\n",
       "       [0.52631579, 0.21052632],\n",
       "       [0.52631579, 0.26315789],\n",
       "       [0.52631579, 0.31578947],\n",
       "       [0.52631579, 0.36842105],\n",
       "       [0.52631579, 0.42105263],\n",
       "       [0.52631579, 0.47368421],\n",
       "       [0.52631579, 0.52631579],\n",
       "       [0.52631579, 0.57894737],\n",
       "       [0.52631579, 0.63157895],\n",
       "       [0.52631579, 0.68421053],\n",
       "       [0.52631579, 0.73684211],\n",
       "       [0.52631579, 0.78947368],\n",
       "       [0.52631579, 0.84210526],\n",
       "       [0.52631579, 0.89473684],\n",
       "       [0.52631579, 0.94736842],\n",
       "       [0.52631579, 1.        ],\n",
       "       [0.57894737, 0.        ],\n",
       "       [0.57894737, 0.05263158],\n",
       "       [0.57894737, 0.10526316],\n",
       "       [0.57894737, 0.15789474],\n",
       "       [0.57894737, 0.21052632],\n",
       "       [0.57894737, 0.26315789],\n",
       "       [0.57894737, 0.31578947],\n",
       "       [0.57894737, 0.36842105],\n",
       "       [0.57894737, 0.42105263],\n",
       "       [0.57894737, 0.47368421],\n",
       "       [0.57894737, 0.52631579],\n",
       "       [0.57894737, 0.57894737],\n",
       "       [0.57894737, 0.63157895],\n",
       "       [0.57894737, 0.68421053],\n",
       "       [0.57894737, 0.73684211],\n",
       "       [0.57894737, 0.78947368],\n",
       "       [0.57894737, 0.84210526],\n",
       "       [0.57894737, 0.89473684],\n",
       "       [0.57894737, 0.94736842],\n",
       "       [0.57894737, 1.        ],\n",
       "       [0.63157895, 0.        ],\n",
       "       [0.63157895, 0.05263158],\n",
       "       [0.63157895, 0.10526316],\n",
       "       [0.63157895, 0.15789474],\n",
       "       [0.63157895, 0.21052632],\n",
       "       [0.63157895, 0.26315789],\n",
       "       [0.63157895, 0.31578947],\n",
       "       [0.63157895, 0.36842105],\n",
       "       [0.63157895, 0.42105263],\n",
       "       [0.63157895, 0.47368421],\n",
       "       [0.63157895, 0.52631579],\n",
       "       [0.63157895, 0.57894737],\n",
       "       [0.63157895, 0.63157895],\n",
       "       [0.63157895, 0.68421053],\n",
       "       [0.63157895, 0.73684211],\n",
       "       [0.63157895, 0.78947368],\n",
       "       [0.63157895, 0.84210526],\n",
       "       [0.63157895, 0.89473684],\n",
       "       [0.63157895, 0.94736842],\n",
       "       [0.63157895, 1.        ],\n",
       "       [0.68421053, 0.        ],\n",
       "       [0.68421053, 0.05263158],\n",
       "       [0.68421053, 0.10526316],\n",
       "       [0.68421053, 0.15789474],\n",
       "       [0.68421053, 0.21052632],\n",
       "       [0.68421053, 0.26315789],\n",
       "       [0.68421053, 0.31578947],\n",
       "       [0.68421053, 0.36842105],\n",
       "       [0.68421053, 0.42105263],\n",
       "       [0.68421053, 0.47368421],\n",
       "       [0.68421053, 0.52631579],\n",
       "       [0.68421053, 0.57894737],\n",
       "       [0.68421053, 0.63157895],\n",
       "       [0.68421053, 0.68421053],\n",
       "       [0.68421053, 0.73684211],\n",
       "       [0.68421053, 0.78947368],\n",
       "       [0.68421053, 0.84210526],\n",
       "       [0.68421053, 0.89473684],\n",
       "       [0.68421053, 0.94736842],\n",
       "       [0.68421053, 1.        ],\n",
       "       [0.73684211, 0.        ],\n",
       "       [0.73684211, 0.05263158],\n",
       "       [0.73684211, 0.10526316],\n",
       "       [0.73684211, 0.15789474],\n",
       "       [0.73684211, 0.21052632],\n",
       "       [0.73684211, 0.26315789],\n",
       "       [0.73684211, 0.31578947],\n",
       "       [0.73684211, 0.36842105],\n",
       "       [0.73684211, 0.42105263],\n",
       "       [0.73684211, 0.47368421],\n",
       "       [0.73684211, 0.52631579],\n",
       "       [0.73684211, 0.57894737],\n",
       "       [0.73684211, 0.63157895],\n",
       "       [0.73684211, 0.68421053],\n",
       "       [0.73684211, 0.73684211],\n",
       "       [0.73684211, 0.78947368],\n",
       "       [0.73684211, 0.84210526],\n",
       "       [0.73684211, 0.89473684],\n",
       "       [0.73684211, 0.94736842],\n",
       "       [0.73684211, 1.        ],\n",
       "       [0.78947368, 0.        ],\n",
       "       [0.78947368, 0.05263158],\n",
       "       [0.78947368, 0.10526316],\n",
       "       [0.78947368, 0.15789474],\n",
       "       [0.78947368, 0.21052632],\n",
       "       [0.78947368, 0.26315789],\n",
       "       [0.78947368, 0.31578947],\n",
       "       [0.78947368, 0.36842105],\n",
       "       [0.78947368, 0.42105263],\n",
       "       [0.78947368, 0.47368421],\n",
       "       [0.78947368, 0.52631579],\n",
       "       [0.78947368, 0.57894737],\n",
       "       [0.78947368, 0.63157895],\n",
       "       [0.78947368, 0.68421053],\n",
       "       [0.78947368, 0.73684211],\n",
       "       [0.78947368, 0.78947368],\n",
       "       [0.78947368, 0.84210526],\n",
       "       [0.78947368, 0.89473684],\n",
       "       [0.78947368, 0.94736842],\n",
       "       [0.78947368, 1.        ],\n",
       "       [0.84210526, 0.        ],\n",
       "       [0.84210526, 0.05263158],\n",
       "       [0.84210526, 0.10526316],\n",
       "       [0.84210526, 0.15789474],\n",
       "       [0.84210526, 0.21052632],\n",
       "       [0.84210526, 0.26315789],\n",
       "       [0.84210526, 0.31578947],\n",
       "       [0.84210526, 0.36842105],\n",
       "       [0.84210526, 0.42105263],\n",
       "       [0.84210526, 0.47368421],\n",
       "       [0.84210526, 0.52631579],\n",
       "       [0.84210526, 0.57894737],\n",
       "       [0.84210526, 0.63157895],\n",
       "       [0.84210526, 0.68421053],\n",
       "       [0.84210526, 0.73684211],\n",
       "       [0.84210526, 0.78947368],\n",
       "       [0.84210526, 0.84210526],\n",
       "       [0.84210526, 0.89473684],\n",
       "       [0.84210526, 0.94736842],\n",
       "       [0.84210526, 1.        ],\n",
       "       [0.89473684, 0.        ],\n",
       "       [0.89473684, 0.05263158],\n",
       "       [0.89473684, 0.10526316],\n",
       "       [0.89473684, 0.15789474],\n",
       "       [0.89473684, 0.21052632],\n",
       "       [0.89473684, 0.26315789],\n",
       "       [0.89473684, 0.31578947],\n",
       "       [0.89473684, 0.36842105],\n",
       "       [0.89473684, 0.42105263],\n",
       "       [0.89473684, 0.47368421],\n",
       "       [0.89473684, 0.52631579],\n",
       "       [0.89473684, 0.57894737],\n",
       "       [0.89473684, 0.63157895],\n",
       "       [0.89473684, 0.68421053],\n",
       "       [0.89473684, 0.73684211],\n",
       "       [0.89473684, 0.78947368],\n",
       "       [0.89473684, 0.84210526],\n",
       "       [0.89473684, 0.89473684],\n",
       "       [0.89473684, 0.94736842],\n",
       "       [0.89473684, 1.        ],\n",
       "       [0.94736842, 0.        ],\n",
       "       [0.94736842, 0.05263158],\n",
       "       [0.94736842, 0.10526316],\n",
       "       [0.94736842, 0.15789474],\n",
       "       [0.94736842, 0.21052632],\n",
       "       [0.94736842, 0.26315789],\n",
       "       [0.94736842, 0.31578947],\n",
       "       [0.94736842, 0.36842105],\n",
       "       [0.94736842, 0.42105263],\n",
       "       [0.94736842, 0.47368421],\n",
       "       [0.94736842, 0.52631579],\n",
       "       [0.94736842, 0.57894737],\n",
       "       [0.94736842, 0.63157895],\n",
       "       [0.94736842, 0.68421053],\n",
       "       [0.94736842, 0.73684211],\n",
       "       [0.94736842, 0.78947368],\n",
       "       [0.94736842, 0.84210526],\n",
       "       [0.94736842, 0.89473684],\n",
       "       [0.94736842, 0.94736842],\n",
       "       [0.94736842, 1.        ],\n",
       "       [1.        , 0.        ],\n",
       "       [1.        , 0.05263158],\n",
       "       [1.        , 0.10526316],\n",
       "       [1.        , 0.15789474],\n",
       "       [1.        , 0.21052632],\n",
       "       [1.        , 0.26315789],\n",
       "       [1.        , 0.31578947],\n",
       "       [1.        , 0.36842105],\n",
       "       [1.        , 0.42105263],\n",
       "       [1.        , 0.47368421],\n",
       "       [1.        , 0.52631579],\n",
       "       [1.        , 0.57894737],\n",
       "       [1.        , 0.63157895],\n",
       "       [1.        , 0.68421053],\n",
       "       [1.        , 0.73684211],\n",
       "       [1.        , 0.78947368],\n",
       "       [1.        , 0.84210526],\n",
       "       [1.        , 0.89473684],\n",
       "       [1.        , 0.94736842],\n",
       "       [1.        , 1.        ]])"
      ]
     },
     "execution_count": 333,
     "metadata": {},
     "output_type": "execute_result"
    }
   ],
   "source": [
    "context_points"
   ]
  },
  {
   "cell_type": "code",
   "execution_count": 341,
   "metadata": {
    "scrolled": false
   },
   "outputs": [
    {
     "data": {
      "text/plain": [
       "array([3.66731663e-03, 4.12550634e-03, 4.51414799e-03, 4.80445365e-03,\n",
       "       4.97372657e-03, 5.00829020e-03, 4.90531326e-03, 4.67319271e-03,\n",
       "       4.33042295e-03, 3.90316241e-03, 3.42194175e-03, 2.91808732e-03,\n",
       "       2.42043618e-03, 1.95280407e-03, 1.53247496e-03, 1.16976275e-03,\n",
       "       8.68504091e-04, 6.27213837e-04, 4.40584359e-04, 3.01031680e-04,\n",
       "       4.12550634e-03, 4.64094168e-03, 5.07813970e-03, 5.40471578e-03,\n",
       "       5.59513742e-03, 5.63401939e-03, 5.51817664e-03, 5.25705526e-03,\n",
       "       4.87146030e-03, 4.39081839e-03, 3.84947465e-03, 3.28266931e-03,\n",
       "       2.72284230e-03, 2.19678484e-03, 1.72394037e-03, 1.31591137e-03,\n",
       "       9.77013849e-04, 7.05577109e-04, 4.95630390e-04, 3.38642182e-04,\n",
       "       4.51414799e-03, 5.07813970e-03, 5.55652379e-03, 5.91386483e-03,\n",
       "       6.12222507e-03, 6.16476990e-03, 6.03801423e-03, 5.75229401e-03,\n",
       "       5.33037424e-03, 4.80445365e-03, 4.21211284e-03, 3.59191184e-03,\n",
       "       2.97934655e-03, 2.40373207e-03, 1.88634347e-03, 1.43987627e-03,\n",
       "       1.06905304e-03, 7.72045714e-04, 5.42321049e-04, 3.70543832e-04,\n",
       "       4.80445365e-03, 5.40471578e-03, 5.91386483e-03, 6.29418653e-03,\n",
       "       6.51594646e-03, 6.56122735e-03, 6.42632001e-03, 6.12222507e-03,\n",
       "       5.67317156e-03, 5.11342893e-03, 4.48299457e-03, 3.82290833e-03,\n",
       "       3.17094886e-03, 2.55831650e-03, 2.00765456e-03, 1.53247496e-03,\n",
       "       1.13780403e-03, 8.21696112e-04, 5.77197813e-04, 3.94373572e-04,\n",
       "       4.97372657e-03, 5.59513742e-03, 6.12222507e-03, 6.51594646e-03,\n",
       "       6.74551954e-03, 6.79239579e-03, 6.65273532e-03, 6.33792636e-03,\n",
       "       5.87305157e-03, 5.29358781e-03, 4.64094168e-03, 3.95759895e-03,\n",
       "       3.28266931e-03, 2.64845239e-03, 2.07838925e-03, 1.58646789e-03,\n",
       "       1.17789171e-03, 8.50646520e-04, 5.97533935e-04, 4.08268338e-04,\n",
       "       5.00829020e-03, 5.63401939e-03, 6.16476990e-03, 6.56122735e-03,\n",
       "       6.79239579e-03, 6.83959779e-03, 6.69896679e-03, 6.38197015e-03,\n",
       "       5.91386483e-03, 5.33037424e-03, 4.67319271e-03, 3.98510126e-03,\n",
       "       3.30548138e-03, 2.66685713e-03, 2.09283248e-03, 1.59749264e-03,\n",
       "       1.18607717e-03, 8.56557869e-04, 6.01686343e-04, 4.11105494e-04,\n",
       "       4.90531326e-03, 5.51817664e-03, 6.03801423e-03, 6.42632001e-03,\n",
       "       6.65273532e-03, 6.69896679e-03, 6.56122735e-03, 6.25074857e-03,\n",
       "       5.79226810e-03, 5.22077483e-03, 4.57710581e-03, 3.90316241e-03,\n",
       "       3.23751639e-03, 2.61202309e-03, 2.04980113e-03, 1.56464612e-03,\n",
       "       1.16168988e-03, 8.38945928e-04, 5.89314891e-04, 4.02652632e-04,\n",
       "       4.67319271e-03, 5.25705526e-03, 5.75229401e-03, 6.12222507e-03,\n",
       "       6.33792636e-03, 6.38197015e-03, 6.25074857e-03, 5.95496171e-03,\n",
       "       5.51817664e-03, 4.97372657e-03, 4.36051611e-03, 3.71846387e-03,\n",
       "       3.08431637e-03, 2.48842155e-03, 1.95280407e-03, 1.49060670e-03,\n",
       "       1.10671845e-03, 7.99246815e-04, 5.61428376e-04, 3.83599017e-04,\n",
       "       4.33042295e-03, 4.87146030e-03, 5.33037424e-03, 5.67317156e-03,\n",
       "       5.87305157e-03, 5.91386483e-03, 5.79226810e-03, 5.51817664e-03,\n",
       "       5.11342893e-03, 4.60891322e-03, 4.04068058e-03, 3.44572165e-03,\n",
       "       2.85808766e-03, 2.30590059e-03, 1.80956962e-03, 1.38127355e-03,\n",
       "       1.02554277e-03, 7.40623588e-04, 5.20248677e-04, 3.55462762e-04,\n",
       "       3.90316241e-03, 4.39081839e-03, 4.80445365e-03, 5.11342893e-03,\n",
       "       5.29358781e-03, 5.33037424e-03, 5.22077483e-03, 4.97372657e-03,\n",
       "       4.60891322e-03, 4.15417549e-03, 3.64200743e-03, 3.10575004e-03,\n",
       "       2.57609487e-03, 2.07838925e-03, 1.63102870e-03, 1.24499040e-03,\n",
       "       9.24357744e-04, 6.67550071e-04, 4.68918418e-04, 3.20391081e-04,\n",
       "       3.42194175e-03, 3.84947465e-03, 4.21211284e-03, 4.48299457e-03,\n",
       "       4.64094168e-03, 4.67319271e-03, 4.57710581e-03, 4.36051611e-03,\n",
       "       4.04068058e-03, 3.64200743e-03, 3.19298455e-03, 2.72284230e-03,\n",
       "       2.25848828e-03, 1.82214476e-03, 1.42993927e-03, 1.09149561e-03,\n",
       "       8.10393732e-04, 5.85247862e-04, 4.11105494e-04, 2.80890084e-04,\n",
       "       2.91808732e-03, 3.28266931e-03, 3.59191184e-03, 3.82290833e-03,\n",
       "       3.95759895e-03, 3.98510126e-03, 3.90316241e-03, 3.71846387e-03,\n",
       "       3.44572165e-03, 3.10575004e-03, 2.72284230e-03, 2.32192485e-03,\n",
       "       1.92594337e-03, 1.55384805e-03, 1.21939178e-03, 9.30781330e-04,\n",
       "       6.91069529e-04, 4.99074646e-04, 3.50573393e-04, 2.39531194e-04,\n",
       "       2.42043618e-03, 2.72284230e-03, 2.97934655e-03, 3.17094886e-03,\n",
       "       3.28266931e-03, 3.30548138e-03, 3.23751639e-03, 3.08431637e-03,\n",
       "       2.85808766e-03, 2.57609487e-03, 2.25848828e-03, 1.92594337e-03,\n",
       "       1.59749264e-03, 1.28885452e-03, 1.01143649e-03, 7.72045714e-04,\n",
       "       5.73214407e-04, 4.13962366e-04, 2.90786543e-04, 1.98681501e-04,\n",
       "       1.95280407e-03, 2.19678484e-03, 2.40373207e-03, 2.55831650e-03,\n",
       "       2.64845239e-03, 2.66685713e-03, 2.61202309e-03, 2.48842155e-03,\n",
       "       2.30590059e-03, 2.07838925e-03, 1.82214476e-03, 1.55384805e-03,\n",
       "       1.28885452e-03, 1.03984578e-03, 8.16025354e-04, 6.22885257e-04,\n",
       "       4.62468474e-04, 3.33984180e-04, 2.34606122e-04, 1.60295919e-04,\n",
       "       1.53247496e-03, 1.72394037e-03, 1.88634347e-03, 2.00765456e-03,\n",
       "       2.07838925e-03, 2.09283248e-03, 2.04980113e-03, 1.95280407e-03,\n",
       "       1.80956962e-03, 1.63102870e-03, 1.42993927e-03, 1.21939178e-03,\n",
       "       1.01143649e-03, 8.16025354e-04, 6.40380899e-04, 4.88813024e-04,\n",
       "       3.62924970e-04, 2.62096132e-04, 1.84108592e-04, 1.25793205e-04,\n",
       "       1.16976275e-03, 1.31591137e-03, 1.43987627e-03, 1.53247496e-03,\n",
       "       1.58646789e-03, 1.59749264e-03, 1.56464612e-03, 1.49060670e-03,\n",
       "       1.38127355e-03, 1.24499040e-03, 1.09149561e-03, 9.30781330e-04,\n",
       "       7.72045714e-04, 6.22885257e-04, 4.88813024e-04, 3.73118830e-04,\n",
       "       2.77026457e-04, 2.00062187e-04, 1.40533045e-04, 9.60199737e-05,\n",
       "       8.68504091e-04, 9.77013849e-04, 1.06905304e-03, 1.13780403e-03,\n",
       "       1.17789171e-03, 1.18607717e-03, 1.16168988e-03, 1.10671845e-03,\n",
       "       1.02554277e-03, 9.24357744e-04, 8.10393732e-04, 6.91069529e-04,\n",
       "       5.73214407e-04, 4.62468474e-04, 3.62924970e-04, 2.77026457e-04,\n",
       "       2.05681547e-04, 1.48538520e-04, 1.04340409e-04, 7.12911571e-05,\n",
       "       6.27213837e-04, 7.05577109e-04, 7.72045714e-04, 8.21696112e-04,\n",
       "       8.50646520e-04, 8.56557869e-04, 8.38945928e-04, 7.99246815e-04,\n",
       "       7.40623588e-04, 6.67550071e-04, 5.85247862e-04, 4.99074646e-04,\n",
       "       4.13962366e-04, 3.33984180e-04, 2.62096132e-04, 2.00062187e-04,\n",
       "       1.48538520e-04, 1.07271130e-04, 7.53522630e-05, 5.14848470e-05,\n",
       "       4.40584359e-04, 4.95630390e-04, 5.42321049e-04, 5.77197813e-04,\n",
       "       5.97533935e-04, 6.01686343e-04, 5.89314891e-04, 5.61428376e-04,\n",
       "       5.20248677e-04, 4.68918418e-04, 4.11105494e-04, 3.50573393e-04,\n",
       "       2.90786543e-04, 2.34606122e-04, 1.84108592e-04, 1.40533045e-04,\n",
       "       1.04340409e-04, 7.53522630e-05, 5.29309568e-05, 3.61653665e-05,\n",
       "       3.01031680e-04, 3.38642182e-04, 3.70543832e-04, 3.94373572e-04,\n",
       "       4.08268338e-04, 4.11105494e-04, 4.02652632e-04, 3.83599017e-04,\n",
       "       3.55462762e-04, 3.20391081e-04, 2.80890084e-04, 2.39531194e-04,\n",
       "       1.98681501e-04, 1.60295919e-04, 1.25793205e-04, 9.60199737e-05,\n",
       "       7.12911571e-05, 5.14848470e-05, 3.61653665e-05, 2.47101851e-05])"
      ]
     },
     "execution_count": 341,
     "metadata": {},
     "output_type": "execute_result"
    }
   ],
   "source": [
    "ref_dist_func(0)"
   ]
  },
  {
   "cell_type": "code",
   "execution_count": null,
   "metadata": {},
   "outputs": [],
   "source": []
  },
  {
   "cell_type": "code",
   "execution_count": 19,
   "metadata": {},
   "outputs": [],
   "source": [
    "X = pickle.load(open(\"normalized_samples.p\", \"rb\"))\n",
    "y = pickle.load(open(\"standardized_returns.p\", \"rb\"))"
   ]
  },
  {
   "cell_type": "code",
   "execution_count": null,
   "metadata": {},
   "outputs": [],
   "source": []
  },
  {
   "cell_type": "code",
   "execution_count": null,
   "metadata": {},
   "outputs": [],
   "source": []
  }
 ],
 "metadata": {
  "kernelspec": {
   "display_name": "Python 3 (ipykernel)",
   "language": "python",
   "name": "python3"
  },
  "language_info": {
   "codemirror_mode": {
    "name": "ipython",
    "version": 3
   },
   "file_extension": ".py",
   "mimetype": "text/x-python",
   "name": "python",
   "nbconvert_exporter": "python",
   "pygments_lexer": "ipython3",
   "version": "3.7.10"
  }
 },
 "nbformat": 4,
 "nbformat_minor": 4
}
