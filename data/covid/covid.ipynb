{
 "cells": [
  {
   "cell_type": "code",
   "execution_count": 1,
   "metadata": {},
   "outputs": [],
   "source": [
    "import pickle\n",
    "import numpy as np\n",
    "import matplotlib.pyplot as plt"
   ]
  },
  {
   "cell_type": "code",
   "execution_count": 2,
   "metadata": {
    "scrolled": true
   },
   "outputs": [
    {
     "name": "stdout",
     "output_type": "stream",
     "text": [
      "['/home/sebtsh/fast-drbo/data/covid', '/home/sebtsh/miniconda3/envs/fastdrbo/lib/python37.zip', '/home/sebtsh/miniconda3/envs/fastdrbo/lib/python3.7', '/home/sebtsh/miniconda3/envs/fastdrbo/lib/python3.7/lib-dynload', '', '/home/sebtsh/miniconda3/envs/fastdrbo/lib/python3.7/site-packages', '/home/sebtsh/miniconda3/envs/fastdrbo/lib/python3.7/site-packages/IPython/extensions', '/home/sebtsh/.ipython', '/home/sebtsh/fast-drbo']\n"
     ]
    },
    {
     "data": {
      "text/plain": [
       "'/home/sebtsh/fast-drbo/data/covid'"
      ]
     },
     "execution_count": 2,
     "metadata": {},
     "output_type": "execute_result"
    }
   ],
   "source": [
    "import sys\n",
    "import os\n",
    "from covid_obj_func import median_cases\n",
    "sys.path.append(sys.path[0][:-len('data/covid/')])  # for imports to work\n",
    "#os.chdir('../../')\n",
    "os.getcwd()"
   ]
  },
  {
   "cell_type": "code",
   "execution_count": 3,
   "metadata": {},
   "outputs": [],
   "source": [
    "os.chdir(\"../../\")"
   ]
  },
  {
   "cell_type": "code",
   "execution_count": 4,
   "metadata": {
    "scrolled": true
   },
   "outputs": [
    {
     "name": "stderr",
     "output_type": "stream",
     "text": [
      "/home/sebtsh/fast-drbo/data/covid/load_params.py:120: YAMLLoadWarning: calling yaml.load() without Loader=... is deprecated, as the default Loader is unsafe. Please read https://msg.pyyaml.org/load for full details.\n",
      "  params = yaml.load(f)\n",
      "/home/sebtsh/fast-drbo/data/covid/load_params.py:100: YAMLLoadWarning: calling yaml.load() without Loader=... is deprecated, as the default Loader is unsafe. Please read https://msg.pyyaml.org/load for full details.\n",
      "  age_sev_params = yaml.load(f)\n"
     ]
    },
    {
     "name": "stdout",
     "output_type": "stream",
     "text": [
      "0 completed\n"
     ]
    },
    {
     "data": {
      "text/plain": [
       "4594.0"
      ]
     },
     "execution_count": 4,
     "metadata": {},
     "output_type": "execute_result"
    }
   ],
   "source": [
    "median_cases(0, 0, 0, 0, 0)"
   ]
  },
  {
   "cell_type": "code",
   "execution_count": 5,
   "metadata": {},
   "outputs": [
    {
     "name": "stdout",
     "output_type": "stream",
     "text": [
      "0 completed\n"
     ]
    },
    {
     "data": {
      "text/plain": [
       "6602.0"
      ]
     },
     "execution_count": 5,
     "metadata": {},
     "output_type": "execute_result"
    }
   ],
   "source": [
    "median_cases(0.33, 0.33, 0, 0, 0)"
   ]
  },
  {
   "cell_type": "code",
   "execution_count": 6,
   "metadata": {},
   "outputs": [
    {
     "name": "stdout",
     "output_type": "stream",
     "text": [
      "0 completed\n"
     ]
    },
    {
     "data": {
      "text/plain": [
       "9081.0"
      ]
     },
     "execution_count": 6,
     "metadata": {},
     "output_type": "execute_result"
    }
   ],
   "source": [
    "median_cases(0.5, 0.5, 0, 0, 0)"
   ]
  },
  {
   "cell_type": "code",
   "execution_count": 20,
   "metadata": {},
   "outputs": [],
   "source": [
    "# X, y = pickle.load(open(\"covid_params_results.p\", \"rb\"))\n",
    "# X.shape\n",
    "# y = np.array(y)\n",
    "# y.shape\n",
    "# plt.hist(y, bins='auto')\n",
    "# y_hat = (-y - np.mean(-y)) / np.std(-y)\n",
    "# "
   ]
  },
  {
   "cell_type": "code",
   "execution_count": null,
   "metadata": {},
   "outputs": [],
   "source": []
  },
  {
   "cell_type": "code",
   "execution_count": 43,
   "metadata": {},
   "outputs": [],
   "source": [
    "X, y_hat = pickle.load(open(\"data/covid/covid_X_y.p\", \"rb\"))"
   ]
  },
  {
   "cell_type": "code",
   "execution_count": 4,
   "metadata": {},
   "outputs": [
    {
     "data": {
      "text/plain": [
       "(array([   9.,   71.,  446., 1246.,   24.,    0.,    8.,    2.,   20.,\n",
       "         190.,  409.,  433.,    2.,    0.,    0.,    0.,    0.,  165.]),\n",
       " array([-1.48104201, -1.25785653, -1.03467105, -0.81148557, -0.58830009,\n",
       "        -0.36511461, -0.14192913,  0.08125635,  0.30444183,  0.52762731,\n",
       "         0.75081279,  0.97399827,  1.19718375,  1.42036923,  1.64355471,\n",
       "         1.86674019,  2.08992567,  2.31311115,  2.53629663]),\n",
       " <BarContainer object of 18 artists>)"
      ]
     },
     "execution_count": 4,
     "metadata": {},
     "output_type": "execute_result"
    },
    {
     "data": {
      "image/png": "[encoded data removed]",
      "text/plain": [
       "<Figure size 432x288 with 1 Axes>"
      ]
     },
     "metadata": {
      "needs_background": "light"
     },
     "output_type": "display_data"
    }
   ],
   "source": [
    "plt.hist(y_hat, bins='auto')"
   ]
  },
  {
   "cell_type": "code",
   "execution_count": 5,
   "metadata": {},
   "outputs": [
    {
     "data": {
      "text/plain": [
       "array([[0.        , 0.        , 0.        , 0.        ],\n",
       "       [0.        , 0.        , 0.        , 0.11111111],\n",
       "       [0.        , 0.        , 0.        , 0.22222222],\n",
       "       ...,\n",
       "       [1.        , 0.        , 0.88888889, 0.        ],\n",
       "       [1.        , 0.        , 0.88888889, 0.11111111],\n",
       "       [1.        , 0.        , 1.        , 0.        ]])"
      ]
     },
     "execution_count": 5,
     "metadata": {},
     "output_type": "execute_result"
    }
   ],
   "source": [
    "X"
   ]
  },
  {
   "cell_type": "code",
   "execution_count": 45,
   "metadata": {},
   "outputs": [],
   "source": [
    "num_contexts = 55\n",
    "num_actions = 55"
   ]
  },
  {
   "cell_type": "code",
   "execution_count": null,
   "metadata": {},
   "outputs": [],
   "source": []
  },
  {
   "cell_type": "code",
   "execution_count": 9,
   "metadata": {
    "scrolled": true
   },
   "outputs": [
    {
     "name": "stdout",
     "output_type": "stream",
     "text": [
      "====(0, array([0., 0.]))====\n",
      "  Mean : -0.10780977733007914\n",
      "  Std : 1.0681092498982157\n",
      "====(1, array([0.        , 0.11111111]))====\n",
      "  Mean : -0.0066693863010299555\n",
      "  Std : 1.0272565196516878\n",
      "====(2, array([0.        , 0.22222222]))====\n",
      "  Mean : 0.009317994814445762\n",
      "  Std : 1.0129413092533306\n",
      "====(3, array([0.        , 0.33333333]))====\n",
      "  Mean : 0.013237536829951223\n",
      "  Std : 0.9964024667504336\n",
      "====(4, array([0.        , 0.44444444]))====\n",
      "  Mean : 0.013527557349052848\n",
      "  Std : 0.9950367934107047\n",
      "====(5, array([0.        , 0.55555556]))====\n",
      "  Mean : -0.010271185247813775\n",
      "  Std : 0.9980826716152968\n",
      "====(6, array([0.        , 0.66666667]))====\n",
      "  Mean : -0.020650081324780595\n",
      "  Std : 1.000476134750411\n",
      "====(7, array([0.        , 0.77777778]))====\n",
      "  Mean : -0.0493877027616421\n",
      "  Std : 1.0085498527934458\n",
      "====(8, array([0.        , 0.88888889]))====\n",
      "  Mean : -0.10437857868864917\n",
      "  Std : 1.027196455528204\n",
      "====(9, array([0., 1.]))====\n",
      "  Mean : -0.19495028080102536\n",
      "  Std : 1.0508500424169795\n",
      "====(10, array([0.11111111, 0.        ]))====\n",
      "  Mean : 0.00423837072253392\n",
      "  Std : 1.023835866242113\n",
      "====(11, array([0.11111111, 0.11111111]))====\n",
      "  Mean : 0.026872766235360286\n",
      "  Std : 1.0037431892892712\n",
      "====(12, array([0.11111111, 0.22222222]))====\n",
      "  Mean : 0.04844943985499256\n",
      "  Std : 0.985920728366626\n",
      "====(13, array([0.11111111, 0.33333333]))====\n",
      "  Mean : 0.07323339921527786\n",
      "  Std : 0.9709709550162128\n",
      "====(14, array([0.11111111, 0.44444444]))====\n",
      "  Mean : 0.05578312048139258\n",
      "  Std : 0.9739997392423356\n",
      "====(15, array([0.11111111, 0.55555556]))====\n",
      "  Mean : 0.043774991488296194\n",
      "  Std : 0.9746718820660634\n",
      "====(16, array([0.11111111, 0.66666667]))====\n",
      "  Mean : 0.020978525685383657\n",
      "  Std : 0.9826569969677585\n",
      "====(17, array([0.11111111, 0.77777778]))====\n",
      "  Mean : -0.029892352867327165\n",
      "  Std : 0.9966013266987286\n",
      "====(18, array([0.11111111, 0.88888889]))====\n",
      "  Mean : -0.11834861119331525\n",
      "  Std : 1.0202386406065993\n",
      "====(19, array([0.22222222, 0.        ]))====\n",
      "  Mean : 0.03628990309089462\n",
      "  Std : 1.017980836085064\n",
      "====(20, array([0.22222222, 0.11111111]))====\n",
      "  Mean : 0.07493940226881668\n",
      "  Std : 0.9856451678158998\n",
      "====(21, array([0.22222222, 0.22222222]))====\n",
      "  Mean : 0.0807355476432148\n",
      "  Std : 0.9680865593532194\n",
      "====(22, array([0.22222222, 0.33333333]))====\n",
      "  Mean : 0.08676840094129148\n",
      "  Std : 0.9611410571535651\n",
      "====(23, array([0.22222222, 0.44444444]))====\n",
      "  Mean : 0.07750053935294184\n",
      "  Std : 0.9623356450631654\n",
      "====(24, array([0.22222222, 0.55555556]))====\n",
      "  Mean : 0.056687302099768175\n",
      "  Std : 0.9651835814094566\n",
      "====(25, array([0.22222222, 0.66666667]))====\n",
      "  Mean : 0.011081575471041548\n",
      "  Std : 0.9796889947367027\n",
      "====(26, array([0.22222222, 0.77777778]))====\n",
      "  Mean : -0.07461735541966438\n",
      "  Std : 1.0036549138456197\n",
      "====(27, array([0.33333333, 0.        ]))====\n",
      "  Mean : 0.026416410418538653\n",
      "  Std : 1.0049764201120426\n",
      "====(28, array([0.33333333, 0.11111111]))====\n",
      "  Mean : 0.06142999058860608\n",
      "  Std : 0.9799761534880155\n",
      "====(29, array([0.33333333, 0.22222222]))====\n",
      "  Mean : 0.08609879474277748\n",
      "  Std : 0.9633022642989977\n",
      "====(30, array([0.33333333, 0.33333333]))====\n",
      "  Mean : 0.091020613552237\n",
      "  Std : 0.9565126688078428\n",
      "====(31, array([0.33333333, 0.44444444]))====\n",
      "  Mean : 0.099778806728342\n",
      "  Std : 0.9639565887518962\n",
      "====(32, array([0.33333333, 0.55555556]))====\n",
      "  Mean : 0.024576059624533627\n",
      "  Std : 0.9745850464323609\n",
      "====(33, array([0.33333333, 0.66666667]))====\n",
      "  Mean : -0.05434150912835547\n",
      "  Std : 0.9953443362412215\n",
      "====(34, array([0.44444444, 0.        ]))====\n",
      "  Mean : -0.001325331735819554\n",
      "  Std : 1.0100193919136544\n",
      "====(35, array([0.44444444, 0.11111111]))====\n",
      "  Mean : 0.055292644603500175\n",
      "  Std : 0.9807274833846288\n",
      "====(36, array([0.44444444, 0.22222222]))====\n",
      "  Mean : 0.07852840619269898\n",
      "  Std : 0.9668814355908442\n",
      "====(37, array([0.44444444, 0.33333333]))====\n",
      "  Mean : 0.06851203576460915\n",
      "  Std : 0.9640856842595484\n",
      "====(38, array([0.44444444, 0.44444444]))====\n",
      "  Mean : 0.030124834556168666\n",
      "  Std : 0.974620799302099\n",
      "====(39, array([0.44444444, 0.55555556]))====\n",
      "  Mean : -0.049788613479223726\n",
      "  Std : 0.9933631170094018\n",
      "====(40, array([0.55555556, 0.        ]))====\n",
      "  Mean : -0.0107339385760862\n",
      "  Std : 1.0111821634747462\n",
      "====(41, array([0.55555556, 0.11111111]))====\n",
      "  Mean : 0.04767960597708319\n",
      "  Std : 0.9828690172910554\n",
      "====(42, array([0.55555556, 0.22222222]))====\n",
      "  Mean : 0.05462303840498621\n",
      "  Std : 0.9743224027803431\n",
      "====(43, array([0.55555556, 0.33333333]))====\n",
      "  Mean : 0.023968296036710433\n",
      "  Std : 0.9811334181503428\n",
      "====(44, array([0.55555556, 0.44444444]))====\n",
      "  Mean : -0.05022364425787612\n",
      "  Std : 0.9967255001354695\n",
      "====(45, array([0.66666667, 0.        ]))====\n",
      "  Mean : -0.004099719201637075\n",
      "  Std : 1.0099219775792114\n",
      "====(46, array([0.66666667, 0.11111111]))====\n",
      "  Mean : 0.02175049206710996\n",
      "  Std : 0.9954581786456508\n",
      "====(47, array([0.66666667, 0.22222222]))====\n",
      "  Mean : 0.008880831531976455\n",
      "  Std : 0.989284701700722\n",
      "====(48, array([0.66666667, 0.33333333]))====\n",
      "  Mean : -0.054000308517647665\n",
      "  Std : 1.0035271034555593\n",
      "====(49, array([0.77777778, 0.        ]))====\n",
      "  Mean : -0.052049067525162675\n",
      "  Std : 1.0291250997834482\n",
      "====(50, array([0.77777778, 0.11111111]))====\n",
      "  Mean : -0.026245771340387962\n",
      "  Std : 1.011472812290146\n",
      "====(51, array([0.77777778, 0.22222222]))====\n",
      "  Mean : -0.0757411849311831\n",
      "  Std : 1.0150665832566172\n",
      "====(52, array([0.88888889, 0.        ]))====\n",
      "  Mean : -0.10389450032220754\n",
      "  Std : 1.0461708525206015\n",
      "====(53, array([0.88888889, 0.11111111]))====\n",
      "  Mean : -0.11717573409400725\n",
      "  Std : 1.0387247223576754\n",
      "====(54, array([1., 0.]))====\n",
      "  Mean : -0.1955025992896086\n",
      "  Std : 1.0736971701558902\n"
     ]
    }
   ],
   "source": [
    "for i in range(num_actions):\n",
    "    print(f\"===={i, X[i*num_contexts, :2]}====\")\n",
    "    print(f\"  Mean : {np.mean(y_hat[i*num_contexts:(i+1)*num_contexts])}\")\n",
    "    print(f\"  Std : {np.std(y_hat[i*num_contexts:(i+1)*num_contexts])}\")\n",
    "    #plt.hist(y_hat[i*100:(i+1)*100], bins='auto')\n",
    "    #plt.show()"
   ]
  },
  {
   "cell_type": "code",
   "execution_count": 46,
   "metadata": {},
   "outputs": [],
   "source": [
    "np.set_printoptions(precision=4,suppress=True, linewidth=105)"
   ]
  },
  {
   "cell_type": "code",
   "execution_count": 52,
   "metadata": {
    "scrolled": true
   },
   "outputs": [
    {
     "data": {
      "text/plain": [
       "array([ 3.0498,  0.9159,  0.9419,  0.9644,  1.045 ,  1.1306,  1.2274,  1.4473,  1.6316,  1.9694,\n",
       "        0.8922, -1.2479, -1.1818, -1.1279, -0.9979, -0.9452, -0.7554, -0.5125, -0.2129,  0.9362,\n",
       "       -1.2131, -1.138 , -1.0644, -0.9783, -0.77  , -0.5637, -0.2128,  0.9534, -1.1606, -1.0837,\n",
       "       -1.0087, -0.8353, -0.5939, -0.2191,  1.0458, -1.0899, -0.967 , -0.8651, -0.5281, -0.2048,\n",
       "        1.1149, -1.0092, -0.8473, -0.5663, -0.2094,  1.1755, -0.7942, -0.4649, -0.2162,  1.3746,\n",
       "       -0.4717, -0.2123,  1.5138, -0.2138,  1.9768])"
      ]
     },
     "execution_count": 52,
     "metadata": {},
     "output_type": "execute_result"
    }
   ],
   "source": [
    "# x = array([0., 0.])) \n",
    "j = 0\n",
    "np.squeeze(y_hat[j*num_contexts:(j+1)*num_contexts])"
   ]
  },
  {
   "cell_type": "code",
   "execution_count": 51,
   "metadata": {
    "scrolled": true
   },
   "outputs": [
    {
     "data": {
      "text/plain": [
       "array([ 2.5544,  1.0242,  1.0094,  1.0117,  1.009 ,  1.0004,  1.0129,  1.0022,  1.0331,  2.5618,\n",
       "        1.024 , -0.5584, -0.5309, -0.5528, -0.5334, -0.5442, -0.5464, -0.5717,  1.0299,  1.0103,\n",
       "       -0.5221, -0.5832, -0.5417, -0.5382, -0.5774, -0.5275,  0.1977,  1.0292, -0.5422, -0.5201,\n",
       "       -0.5284, -0.5447, -0.543 , -0.5151,  1.0008, -0.5403, -0.5261, -0.5601, -0.5148,  1.0087,\n",
       "        1.0177, -0.5392, -0.5818, -0.546 ,  0.9978,  1.0174, -0.5179, -0.536 ,  0.2517,  0.999 ,\n",
       "       -0.574 ,  0.2512,  1.0179, -0.5152,  2.5569])"
      ]
     },
     "execution_count": 51,
     "metadata": {},
     "output_type": "execute_result"
    }
   ],
   "source": [
    "# x = array([0.33333333, 0.33333333])) \n",
    "j = 30\n",
    "np.squeeze(y_hat[j*num_contexts:(j+1)*num_contexts])"
   ]
  },
  {
   "cell_type": "code",
   "execution_count": 50,
   "metadata": {},
   "outputs": [
    {
     "name": "stdout",
     "output_type": "stream",
     "text": [
      "[0.2222 0.2222]\n"
     ]
    },
    {
     "data": {
      "text/plain": [
       "array([ 1.0988, -0.6051, -0.6202,  0.7358,  1.0756, -0.62  ,  0.7313,  1.0989,  0.7318,  2.4352,\n",
       "        2.66  ,  1.1309,  1.1146,  1.1442,  1.1364,  1.121 ,  1.133 ,  1.1096,  1.132 ,  2.5618,\n",
       "        0.9642, -0.6022, -0.5552, -0.5808, -0.5605, -0.5615, -0.56  , -0.5899,  0.8809,  0.9698,\n",
       "       -0.5674, -0.5754, -0.5754, -0.579 , -0.5587, -0.5809, -0.5859,  0.988 , -0.5613, -0.5482,\n",
       "       -0.5765, -0.5593, -0.5848,  0.8764,  0.9886, -0.5875, -0.5837, -0.5617, -0.5401,  0.8676,\n",
       "        0.9822, -0.5933, -0.5855, -0.5513,  0.8962,  0.9939, -0.5488, -0.5683,  0.1866,  0.98  ,\n",
       "       -0.5777, -0.5679,  0.9951,  0.8623,  2.4338,  2.5575,  1.1347,  1.1256,  1.1241,  1.1011,\n",
       "        1.1192,  1.1395,  1.1309,  1.1238,  2.6649,  0.8649, -0.5786, -0.549 , -0.5892, -0.5794,\n",
       "       -0.5753, -0.5802, -0.5873,  0.9953,  0.8774, -0.5696, -0.5688, -0.5507, -0.5841, -0.5818,\n",
       "       -0.5872,  0.1774,  0.8895, -0.5374, -0.5692, -0.5577, -0.5782, -0.5697, -0.534 ,  0.8665])"
      ]
     },
     "execution_count": 50,
     "metadata": {},
     "output_type": "execute_result"
    }
   ],
   "source": [
    "j = 12\n",
    "print(X[j*100:(j+1)*100][0, :2])\n",
    "np.squeeze(y_hat[j*100:(j+1)*100])"
   ]
  },
  {
   "cell_type": "code",
   "execution_count": 53,
   "metadata": {},
   "outputs": [
    {
     "data": {
      "text/plain": [
       "array([], dtype=float64)"
      ]
     },
     "execution_count": 53,
     "metadata": {},
     "output_type": "execute_result"
    }
   ],
   "source": [
    "j = 54\n",
    "np.squeeze(y_hat[j*100:(j+1)*100])"
   ]
  },
  {
   "cell_type": "code",
   "execution_count": 82,
   "metadata": {},
   "outputs": [
    {
     "name": "stdout",
     "output_type": "stream",
     "text": [
      "0\n",
      "-0.7763913296601744\n",
      "1\n",
      "-0.8190236369292425\n",
      "2\n",
      "-0.8572899850201531\n",
      "3\n",
      "-0.9053155359798865\n",
      "4\n",
      "-0.9684935334991079\n",
      "5\n",
      "-1.0323135838386466\n",
      "6\n",
      "-1.103324625765739\n",
      "7\n",
      "-1.1698412979506103\n",
      "8\n",
      "-1.2723129280732501\n",
      "9\n",
      "-1.4470797057636167\n",
      "10\n",
      "-0.8120894664698158\n",
      "11\n",
      "-0.8472739610232033\n",
      "12\n",
      "-0.8908051422407157\n",
      "13\n",
      "-0.9560377087849524\n",
      "14\n",
      "-1.0264066978917274\n",
      "15\n",
      "-1.091510853871901\n",
      "16\n",
      "-1.1751061310772122\n",
      "17\n",
      "-1.2845119316592786\n",
      "18\n",
      "-1.441301230380761\n",
      "19\n",
      "-0.8494569406122822\n",
      "20\n",
      "-0.8913187844969696\n",
      "21\n",
      "-0.9632287003725061\n",
      "22\n",
      "-1.0198577591244913\n",
      "23\n",
      "-1.0984450243313275\n",
      "24\n",
      "-1.1749777205131486\n",
      "25\n",
      "-1.283484647146771\n",
      "26\n",
      "-1.436293218382286\n",
      "27\n",
      "-0.8932449429579213\n",
      "28\n",
      "-0.9751708828304078\n",
      "29\n",
      "-1.0242237183026488\n",
      "30\n",
      "-1.0911256221797105\n",
      "31\n",
      "-1.1748493099490853\n",
      "32\n",
      "-1.2673049160747751\n",
      "33\n",
      "-1.444639905046411\n",
      "34\n",
      "-0.9641275743209503\n",
      "35\n",
      "-1.0347533845558523\n",
      "36\n",
      "-1.0979313820750738\n",
      "37\n",
      "-1.1712538141553084\n",
      "38\n",
      "-1.2869517323764843\n",
      "39\n",
      "-1.449134274788632\n",
      "40\n",
      "-1.0261498767636006\n",
      "41\n",
      "-1.1022973412532313\n",
      "42\n",
      "-1.1797289113834966\n",
      "43\n",
      "-1.2881074274530555\n",
      "44\n",
      "-1.4406591775604438\n",
      "45\n",
      "-1.089327874282822\n",
      "46\n",
      "-1.1700981190787374\n",
      "47\n",
      "-1.279632330224867\n",
      "48\n",
      "-1.4454103684307917\n",
      "49\n",
      "-1.174207257128768\n",
      "50\n",
      "-1.2730833914576307\n",
      "51\n",
      "-1.4360363972541592\n",
      "52\n",
      "-1.2873369640686747\n",
      "53\n",
      "-1.449134274788632\n",
      "54\n",
      "-1.4383477874073016\n"
     ]
    }
   ],
   "source": [
    "for j in range(55):\n",
    "    print(j)\n",
    "    print(np.min(y_hat[j*100:(j+1)*100]))"
   ]
  },
  {
   "cell_type": "code",
   "execution_count": null,
   "metadata": {},
   "outputs": [],
   "source": []
  },
  {
   "cell_type": "code",
   "execution_count": 11,
   "metadata": {},
   "outputs": [],
   "source": [
    "#pickle.dump((X, y_hat[:, None]), open(\"covid_X_y.p\", \"wb\"))"
   ]
  },
  {
   "cell_type": "code",
   "execution_count": null,
   "metadata": {},
   "outputs": [],
   "source": []
  },
  {
   "cell_type": "markdown",
   "metadata": {},
   "source": [
    "### Check DRBO solution"
   ]
  },
  {
   "cell_type": "code",
   "execution_count": 58,
   "metadata": {},
   "outputs": [
    {
     "data": {
      "text/plain": [
       "'/home/sebtsh/fast-drbo'"
      ]
     },
     "execution_count": 58,
     "metadata": {},
     "output_type": "execute_result"
    }
   ],
   "source": [
    "#os.chdir('../../')\n",
    "#os.chdir('sebtsh/fast-drbo')\n",
    "os.getcwd()"
   ]
  },
  {
   "cell_type": "code",
   "execution_count": 170,
   "metadata": {},
   "outputs": [],
   "source": [
    "import gpflow as gpf\n",
    "\n",
    "import matplotlib\n",
    "import matplotlib.pyplot as plt\n",
    "import numpy as np\n",
    "import pickle\n",
    "import sys\n",
    "from pathlib import Path\n",
    "from sacred import Experiment\n",
    "from sacred.observers import FileStorageObserver\n",
    "\n",
    "from core.acquisitions import get_acquisition\n",
    "from core.models import GPRModule\n",
    "from core.objectives import get_obj_func\n",
    "from core.observers import mk_noisy_observer\n",
    "from core.optimization import bayes_opt_loop_dist_robust\n",
    "from core.utils import construct_grid_1d, cross_product, get_discrete_normal_dist, get_discrete_uniform_dist, \\\n",
    "    get_margin, get_robust_expectation_and_action, get_action_contexts, worst_case_sens, get_mid_approx_func, adversarial_expectation\n",
    "from metrics.plotting import plot_robust_regret"
   ]
  },
  {
   "cell_type": "code",
   "execution_count": 134,
   "metadata": {},
   "outputs": [],
   "source": [
    "obj_func_name = 'covid'\n",
    "action_dims = 2\n",
    "context_dims = 2\n",
    "action_lowers = [0] * action_dims\n",
    "action_uppers = [1] * action_dims\n",
    "context_lowers = [0] * context_dims\n",
    "context_uppers = [1] * context_dims\n",
    "action_density_per_dim = 10\n",
    "context_density_per_dim = 10\n",
    "ls = [0.05, 0.05, 0.05, 0.05]\n",
    "obs_variance = 0.001\n",
    "is_optimizing_gp = False\n",
    "opt_max_iter = 10\n",
    "num_bo_iters = 500\n",
    "num_init_points = 10\n",
    "beta_const = 2\n",
    "ref_var = 0.01\n",
    "seed = 0"
   ]
  },
  {
   "cell_type": "code",
   "execution_count": 135,
   "metadata": {},
   "outputs": [],
   "source": [
    "divergences = ['MMD_approx', 'TV', 'modified_chi_squared']\n",
    "acquisitions = ['GP-UCB', 'DRBOGeneral', 'DRBOWorstCaseSens', 'DRBOMidApprox']\n",
    "ref_means = np.array([[0., 0.], [0.25, 0.25], [0.5, 0.5], [1., 0.], [0., 1.]])\n",
    "ref_cov = ref_var * np.eye(context_dims)\n",
    "\n",
    "all_dims = action_dims + context_dims\n",
    "all_lowers = action_lowers + context_lowers\n",
    "all_uppers = action_uppers + context_uppers\n",
    "lengthscales = np.array(ls)\n",
    "context_lengthscales = lengthscales[-context_dims:]"
   ]
  },
  {
   "cell_type": "code",
   "execution_count": null,
   "metadata": {},
   "outputs": [],
   "source": []
  },
  {
   "cell_type": "code",
   "execution_count": 161,
   "metadata": {},
   "outputs": [],
   "source": [
    "divergence = divergences[2]\n",
    "acquisition = acquisitions[0]\n",
    "ref_mean = ref_means[3]"
   ]
  },
  {
   "cell_type": "code",
   "execution_count": 162,
   "metadata": {},
   "outputs": [
    {
     "name": "stdout",
     "output_type": "stream",
     "text": [
      "Calculating robust expectation\n"
     ]
    },
    {
     "name": "stderr",
     "output_type": "stream",
     "text": [
      "/home/sebtsh/miniconda3/envs/fastdrbo/lib/python3.7/site-packages/cvxpy/problems/problem.py:1279: UserWarning: Solution may be inaccurate. Try another solver, adjusting the solver settings, or solve with verbose=True for more information.\n",
      "  \"Solution may be inaccurate. Try another solver, \"\n"
     ]
    }
   ],
   "source": [
    "action_points = construct_grid_1d(action_lowers[0], action_uppers[0], action_density_per_dim)\n",
    "for i in range(action_dims - 1):\n",
    "    action_points = cross_product(action_points,\n",
    "                                  construct_grid_1d(action_lowers[i + 1], action_uppers[i + 1],\n",
    "                                                    action_density_per_dim))\n",
    "\n",
    "# Some actions are invalid: we only keep those that x[0] + x[1] <= 1\n",
    "action_points = np.delete(action_points, np.where(np.sum(action_points, axis=1) > 1), axis=0)\n",
    "\n",
    "# Context space\n",
    "context_points = construct_grid_1d(context_lowers[0], context_uppers[0], context_density_per_dim)\n",
    "for i in range(context_dims - 1):\n",
    "    context_points = cross_product(context_points,\n",
    "                                   construct_grid_1d(context_lowers[i + 1], context_uppers[i + 1],\n",
    "                                                     context_density_per_dim))\n",
    "# Some contexts are invalid: we only keep those that c[0] + c[1] <= 1\n",
    "context_points = np.delete(context_points, np.where(np.sum(context_points, axis=1) > 1), axis=0)\n",
    "\n",
    "search_points = cross_product(action_points, context_points)\n",
    "\n",
    "# Warning: move kernels into inner loop if optimizing kernel\n",
    "f_kernel = gpf.kernels.SquaredExponential(lengthscales=lengthscales)\n",
    "if divergence == 'MMD' or divergence == 'MMD_approx':\n",
    "    mmd_kernel = gpf.kernels.SquaredExponential(lengthscales=context_lengthscales)\n",
    "else:\n",
    "    mmd_kernel = None\n",
    "\n",
    "# Get objective function\n",
    "obj_func = get_obj_func(obj_func_name, all_lowers, all_uppers, f_kernel, seed)\n",
    "\n",
    "# Distribution generating functions\n",
    "ref_dist_func = lambda x: get_discrete_normal_dist(context_points, ref_mean, ref_cov)\n",
    "ref_dist = ref_dist_func(0)\n",
    "true_dist_func = lambda x: get_discrete_uniform_dist(context_points)\n",
    "margin = get_margin(ref_dist_func(0), true_dist_func(0), mmd_kernel, context_points, divergence)\n",
    "margin_func = lambda x: margin  # Constant margin for now\n",
    "\n",
    "print(\"Calculating robust expectation\")\n",
    "robust_expectation, robust_action = get_robust_expectation_and_action(action_points=action_points,\n",
    "                                                                      context_points=context_points,\n",
    "                                                                      kernel=mmd_kernel,\n",
    "                                                                      fvals_source='obj_func',\n",
    "                                                                      ref_dist=ref_dist_func(0),\n",
    "                                                                      divergence=divergence,\n",
    "                                                                      epsilon=margin_func(0),\n",
    "                                                                      obj_func=obj_func)"
   ]
  },
  {
   "cell_type": "code",
   "execution_count": 163,
   "metadata": {},
   "outputs": [
    {
     "data": {
      "text/plain": [
       "9.271612045461033"
      ]
     },
     "execution_count": 163,
     "metadata": {},
     "output_type": "execute_result"
    }
   ],
   "source": [
    "margin"
   ]
  },
  {
   "cell_type": "code",
   "execution_count": 164,
   "metadata": {},
   "outputs": [
    {
     "data": {
      "text/plain": [
       "array([[0.2222, 0.2222]])"
      ]
     },
     "execution_count": 164,
     "metadata": {},
     "output_type": "execute_result"
    }
   ],
   "source": [
    "robust_action"
   ]
  },
  {
   "cell_type": "code",
   "execution_count": 165,
   "metadata": {},
   "outputs": [
    {
     "data": {
      "text/plain": [
       "array([0.    , 0.    , 0.    , 0.    , 0.    , 0.    , 0.    , 0.    , 0.    , 0.    , 0.    , 0.    ,\n",
       "       0.    , 0.    , 0.    , 0.    , 0.    , 0.    , 0.    , 0.    , 0.    , 0.    , 0.    , 0.    ,\n",
       "       0.    , 0.    , 0.    , 0.    , 0.    , 0.    , 0.    , 0.    , 0.    , 0.    , 0.    , 0.    ,\n",
       "       0.    , 0.    , 0.    , 0.    , 0.    , 0.    , 0.    , 0.    , 0.    , 0.002 , 0.0011, 0.0002,\n",
       "       0.    , 0.0429, 0.0231, 0.0036, 0.2732, 0.1474, 0.5065])"
      ]
     },
     "execution_count": 165,
     "metadata": {},
     "output_type": "execute_result"
    }
   ],
   "source": [
    "ref_dist"
   ]
  },
  {
   "cell_type": "code",
   "execution_count": 166,
   "metadata": {
    "scrolled": true
   },
   "outputs": [
    {
     "name": "stdout",
     "output_type": "stream",
     "text": [
      "[[0.7778 0.    ]]\n",
      "49\n"
     ]
    }
   ],
   "source": [
    "# GP-UCB\n",
    "num_action_points = len(action_points)\n",
    "num_context_points = len(context_points)\n",
    "max_val = -np.infty\n",
    "domain = cross_product(action_points, context_points)\n",
    "\n",
    "for i in range(num_action_points):\n",
    "    #print(f\"===={i}====\")\n",
    "    action_contexts = get_action_contexts(i, domain, num_context_points)\n",
    "    #print(action_contexts)\n",
    "    #print(obj_func(action_contexts).shape)\n",
    "    expected_upper = np.sum(ref_dist * np.squeeze(obj_func(action_contexts)))\n",
    "    #print(obj_func(action_contexts))\n",
    "    #print(expected_upper)\n",
    "    if expected_upper > max_val:\n",
    "        max_val = expected_upper\n",
    "        max_idx = i\n",
    "print(action_points[max_idx:max_idx + 1])\n",
    "print(max_idx)"
   ]
  },
  {
   "cell_type": "code",
   "execution_count": 167,
   "metadata": {},
   "outputs": [
    {
     "name": "stdout",
     "output_type": "stream",
     "text": [
      "[[0.3333 0.1111]]\n",
      "28\n"
     ]
    }
   ],
   "source": [
    "# MinimaxApprox\n",
    "adv_approxs = []\n",
    "kernel = mmd_kernel\n",
    "epsilon = margin\n",
    "\n",
    "for i in range(num_action_points):\n",
    "    action_contexts = get_action_contexts(i, domain, num_context_points)\n",
    "    fvals = np.squeeze(obj_func(action_contexts))\n",
    "    \n",
    "    worst_case_sensitivity = worst_case_sens(fvals=fvals,\n",
    "                                             p=ref_dist,\n",
    "                                             context_points=context_points,\n",
    "                                             kernel=kernel,\n",
    "                                             divergence=divergence)\n",
    "\n",
    "    V_approx_func = get_mid_approx_func(context_points=context_points,\n",
    "                                        fvals=fvals,\n",
    "                                        kernel=kernel,\n",
    "                                        ref_dist=ref_dist,\n",
    "                                        worst_case_sensitivity=worst_case_sensitivity,\n",
    "                                        divergence=divergence)\n",
    "\n",
    "    adv_approxs.append(V_approx_func(epsilon))\n",
    "max_idx = np.argmax(adv_approxs)\n",
    "print(action_points[max_idx:max_idx + 1])\n",
    "print(max_idx)"
   ]
  },
  {
   "cell_type": "code",
   "execution_count": 172,
   "metadata": {},
   "outputs": [],
   "source": [
    "# All true adversarial expectations\n",
    "num_actions = len(action_points)\n",
    "num_context_points = len(context_points)\n",
    "expectations = []\n",
    "domain = cross_product(action_points, context_points)\n",
    "fvals_source = 'obj_func'\n",
    "\n",
    "for i in range(num_actions):\n",
    "    action_contexts = get_action_contexts(i, domain, num_context_points)\n",
    "    if divergence == 'MMD' or divergence == 'MMD_approx':\n",
    "        M = kernel(context_points)\n",
    "    else:\n",
    "        M = None\n",
    "    if fvals_source == 'obj_func':\n",
    "        f = np.squeeze(obj_func(action_contexts), axis=-1)\n",
    "    elif fvals_source == 'ucb':\n",
    "        f, _ = get_upper_lower_bounds(model, action_contexts, beta)\n",
    "    else:\n",
    "        raise Exception(\"Invalid fvals_source given\")\n",
    "    expectation, _ = adversarial_expectation(f=f,\n",
    "                                             M=M,\n",
    "                                             w_t=ref_dist,\n",
    "                                             epsilon=epsilon,\n",
    "                                             divergence=divergence)\n",
    "    expectations.append(expectation)"
   ]
  },
  {
   "cell_type": "code",
   "execution_count": null,
   "metadata": {},
   "outputs": [],
   "source": [
    "expectations[]"
   ]
  },
  {
   "cell_type": "code",
   "execution_count": 174,
   "metadata": {
    "scrolled": true
   },
   "outputs": [
    {
     "data": {
      "text/plain": [
       "-0.6799461307326239"
      ]
     },
     "execution_count": 174,
     "metadata": {},
     "output_type": "execute_result"
    }
   ],
   "source": [
    "expectations[49]"
   ]
  },
  {
   "cell_type": "code",
   "execution_count": 173,
   "metadata": {},
   "outputs": [
    {
     "data": {
      "text/plain": [
       "-0.24437524619461523"
      ]
     },
     "execution_count": 173,
     "metadata": {},
     "output_type": "execute_result"
    }
   ],
   "source": [
    "expectations[28]"
   ]
  },
  {
   "cell_type": "code",
   "execution_count": 175,
   "metadata": {},
   "outputs": [
    {
     "data": {
      "text/plain": [
       "-0.18390735026638616"
      ]
     },
     "execution_count": 175,
     "metadata": {},
     "output_type": "execute_result"
    }
   ],
   "source": [
    "robust_expectation"
   ]
  }
 ],
 "metadata": {
  "kernelspec": {
   "display_name": "Python 3",
   "language": "python",
   "name": "python3"
  },
  "language_info": {
   "codemirror_mode": {
    "name": "ipython",
    "version": 3
   },
   "file_extension": ".py",
   "mimetype": "text/x-python",
   "name": "python",
   "nbconvert_exporter": "python",
   "pygments_lexer": "ipython3",
   "version": "3.7.11"
  }
 },
 "nbformat": 4,
 "nbformat_minor": 4
}
