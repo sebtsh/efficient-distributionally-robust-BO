{
 "cells": [
  {
   "cell_type": "code",
   "execution_count": 1,
   "metadata": {},
   "outputs": [],
   "source": [
    "import numpy as np\n",
    "import pandas as pd\n",
    "import matplotlib.pyplot as plt"
   ]
  },
  {
   "cell_type": "code",
   "execution_count": 2,
   "metadata": {},
   "outputs": [],
   "source": [
    "base_df = pd.read_csv(\"train.csv\")"
   ]
  },
  {
   "cell_type": "code",
   "execution_count": 3,
   "metadata": {},
   "outputs": [
    {
     "data": {
      "text/html": [
       "<div>\n",
       "<style scoped>\n",
       "    .dataframe tbody tr th:only-of-type {\n",
       "        vertical-align: middle;\n",
       "    }\n",
       "\n",
       "    .dataframe tbody tr th {\n",
       "        vertical-align: top;\n",
       "    }\n",
       "\n",
       "    .dataframe thead th {\n",
       "        text-align: right;\n",
       "    }\n",
       "</style>\n",
       "<table border=\"1\" class=\"dataframe\">\n",
       "  <thead>\n",
       "    <tr style=\"text-align: right;\">\n",
       "      <th></th>\n",
       "      <th>Semana</th>\n",
       "      <th>Agencia_ID</th>\n",
       "      <th>Canal_ID</th>\n",
       "      <th>Ruta_SAK</th>\n",
       "      <th>Cliente_ID</th>\n",
       "      <th>Producto_ID</th>\n",
       "      <th>Venta_uni_hoy</th>\n",
       "      <th>Venta_hoy</th>\n",
       "      <th>Dev_uni_proxima</th>\n",
       "      <th>Dev_proxima</th>\n",
       "      <th>Demanda_uni_equil</th>\n",
       "    </tr>\n",
       "  </thead>\n",
       "  <tbody>\n",
       "    <tr>\n",
       "      <th>0</th>\n",
       "      <td>3</td>\n",
       "      <td>1110</td>\n",
       "      <td>7</td>\n",
       "      <td>3301</td>\n",
       "      <td>15766</td>\n",
       "      <td>1212</td>\n",
       "      <td>3</td>\n",
       "      <td>25.14</td>\n",
       "      <td>0</td>\n",
       "      <td>0.0</td>\n",
       "      <td>3</td>\n",
       "    </tr>\n",
       "    <tr>\n",
       "      <th>1</th>\n",
       "      <td>3</td>\n",
       "      <td>1110</td>\n",
       "      <td>7</td>\n",
       "      <td>3301</td>\n",
       "      <td>15766</td>\n",
       "      <td>1216</td>\n",
       "      <td>4</td>\n",
       "      <td>33.52</td>\n",
       "      <td>0</td>\n",
       "      <td>0.0</td>\n",
       "      <td>4</td>\n",
       "    </tr>\n",
       "    <tr>\n",
       "      <th>2</th>\n",
       "      <td>3</td>\n",
       "      <td>1110</td>\n",
       "      <td>7</td>\n",
       "      <td>3301</td>\n",
       "      <td>15766</td>\n",
       "      <td>1238</td>\n",
       "      <td>4</td>\n",
       "      <td>39.32</td>\n",
       "      <td>0</td>\n",
       "      <td>0.0</td>\n",
       "      <td>4</td>\n",
       "    </tr>\n",
       "    <tr>\n",
       "      <th>3</th>\n",
       "      <td>3</td>\n",
       "      <td>1110</td>\n",
       "      <td>7</td>\n",
       "      <td>3301</td>\n",
       "      <td>15766</td>\n",
       "      <td>1240</td>\n",
       "      <td>4</td>\n",
       "      <td>33.52</td>\n",
       "      <td>0</td>\n",
       "      <td>0.0</td>\n",
       "      <td>4</td>\n",
       "    </tr>\n",
       "    <tr>\n",
       "      <th>4</th>\n",
       "      <td>3</td>\n",
       "      <td>1110</td>\n",
       "      <td>7</td>\n",
       "      <td>3301</td>\n",
       "      <td>15766</td>\n",
       "      <td>1242</td>\n",
       "      <td>3</td>\n",
       "      <td>22.92</td>\n",
       "      <td>0</td>\n",
       "      <td>0.0</td>\n",
       "      <td>3</td>\n",
       "    </tr>\n",
       "  </tbody>\n",
       "</table>\n",
       "</div>"
      ],
      "text/plain": [
       "   Semana  Agencia_ID  Canal_ID  Ruta_SAK  Cliente_ID  Producto_ID  \\\n",
       "0       3        1110         7      3301       15766         1212   \n",
       "1       3        1110         7      3301       15766         1216   \n",
       "2       3        1110         7      3301       15766         1238   \n",
       "3       3        1110         7      3301       15766         1240   \n",
       "4       3        1110         7      3301       15766         1242   \n",
       "\n",
       "   Venta_uni_hoy  Venta_hoy  Dev_uni_proxima  Dev_proxima  Demanda_uni_equil  \n",
       "0              3      25.14                0          0.0                  3  \n",
       "1              4      33.52                0          0.0                  4  \n",
       "2              4      39.32                0          0.0                  4  \n",
       "3              4      33.52                0          0.0                  4  \n",
       "4              3      22.92                0          0.0                  3  "
      ]
     },
     "execution_count": 3,
     "metadata": {},
     "output_type": "execute_result"
    }
   ],
   "source": [
    "base_df.head()"
   ]
  },
  {
   "cell_type": "code",
   "execution_count": 4,
   "metadata": {},
   "outputs": [
    {
     "data": {
      "text/html": [
       "<div>\n",
       "<style scoped>\n",
       "    .dataframe tbody tr th:only-of-type {\n",
       "        vertical-align: middle;\n",
       "    }\n",
       "\n",
       "    .dataframe tbody tr th {\n",
       "        vertical-align: top;\n",
       "    }\n",
       "\n",
       "    .dataframe thead th {\n",
       "        text-align: right;\n",
       "    }\n",
       "</style>\n",
       "<table border=\"1\" class=\"dataframe\">\n",
       "  <thead>\n",
       "    <tr style=\"text-align: right;\">\n",
       "      <th></th>\n",
       "      <th>Semana</th>\n",
       "      <th>Agencia_ID</th>\n",
       "      <th>Canal_ID</th>\n",
       "      <th>Ruta_SAK</th>\n",
       "      <th>Cliente_ID</th>\n",
       "      <th>Producto_ID</th>\n",
       "      <th>Venta_uni_hoy</th>\n",
       "      <th>Venta_hoy</th>\n",
       "      <th>Dev_uni_proxima</th>\n",
       "      <th>Dev_proxima</th>\n",
       "      <th>Demanda_uni_equil</th>\n",
       "    </tr>\n",
       "  </thead>\n",
       "  <tbody>\n",
       "    <tr>\n",
       "      <th>count</th>\n",
       "      <td>7.418046e+07</td>\n",
       "      <td>7.418046e+07</td>\n",
       "      <td>7.418046e+07</td>\n",
       "      <td>7.418046e+07</td>\n",
       "      <td>7.418046e+07</td>\n",
       "      <td>7.418046e+07</td>\n",
       "      <td>7.418046e+07</td>\n",
       "      <td>7.418046e+07</td>\n",
       "      <td>7.418046e+07</td>\n",
       "      <td>7.418046e+07</td>\n",
       "      <td>7.418046e+07</td>\n",
       "    </tr>\n",
       "    <tr>\n",
       "      <th>mean</th>\n",
       "      <td>5.950021e+00</td>\n",
       "      <td>2.536509e+03</td>\n",
       "      <td>1.383181e+00</td>\n",
       "      <td>2.114855e+03</td>\n",
       "      <td>1.802119e+06</td>\n",
       "      <td>2.084081e+04</td>\n",
       "      <td>7.310163e+00</td>\n",
       "      <td>6.854452e+01</td>\n",
       "      <td>1.302577e-01</td>\n",
       "      <td>1.243248e+00</td>\n",
       "      <td>7.224564e+00</td>\n",
       "    </tr>\n",
       "    <tr>\n",
       "      <th>std</th>\n",
       "      <td>2.013175e+00</td>\n",
       "      <td>4.075124e+03</td>\n",
       "      <td>1.463266e+00</td>\n",
       "      <td>1.487744e+03</td>\n",
       "      <td>2.349577e+06</td>\n",
       "      <td>1.866392e+04</td>\n",
       "      <td>2.196734e+01</td>\n",
       "      <td>3.389795e+02</td>\n",
       "      <td>2.932320e+01</td>\n",
       "      <td>3.921552e+01</td>\n",
       "      <td>2.177119e+01</td>\n",
       "    </tr>\n",
       "    <tr>\n",
       "      <th>min</th>\n",
       "      <td>3.000000e+00</td>\n",
       "      <td>1.110000e+03</td>\n",
       "      <td>1.000000e+00</td>\n",
       "      <td>1.000000e+00</td>\n",
       "      <td>2.600000e+01</td>\n",
       "      <td>4.100000e+01</td>\n",
       "      <td>0.000000e+00</td>\n",
       "      <td>0.000000e+00</td>\n",
       "      <td>0.000000e+00</td>\n",
       "      <td>0.000000e+00</td>\n",
       "      <td>0.000000e+00</td>\n",
       "    </tr>\n",
       "    <tr>\n",
       "      <th>25%</th>\n",
       "      <td>4.000000e+00</td>\n",
       "      <td>1.312000e+03</td>\n",
       "      <td>1.000000e+00</td>\n",
       "      <td>1.161000e+03</td>\n",
       "      <td>3.567670e+05</td>\n",
       "      <td>1.242000e+03</td>\n",
       "      <td>2.000000e+00</td>\n",
       "      <td>1.676000e+01</td>\n",
       "      <td>0.000000e+00</td>\n",
       "      <td>0.000000e+00</td>\n",
       "      <td>2.000000e+00</td>\n",
       "    </tr>\n",
       "    <tr>\n",
       "      <th>50%</th>\n",
       "      <td>6.000000e+00</td>\n",
       "      <td>1.613000e+03</td>\n",
       "      <td>1.000000e+00</td>\n",
       "      <td>1.286000e+03</td>\n",
       "      <td>1.193385e+06</td>\n",
       "      <td>3.054900e+04</td>\n",
       "      <td>3.000000e+00</td>\n",
       "      <td>3.000000e+01</td>\n",
       "      <td>0.000000e+00</td>\n",
       "      <td>0.000000e+00</td>\n",
       "      <td>3.000000e+00</td>\n",
       "    </tr>\n",
       "    <tr>\n",
       "      <th>75%</th>\n",
       "      <td>8.000000e+00</td>\n",
       "      <td>2.036000e+03</td>\n",
       "      <td>1.000000e+00</td>\n",
       "      <td>2.802000e+03</td>\n",
       "      <td>2.371091e+06</td>\n",
       "      <td>3.742600e+04</td>\n",
       "      <td>7.000000e+00</td>\n",
       "      <td>5.610000e+01</td>\n",
       "      <td>0.000000e+00</td>\n",
       "      <td>0.000000e+00</td>\n",
       "      <td>6.000000e+00</td>\n",
       "    </tr>\n",
       "    <tr>\n",
       "      <th>max</th>\n",
       "      <td>9.000000e+00</td>\n",
       "      <td>2.575900e+04</td>\n",
       "      <td>1.100000e+01</td>\n",
       "      <td>9.991000e+03</td>\n",
       "      <td>2.015152e+09</td>\n",
       "      <td>4.999700e+04</td>\n",
       "      <td>7.200000e+03</td>\n",
       "      <td>6.473600e+05</td>\n",
       "      <td>2.500000e+05</td>\n",
       "      <td>1.307600e+05</td>\n",
       "      <td>5.000000e+03</td>\n",
       "    </tr>\n",
       "  </tbody>\n",
       "</table>\n",
       "</div>"
      ],
      "text/plain": [
       "             Semana    Agencia_ID      Canal_ID      Ruta_SAK    Cliente_ID  \\\n",
       "count  7.418046e+07  7.418046e+07  7.418046e+07  7.418046e+07  7.418046e+07   \n",
       "mean   5.950021e+00  2.536509e+03  1.383181e+00  2.114855e+03  1.802119e+06   \n",
       "std    2.013175e+00  4.075124e+03  1.463266e+00  1.487744e+03  2.349577e+06   \n",
       "min    3.000000e+00  1.110000e+03  1.000000e+00  1.000000e+00  2.600000e+01   \n",
       "25%    4.000000e+00  1.312000e+03  1.000000e+00  1.161000e+03  3.567670e+05   \n",
       "50%    6.000000e+00  1.613000e+03  1.000000e+00  1.286000e+03  1.193385e+06   \n",
       "75%    8.000000e+00  2.036000e+03  1.000000e+00  2.802000e+03  2.371091e+06   \n",
       "max    9.000000e+00  2.575900e+04  1.100000e+01  9.991000e+03  2.015152e+09   \n",
       "\n",
       "        Producto_ID  Venta_uni_hoy     Venta_hoy  Dev_uni_proxima  \\\n",
       "count  7.418046e+07   7.418046e+07  7.418046e+07     7.418046e+07   \n",
       "mean   2.084081e+04   7.310163e+00  6.854452e+01     1.302577e-01   \n",
       "std    1.866392e+04   2.196734e+01  3.389795e+02     2.932320e+01   \n",
       "min    4.100000e+01   0.000000e+00  0.000000e+00     0.000000e+00   \n",
       "25%    1.242000e+03   2.000000e+00  1.676000e+01     0.000000e+00   \n",
       "50%    3.054900e+04   3.000000e+00  3.000000e+01     0.000000e+00   \n",
       "75%    3.742600e+04   7.000000e+00  5.610000e+01     0.000000e+00   \n",
       "max    4.999700e+04   7.200000e+03  6.473600e+05     2.500000e+05   \n",
       "\n",
       "        Dev_proxima  Demanda_uni_equil  \n",
       "count  7.418046e+07       7.418046e+07  \n",
       "mean   1.243248e+00       7.224564e+00  \n",
       "std    3.921552e+01       2.177119e+01  \n",
       "min    0.000000e+00       0.000000e+00  \n",
       "25%    0.000000e+00       2.000000e+00  \n",
       "50%    0.000000e+00       3.000000e+00  \n",
       "75%    0.000000e+00       6.000000e+00  \n",
       "max    1.307600e+05       5.000000e+03  "
      ]
     },
     "execution_count": 4,
     "metadata": {},
     "output_type": "execute_result"
    }
   ],
   "source": [
    "base_df.describe()"
   ]
  },
  {
   "cell_type": "code",
   "execution_count": 166,
   "metadata": {},
   "outputs": [
    {
     "data": {
      "text/plain": [
       "1911    806283\n",
       "1123    729103\n",
       "2013    666125\n",
       "1220    663934\n",
       "1347    600687\n",
       "1351    595562\n",
       "1912    579770\n",
       "1126    576979\n",
       "2015    575122\n",
       "1219    572966\n",
       "Name: Agencia_ID, dtype: int64"
      ]
     },
     "execution_count": 166,
     "metadata": {},
     "output_type": "execute_result"
    }
   ],
   "source": [
    "base_df['Agencia_ID'].value_counts().head(10)"
   ]
  },
  {
   "cell_type": "code",
   "execution_count": 278,
   "metadata": {},
   "outputs": [],
   "source": [
    "df = base_df[base_df['Semana'] == 3]"
   ]
  },
  {
   "cell_type": "code",
   "execution_count": 279,
   "metadata": {},
   "outputs": [],
   "source": [
    "df = df[['Agencia_ID', 'Producto_ID', 'Demanda_uni_equil']]"
   ]
  },
  {
   "cell_type": "code",
   "execution_count": 280,
   "metadata": {},
   "outputs": [
    {
     "data": {
      "text/html": [
       "<div>\n",
       "<style scoped>\n",
       "    .dataframe tbody tr th:only-of-type {\n",
       "        vertical-align: middle;\n",
       "    }\n",
       "\n",
       "    .dataframe tbody tr th {\n",
       "        vertical-align: top;\n",
       "    }\n",
       "\n",
       "    .dataframe thead th {\n",
       "        text-align: right;\n",
       "    }\n",
       "</style>\n",
       "<table border=\"1\" class=\"dataframe\">\n",
       "  <thead>\n",
       "    <tr style=\"text-align: right;\">\n",
       "      <th></th>\n",
       "      <th>Agencia_ID</th>\n",
       "      <th>Producto_ID</th>\n",
       "      <th>Demanda_uni_equil</th>\n",
       "    </tr>\n",
       "  </thead>\n",
       "  <tbody>\n",
       "    <tr>\n",
       "      <th>0</th>\n",
       "      <td>1110</td>\n",
       "      <td>1212</td>\n",
       "      <td>3</td>\n",
       "    </tr>\n",
       "    <tr>\n",
       "      <th>1</th>\n",
       "      <td>1110</td>\n",
       "      <td>1216</td>\n",
       "      <td>4</td>\n",
       "    </tr>\n",
       "    <tr>\n",
       "      <th>2</th>\n",
       "      <td>1110</td>\n",
       "      <td>1238</td>\n",
       "      <td>4</td>\n",
       "    </tr>\n",
       "    <tr>\n",
       "      <th>3</th>\n",
       "      <td>1110</td>\n",
       "      <td>1240</td>\n",
       "      <td>4</td>\n",
       "    </tr>\n",
       "    <tr>\n",
       "      <th>4</th>\n",
       "      <td>1110</td>\n",
       "      <td>1242</td>\n",
       "      <td>3</td>\n",
       "    </tr>\n",
       "    <tr>\n",
       "      <th>...</th>\n",
       "      <td>...</td>\n",
       "      <td>...</td>\n",
       "      <td>...</td>\n",
       "    </tr>\n",
       "    <tr>\n",
       "      <th>11165202</th>\n",
       "      <td>25759</td>\n",
       "      <td>4259</td>\n",
       "      <td>1</td>\n",
       "    </tr>\n",
       "    <tr>\n",
       "      <th>11165203</th>\n",
       "      <td>25759</td>\n",
       "      <td>9217</td>\n",
       "      <td>2</td>\n",
       "    </tr>\n",
       "    <tr>\n",
       "      <th>11165204</th>\n",
       "      <td>25759</td>\n",
       "      <td>9217</td>\n",
       "      <td>3</td>\n",
       "    </tr>\n",
       "    <tr>\n",
       "      <th>11165205</th>\n",
       "      <td>25759</td>\n",
       "      <td>35132</td>\n",
       "      <td>1</td>\n",
       "    </tr>\n",
       "    <tr>\n",
       "      <th>11165206</th>\n",
       "      <td>25759</td>\n",
       "      <td>40217</td>\n",
       "      <td>4</td>\n",
       "    </tr>\n",
       "  </tbody>\n",
       "</table>\n",
       "<p>11165207 rows × 3 columns</p>\n",
       "</div>"
      ],
      "text/plain": [
       "          Agencia_ID  Producto_ID  Demanda_uni_equil\n",
       "0               1110         1212                  3\n",
       "1               1110         1216                  4\n",
       "2               1110         1238                  4\n",
       "3               1110         1240                  4\n",
       "4               1110         1242                  3\n",
       "...              ...          ...                ...\n",
       "11165202       25759         4259                  1\n",
       "11165203       25759         9217                  2\n",
       "11165204       25759         9217                  3\n",
       "11165205       25759        35132                  1\n",
       "11165206       25759        40217                  4\n",
       "\n",
       "[11165207 rows x 3 columns]"
      ]
     },
     "execution_count": 280,
     "metadata": {},
     "output_type": "execute_result"
    }
   ],
   "source": [
    "df"
   ]
  },
  {
   "cell_type": "code",
   "execution_count": 281,
   "metadata": {},
   "outputs": [],
   "source": [
    "agencies = [1911, 1123, 2013, 1220, 1347, 1351]"
   ]
  },
  {
   "cell_type": "code",
   "execution_count": 282,
   "metadata": {},
   "outputs": [],
   "source": [
    "df = df[df['Agencia_ID'].isin(agencies)]"
   ]
  },
  {
   "cell_type": "code",
   "execution_count": 283,
   "metadata": {},
   "outputs": [
    {
     "data": {
      "text/plain": [
       "1242     20693\n",
       "1240     20518\n",
       "2233     19055\n",
       "1250     18857\n",
       "1284     18498\n",
       "         ...  \n",
       "36940        1\n",
       "36006        1\n",
       "32640        1\n",
       "36440        1\n",
       "36439        1\n",
       "Name: Producto_ID, Length: 286, dtype: int64"
      ]
     },
     "execution_count": 283,
     "metadata": {},
     "output_type": "execute_result"
    }
   ],
   "source": [
    "df['Producto_ID'].value_counts()"
   ]
  },
  {
   "cell_type": "code",
   "execution_count": 284,
   "metadata": {
    "scrolled": true
   },
   "outputs": [
    {
     "data": {
      "text/plain": [
       "array([ 0.,  1.,  2.,  3.,  4.,  5.,  6.,  7.,  8.,  9., 10., 11., 12.,\n",
       "       13., 14., 15., 16., 17., 18., 19., 20.])"
      ]
     },
     "execution_count": 284,
     "metadata": {},
     "output_type": "execute_result"
    }
   ],
   "source": [
    "bins"
   ]
  },
  {
   "cell_type": "code",
   "execution_count": 285,
   "metadata": {},
   "outputs": [],
   "source": [
    "demands_2233_arr = df[df['Producto_ID'] == 2233]['Demanda_uni_equil'].to_numpy()"
   ]
  },
  {
   "cell_type": "code",
   "execution_count": 286,
   "metadata": {},
   "outputs": [],
   "source": [
    "counts, bins = np.histogram(demands_2233_arr, bins=20, range=(0, 20))"
   ]
  },
  {
   "cell_type": "code",
   "execution_count": 287,
   "metadata": {},
   "outputs": [
    {
     "data": {
      "text/plain": [
       "array([ 316, 4619, 4033, 2326, 1848, 1154, 1024,  655,  539,  419,  381,\n",
       "        247,  251,  175,  145,  121,  118,   70,   80,  128])"
      ]
     },
     "execution_count": 287,
     "metadata": {},
     "output_type": "execute_result"
    }
   ],
   "source": [
    "counts"
   ]
  },
  {
   "cell_type": "code",
   "execution_count": 288,
   "metadata": {
    "scrolled": true
   },
   "outputs": [
    {
     "data": {
      "text/plain": [
       "array([ 0.,  1.,  2.,  3.,  4.,  5.,  6.,  7.,  8.,  9., 10., 11., 12.,\n",
       "       13., 14., 15., 16., 17., 18., 19., 20.])"
      ]
     },
     "execution_count": 288,
     "metadata": {},
     "output_type": "execute_result"
    }
   ],
   "source": [
    "bins"
   ]
  },
  {
   "cell_type": "code",
   "execution_count": 289,
   "metadata": {},
   "outputs": [],
   "source": [
    "demands_1146_arr = df[df['Producto_ID'] == 1146]['Demanda_uni_equil'].to_numpy()"
   ]
  },
  {
   "cell_type": "code",
   "execution_count": 290,
   "metadata": {},
   "outputs": [],
   "source": [
    "counts, bins = np.histogram(demands_1146_arr, bins=20, range=(0, 20))"
   ]
  },
  {
   "cell_type": "code",
   "execution_count": 291,
   "metadata": {},
   "outputs": [
    {
     "data": {
      "text/plain": [
       "array([ 309, 4722, 3581, 1795, 1243,  792,  666,  409,  353,  257,  200,\n",
       "        143,  110,   90,   65,   59,   62,   37,   45,   62])"
      ]
     },
     "execution_count": 291,
     "metadata": {},
     "output_type": "execute_result"
    }
   ],
   "source": [
    "counts"
   ]
  },
  {
   "cell_type": "markdown",
   "metadata": {},
   "source": [
    "Plan: \n",
    "Fix Week 3\n",
    "\n",
    "Objective function: inventory cost function, follow Kirschner et. al. (2020), but two variables version\n",
    "\n",
    "action variable: 2D variable of predicting the joint demands of products 2233 and 1146, 20 x 20 discrete\n",
    "\n",
    "context variable: 2D variable of the actual joint demands of products 2233 and 1146, 20 x 20 discrete\n",
    "\n",
    "reference distribution: Average distribution in biggest shop\n",
    "\n",
    "true distribution: actual joint demands from other shops, cut at 1000 queries\n",
    "\n",
    "margin: calculate the distance between reference and true and give to algorithms\n",
    "\n",
    "average results over different shops"
   ]
  },
  {
   "cell_type": "code",
   "execution_count": 292,
   "metadata": {},
   "outputs": [],
   "source": [
    "context_density = 100"
   ]
  },
  {
   "cell_type": "code",
   "execution_count": 293,
   "metadata": {},
   "outputs": [],
   "source": [
    "#df = df[df['Producto_ID'].isin([1146, 2233])]"
   ]
  },
  {
   "cell_type": "code",
   "execution_count": 294,
   "metadata": {},
   "outputs": [],
   "source": [
    "#df"
   ]
  },
  {
   "cell_type": "code",
   "execution_count": 295,
   "metadata": {},
   "outputs": [],
   "source": [
    "df = df.drop(df[df.Demanda_uni_equil > context_density - 1].index)"
   ]
  },
  {
   "cell_type": "code",
   "execution_count": 296,
   "metadata": {},
   "outputs": [
    {
     "data": {
      "text/html": [
       "<div>\n",
       "<style scoped>\n",
       "    .dataframe tbody tr th:only-of-type {\n",
       "        vertical-align: middle;\n",
       "    }\n",
       "\n",
       "    .dataframe tbody tr th {\n",
       "        vertical-align: top;\n",
       "    }\n",
       "\n",
       "    .dataframe thead th {\n",
       "        text-align: right;\n",
       "    }\n",
       "</style>\n",
       "<table border=\"1\" class=\"dataframe\">\n",
       "  <thead>\n",
       "    <tr style=\"text-align: right;\">\n",
       "      <th></th>\n",
       "      <th>Agencia_ID</th>\n",
       "      <th>Producto_ID</th>\n",
       "      <th>Demanda_uni_equil</th>\n",
       "    </tr>\n",
       "  </thead>\n",
       "  <tbody>\n",
       "    <tr>\n",
       "      <th>659121</th>\n",
       "      <td>1123</td>\n",
       "      <td>1109</td>\n",
       "      <td>1</td>\n",
       "    </tr>\n",
       "    <tr>\n",
       "      <th>659122</th>\n",
       "      <td>1123</td>\n",
       "      <td>1146</td>\n",
       "      <td>2</td>\n",
       "    </tr>\n",
       "    <tr>\n",
       "      <th>659123</th>\n",
       "      <td>1123</td>\n",
       "      <td>2233</td>\n",
       "      <td>1</td>\n",
       "    </tr>\n",
       "    <tr>\n",
       "      <th>659124</th>\n",
       "      <td>1123</td>\n",
       "      <td>3631</td>\n",
       "      <td>3</td>\n",
       "    </tr>\n",
       "    <tr>\n",
       "      <th>659125</th>\n",
       "      <td>1123</td>\n",
       "      <td>48077</td>\n",
       "      <td>2</td>\n",
       "    </tr>\n",
       "    <tr>\n",
       "      <th>...</th>\n",
       "      <td>...</td>\n",
       "      <td>...</td>\n",
       "      <td>...</td>\n",
       "    </tr>\n",
       "    <tr>\n",
       "      <th>7667871</th>\n",
       "      <td>2013</td>\n",
       "      <td>4280</td>\n",
       "      <td>12</td>\n",
       "    </tr>\n",
       "    <tr>\n",
       "      <th>7667872</th>\n",
       "      <td>2013</td>\n",
       "      <td>31717</td>\n",
       "      <td>0</td>\n",
       "    </tr>\n",
       "    <tr>\n",
       "      <th>7667873</th>\n",
       "      <td>2013</td>\n",
       "      <td>31719</td>\n",
       "      <td>0</td>\n",
       "    </tr>\n",
       "    <tr>\n",
       "      <th>7667874</th>\n",
       "      <td>2013</td>\n",
       "      <td>31720</td>\n",
       "      <td>0</td>\n",
       "    </tr>\n",
       "    <tr>\n",
       "      <th>7667875</th>\n",
       "      <td>2013</td>\n",
       "      <td>35107</td>\n",
       "      <td>1</td>\n",
       "    </tr>\n",
       "  </tbody>\n",
       "</table>\n",
       "<p>619890 rows × 3 columns</p>\n",
       "</div>"
      ],
      "text/plain": [
       "         Agencia_ID  Producto_ID  Demanda_uni_equil\n",
       "659121         1123         1109                  1\n",
       "659122         1123         1146                  2\n",
       "659123         1123         2233                  1\n",
       "659124         1123         3631                  3\n",
       "659125         1123        48077                  2\n",
       "...             ...          ...                ...\n",
       "7667871        2013         4280                 12\n",
       "7667872        2013        31717                  0\n",
       "7667873        2013        31719                  0\n",
       "7667874        2013        31720                  0\n",
       "7667875        2013        35107                  1\n",
       "\n",
       "[619890 rows x 3 columns]"
      ]
     },
     "execution_count": 296,
     "metadata": {},
     "output_type": "execute_result"
    }
   ],
   "source": [
    "df"
   ]
  },
  {
   "cell_type": "code",
   "execution_count": null,
   "metadata": {},
   "outputs": [],
   "source": []
  },
  {
   "cell_type": "code",
   "execution_count": 297,
   "metadata": {},
   "outputs": [],
   "source": [
    "prod_1_arrs = []\n",
    "prod_2_arrs = []\n",
    "for agency in agencies:\n",
    "    agency_df = df[df['Agencia_ID'] == agency]\n",
    "    prod_1_arr = agency_df[agency_df['Producto_ID'] == 1242]['Demanda_uni_equil'].to_numpy() / (context_density-1)\n",
    "    prod_2_arr = agency_df[agency_df['Producto_ID'] == 1240]['Demanda_uni_equil'].to_numpy() / (context_density-1)\n",
    "    min_length = min([len(prod_1_arr), len(prod_2_arr)])\n",
    "    prod_1_arrs.append(prod_1_arr[:min_length])\n",
    "    prod_2_arrs.append(prod_2_arr[:min_length])"
   ]
  },
  {
   "cell_type": "code",
   "execution_count": 298,
   "metadata": {},
   "outputs": [
    {
     "data": {
      "text/plain": [
       "(array([ 36., 435., 948., 552., 544.,   0., 322., 193., 116., 116.,  76.,\n",
       "          0.,  53.,  30.,  29.,  15.,  14.,   0.,  10.,  15.,   3.,   3.,\n",
       "          3.,   0.,   2.,   2.,   1.,   0.,   1.,   0.,   0.,   1.,   0.,\n",
       "          1.,   0.,   0.,   1.,   0.,   0.,   0.,   0.,   0.,   0.,   0.,\n",
       "          0.,   0.,   0.,   0.,   0.,   0.,   0.,   0.,   0.,   0.,   0.,\n",
       "          0.,   0.,   0.,   0.,   0.,   0.,   0.,   0.,   0.,   0.,   0.,\n",
       "          0.,   0.,   0.,   0.,   0.,   0.,   0.,   0.,   0.,   0.,   0.,\n",
       "          0.,   0.,   0.,   0.,   0.,   0.,   0.,   0.,   0.,   0.,   0.,\n",
       "          0.,   0.,   0.,   0.,   0.,   0.,   0.,   0.,   0.,   0.,   0.,\n",
       "          1.]),\n",
       " array([0.        , 0.00838384, 0.01676768, 0.02515152, 0.03353535,\n",
       "        0.04191919, 0.05030303, 0.05868687, 0.06707071, 0.07545455,\n",
       "        0.08383838, 0.09222222, 0.10060606, 0.1089899 , 0.11737374,\n",
       "        0.12575758, 0.13414141, 0.14252525, 0.15090909, 0.15929293,\n",
       "        0.16767677, 0.17606061, 0.18444444, 0.19282828, 0.20121212,\n",
       "        0.20959596, 0.2179798 , 0.22636364, 0.23474747, 0.24313131,\n",
       "        0.25151515, 0.25989899, 0.26828283, 0.27666667, 0.28505051,\n",
       "        0.29343434, 0.30181818, 0.31020202, 0.31858586, 0.3269697 ,\n",
       "        0.33535354, 0.34373737, 0.35212121, 0.36050505, 0.36888889,\n",
       "        0.37727273, 0.38565657, 0.3940404 , 0.40242424, 0.41080808,\n",
       "        0.41919192, 0.42757576, 0.4359596 , 0.44434343, 0.45272727,\n",
       "        0.46111111, 0.46949495, 0.47787879, 0.48626263, 0.49464646,\n",
       "        0.5030303 , 0.51141414, 0.51979798, 0.52818182, 0.53656566,\n",
       "        0.54494949, 0.55333333, 0.56171717, 0.57010101, 0.57848485,\n",
       "        0.58686869, 0.59525253, 0.60363636, 0.6120202 , 0.62040404,\n",
       "        0.62878788, 0.63717172, 0.64555556, 0.65393939, 0.66232323,\n",
       "        0.67070707, 0.67909091, 0.68747475, 0.69585859, 0.70424242,\n",
       "        0.71262626, 0.7210101 , 0.72939394, 0.73777778, 0.74616162,\n",
       "        0.75454545, 0.76292929, 0.77131313, 0.77969697, 0.78808081,\n",
       "        0.79646465, 0.80484848, 0.81323232, 0.82161616, 0.83      ,\n",
       "        0.83838384]),\n",
       " <BarContainer object of 100 artists>)"
      ]
     },
     "execution_count": 298,
     "metadata": {},
     "output_type": "execute_result"
    },
    {
     "data": {
      "image/png": "[encoded data removed]",
      "text/plain": [
       "<Figure size 432x288 with 1 Axes>"
      ]
     },
     "metadata": {
      "needs_background": "light"
     },
     "output_type": "display_data"
    }
   ],
   "source": [
    "plt.hist(prod_1_arrs[2], bins=context_density)"
   ]
  },
  {
   "cell_type": "code",
   "execution_count": 244,
   "metadata": {
    "scrolled": true
   },
   "outputs": [
    {
     "data": {
      "text/plain": [
       "(array([ 41., 329., 686., 547., 455., 420., 318., 227., 176., 138., 124.,\n",
       "         71.,  60.,  48.,  25.,  22.,  20.,  11.,   9.,  10.]),\n",
       " array([0.  , 0.05, 0.1 , 0.15, 0.2 , 0.25, 0.3 , 0.35, 0.4 , 0.45, 0.5 ,\n",
       "        0.55, 0.6 , 0.65, 0.7 , 0.75, 0.8 , 0.85, 0.9 , 0.95, 1.  ]),\n",
       " <BarContainer object of 20 artists>)"
      ]
     },
     "execution_count": 244,
     "metadata": {},
     "output_type": "execute_result"
    },
    {
     "data": {
      "image/png": "[encoded data removed]",
      "text/plain": [
       "<Figure size 432x288 with 1 Axes>"
      ]
     },
     "metadata": {
      "needs_background": "light"
     },
     "output_type": "display_data"
    }
   ],
   "source": [
    "plt.hist(prod_2_arrs[0], bins=20)"
   ]
  },
  {
   "cell_type": "code",
   "execution_count": 185,
   "metadata": {},
   "outputs": [
    {
     "data": {
      "text/plain": [
       "0.0"
      ]
     },
     "execution_count": 185,
     "metadata": {},
     "output_type": "execute_result"
    }
   ],
   "source": [
    "min(demands_1146[0])"
   ]
  },
  {
   "cell_type": "code",
   "execution_count": 186,
   "metadata": {
    "scrolled": false
   },
   "outputs": [
    {
     "data": {
      "text/plain": [
       "[3769, 2325, 2149, 1982, 2035, 2713]"
      ]
     },
     "execution_count": 186,
     "metadata": {},
     "output_type": "execute_result"
    }
   ],
   "source": [
    "[len(demands_1146[i]) for i in range(len(demands_1146))]"
   ]
  },
  {
   "cell_type": "code",
   "execution_count": 187,
   "metadata": {
    "scrolled": true
   },
   "outputs": [
    {
     "data": {
      "text/plain": [
       "[3769, 2325, 2149, 1982, 2035, 2713]"
      ]
     },
     "execution_count": 187,
     "metadata": {},
     "output_type": "execute_result"
    }
   ],
   "source": [
    "[len(demands_2233[i]) for i in range(len(demands_2233))]"
   ]
  },
  {
   "cell_type": "code",
   "execution_count": 188,
   "metadata": {},
   "outputs": [],
   "source": [
    "joint_demands = []\n",
    "for i in range(len(prod_1_arrs)):\n",
    "    joint_demands.append(np.concatenate([prod_1_arrs[i][:, None], prod_2_arrs[i][:, None]], axis=1))"
   ]
  },
  {
   "cell_type": "code",
   "execution_count": 190,
   "metadata": {},
   "outputs": [
    {
     "data": {
      "text/plain": [
       "array([[0.21052632, 0.26315789],\n",
       "       [0.15789474, 0.10526316],\n",
       "       [0.10526316, 0.05263158],\n",
       "       ...,\n",
       "       [0.21052632, 0.31578947],\n",
       "       [0.05263158, 0.10526316],\n",
       "       [0.15789474, 0.15789474]])"
      ]
     },
     "execution_count": 190,
     "metadata": {},
     "output_type": "execute_result"
    }
   ],
   "source": [
    "joint_demands[5]"
   ]
  },
  {
   "cell_type": "code",
   "execution_count": 191,
   "metadata": {},
   "outputs": [],
   "source": [
    "def cross_product(x, y):\n",
    "    \"\"\"\n",
    "\n",
    "    :param x: array of shape (m, d_x)\n",
    "    :param y: array of shape (n, d_y)\n",
    "    :return:  array of shape (m * n, d_x + d_y)\n",
    "    \"\"\"\n",
    "    m, d_x = x.shape\n",
    "    n, d_y = y.shape\n",
    "    x_temp = np.tile(x[:, :, None], (1, n, 1))\n",
    "    x_temp = np.reshape(x_temp, [m * n, d_x])\n",
    "    y_temp = np.tile(y, (m, 1))\n",
    "    return np.concatenate([x_temp, y_temp], axis=-1)"
   ]
  },
  {
   "cell_type": "code",
   "execution_count": 192,
   "metadata": {},
   "outputs": [],
   "source": [
    "context_points = cross_product(np.linspace(0, 1, 20)[:, None], np.linspace(0, 1, 20)[:, None])"
   ]
  },
  {
   "cell_type": "code",
   "execution_count": 195,
   "metadata": {},
   "outputs": [],
   "source": [
    "counters = np.zeros((6, 400))"
   ]
  },
  {
   "cell_type": "code",
   "execution_count": 196,
   "metadata": {
    "scrolled": true
   },
   "outputs": [
    {
     "name": "stdout",
     "output_type": "stream",
     "text": [
      "[0.31578947 0.42105263]\n",
      "128.0\n",
      "[0.31578947 0.42105263]\n",
      "[0.05263158 0.10526316]\n",
      "22.0\n",
      "[0.05263158 0.10526316]\n",
      "[0.10526316 0.05263158]\n",
      "41.0\n",
      "[0.10526316 0.05263158]\n",
      "[0.05263158 0.05263158]\n",
      "21.0\n",
      "[0.05263158 0.05263158]\n",
      "[0.10526316 0.15789474]\n",
      "43.0\n",
      "[0.10526316 0.15789474]\n",
      "[0.15789474 0.05263158]\n",
      "61.0\n",
      "[0.15789474 0.05263158]\n",
      "[0.05263158 0.10526316]\n",
      "22.0\n",
      "[0.05263158 0.10526316]\n",
      "[0.15789474 0.26315789]\n",
      "65.0\n",
      "[0.15789474 0.26315789]\n",
      "[0.21052632 0.05263158]\n",
      "81.0\n",
      "[0.21052632 0.05263158]\n",
      "[0.21052632 0.        ]\n",
      "80.0\n",
      "[0.21052632 0.        ]\n"
     ]
    }
   ],
   "source": [
    "for pair in joint_demands[0][:10]:\n",
    "    x, y = pair\n",
    "    print(pair)\n",
    "    print(x * 20 * 19 + y * 19)\n",
    "    print(context_points[int(x * 20 * 19 + y * 19)])"
   ]
  },
  {
   "cell_type": "code",
   "execution_count": 197,
   "metadata": {},
   "outputs": [],
   "source": [
    "for i in range(len(joint_demands)):\n",
    "    joint_demand = joint_demands[i]\n",
    "    for pair in joint_demand:\n",
    "        x, y = pair\n",
    "        index = int(x * 20 * 19 + y * 19)\n",
    "        counters[i, index] += 1"
   ]
  },
  {
   "cell_type": "code",
   "execution_count": 202,
   "metadata": {},
   "outputs": [
    {
     "data": {
      "text/plain": [
       "array([  1.,  16.,   8.,   8.,   1.,   2.,   3.,   3.,   3.,   0.,   3.,\n",
       "         0.,   0.,   0.,   0.,   0.,   0.,   1.,   0.,   0.,  16., 150.,\n",
       "       164.,  95.,  78.,  43.,  33.,  17.,  18.,  17.,  16.,   4.,   5.,\n",
       "         7.,   6.,   3.,   3.,   0.,   3.,   1.,  14., 143., 157.,  89.,\n",
       "        71.,  49.,  50.,  21.,  24.,  24.,  14.,  12.,  10.,   8.,  10.,\n",
       "         3.,   3.,   2.,   1.,   2.,   5.,  86., 104.,  83.,  61.,  45.,\n",
       "        47.,  20.,  14.,  19.,  21.,   8.,  11.,   6.,   3.,   0.,   4.,\n",
       "         1.,   5.,   1.,   5.,  69.,  66.,  64.,  50.,  38.,  34.,  18.,\n",
       "        23.,  15.,  12.,  10.,   5.,   9.,   2.,   4.,   6.,   2.,   3.,\n",
       "         4.,  40.,  54.,  42.,  28.,  25.,  26.,  19.,  15.,  11.,   9.,\n",
       "         7.,  11.,   5.,   1.,   1.,   2.,   2.,   2.,   0.,   0.,   3.,\n",
       "        38.,  43.,  32.,  27.,  18.,  22.,  14.,  11.,   6.,  11.,   4.,\n",
       "         5.,   3.,   2.,   0.,   2.,   0.,   3.,   3.,   1.,  15.,  21.,\n",
       "        17.,  14.,  16.,  14.,  14.,   5.,   6.,  12.,   6.,   4.,   2.,\n",
       "         2.,   2.,   3.,   1.,   0.,   0.,   1.,  15.,  27.,  11.,  17.,\n",
       "        16.,  19.,   5.,  10.,   7.,   6.,   1.,   3.,   3.,   3.,   1.,\n",
       "         2.,   0.,   2.,   0.,   1.,   8.,  14.,  14.,  16.,   9.,   9.,\n",
       "         9.,   4.,   3.,   3.,   4.,   3.,   7.,   1.,   6.,   1.,   1.,\n",
       "         1.,   1.,   8.,   9.,  11.,  15.,   4.,   3.,   7.,   4.,   5.,\n",
       "         1.,   4.,   4.,   2.,   4.,   0.,   2.,   1.,   0.,   1.,   0.,\n",
       "         0.,   9.,  11.,   7.,   5.,   6.,   9.,   7.,   3.,   5.,   2.,\n",
       "         3.,   2.,   1.,   1.,   1.,   1.,   0.,   0.,   1.,   1.,   6.,\n",
       "         8.,   3.,   7.,   2.,   6.,   2.,   1.,   1.,   1.,   1.,   3.,\n",
       "         1.,   0.,   0.,   1.,   0.,   0.,   0.,   0.,   8.,   5.,   6.,\n",
       "         2.,   3.,   2.,   0.,   0.,   2.,   2.,   0.,   1.,   0.,   1.,\n",
       "         0.,   0.,   0.,   0.,   0.,   0.,   2.,   5.,   2.,   1.,   2.,\n",
       "         0.,   3.,   2.,   2.,   2.,   1.,   0.,   1.,   0.,   1.,   1.,\n",
       "         1.,   0.,   0.,   0.,   3.,   1.,   7.,   4.,   6.,   0.,   0.,\n",
       "         1.,   0.,   3.,   1.,   2.,   1.,   1.,   0.,   1.,   0.,   0.,\n",
       "         0.,   0.,   2.,   2.,   1.,   1.,   0.,   4.,   5.,   4.,   2.,\n",
       "         0.,   1.,   0.,   1.,   0.,   1.,   0.,   1.,   1.,   0.,   0.,\n",
       "         1.,   2.,   5.,   2.,   3.,   3.,   0.,   0.,   3.,   0.,   0.,\n",
       "         0.,   1.,   0.,   0.,   1.,   0.,   0.,   0.,   0.,   4.,   1.,\n",
       "         1.,   6.,   1.,   0.,   3.,   0.,   2.,   1.,   4.,   0.,   0.,\n",
       "         1.,   0.,   0.,   0.,   0.,   0.,   2.,   1.,   4.,   1.,   4.,\n",
       "         2.,   0.,   2.,   3.,   1.,   0.,   0.,   1.,   0.,   0.,   1.,\n",
       "         0.,   0.,   0.,   0.])"
      ]
     },
     "execution_count": 202,
     "metadata": {},
     "output_type": "execute_result"
    }
   ],
   "source": [
    "counters[0]"
   ]
  },
  {
   "cell_type": "code",
   "execution_count": 205,
   "metadata": {
    "scrolled": true
   },
   "outputs": [
    {
     "data": {
      "text/plain": [
       "array([  1.,  19.,  20.,   9.,   8.,   1.,   1.,   3.,   1.,   2.,   3.,\n",
       "         0.,   0.,   0.,   0.,   1.,   0.,   0.,   0.,   0.,  15., 172.,\n",
       "       200.,  99.,  96.,  58.,  61.,  32.,  27.,  26.,  20.,  12.,  15.,\n",
       "         7.,   6.,   9.,   6.,   1.,   3.,   0.,   9., 127., 130., 104.,\n",
       "        83.,  43.,  36.,  26.,  18.,  15.,  16.,   5.,   9.,   2.,   7.,\n",
       "         5.,   0.,   2.,   3.,   4.,   4.,  44.,  54.,  31.,  33.,  21.,\n",
       "        15.,   9.,   4.,   4.,   7.,   5.,   3.,   3.,   2.,   5.,   2.,\n",
       "         1.,   1.,   2.,   3.,  30.,  38.,  22.,  25.,   9.,   8.,   9.,\n",
       "         8.,   4.,   3.,   3.,   4.,   3.,   0.,   1.,   0.,   1.,   1.,\n",
       "         2.,  11.,  19.,  12.,   7.,   4.,   6.,   4.,   3.,   2.,   1.,\n",
       "         4.,   4.,   0.,   0.,   1.,   0.,   1.,   1.,   0.,   0.,   0.,\n",
       "        14.,  15.,  15.,  12.,   3.,   7.,   3.,   4.,   0.,   2.,   1.,\n",
       "         2.,   0.,   2.,   1.,   1.,   1.,   1.,   0.,   1.,   7.,   6.,\n",
       "         7.,   2.,   2.,   1.,   1.,   1.,   1.,   0.,   0.,   0.,   1.,\n",
       "         0.,   0.,   2.,   0.,   0.,   1.,   2.,   4.,   6.,   7.,   4.,\n",
       "         3.,   2.,   2.,   2.,   0.,   1.,   1.,   0.,   0.,   0.,   1.,\n",
       "         0.,   0.,   1.,   0.,   1.,   3.,   5.,   3.,   5.,   0.,   2.,\n",
       "         3.,   0.,   3.,   0.,   1.,   0.,   0.,   0.,   0.,   0.,   0.,\n",
       "         0.,   1.,   0.,   4.,   4.,   2.,   0.,   1.,   2.,   1.,   0.,\n",
       "         0.,   1.,   1.,   1.,   0.,   0.,   0.,   0.,   0.,   0.,   0.,\n",
       "         0.,   3.,   2.,   2.,   0.,   1.,   0.,   1.,   0.,   0.,   1.,\n",
       "         1.,   0.,   0.,   0.,   0.,   0.,   0.,   0.,   0.,   0.,   0.,\n",
       "         1.,   1.,   1.,   0.,   1.,   0.,   0.,   0.,   0.,   0.,   0.,\n",
       "         0.,   0.,   0.,   0.,   0.,   0.,   0.,   1.,   0.,   2.,   0.,\n",
       "         3.,   1.,   1.,   0.,   1.,   0.,   0.,   1.,   0.,   0.,   0.,\n",
       "         0.,   0.,   0.,   0.,   0.,   0.,   0.,   0.,   0.,   0.,   0.,\n",
       "         1.,   0.,   0.,   1.,   0.,   0.,   0.,   0.,   0.,   0.,   0.,\n",
       "         0.,   1.,   0.,   0.,   0.,   1.,   0.,   1.,   0.,   0.,   0.,\n",
       "         0.,   0.,   1.,   0.,   0.,   0.,   0.,   0.,   0.,   0.,   0.,\n",
       "         0.,   1.,   1.,   1.,   0.,   0.,   0.,   0.,   1.,   0.,   0.,\n",
       "         0.,   0.,   0.,   1.,   0.,   0.,   0.,   0.,   0.,   0.,   0.,\n",
       "         0.,   1.,   1.,   0.,   0.,   0.,   0.,   0.,   0.,   0.,   1.,\n",
       "         0.,   0.,   0.,   0.,   0.,   0.,   0.,   0.,   0.,   1.,   0.,\n",
       "         0.,   1.,   0.,   0.,   0.,   0.,   1.,   1.,   0.,   0.,   0.,\n",
       "         0.,   0.,   0.,   0.,   0.,   0.,   0.,   0.,   0.,   0.,   0.,\n",
       "         1.,   1.,   1.,   0.,   0.,   0.,   0.,   0.,   0.,   0.,   0.,\n",
       "         0.,   0.,   0.,   0.])"
      ]
     },
     "execution_count": 205,
     "metadata": {},
     "output_type": "execute_result"
    }
   ],
   "source": [
    "counters[1]"
   ]
  },
  {
   "cell_type": "code",
   "execution_count": 204,
   "metadata": {
    "scrolled": false
   },
   "outputs": [
    {
     "data": {
      "text/plain": [
       "array([  2.,  10.,   8.,   8.,   4.,   3.,   1.,   2.,   1.,   4.,   0.,\n",
       "         0.,   1.,   1.,   0.,   0.,   1.,   0.,   0.,   0.,  15., 277.,\n",
       "       168.,  86.,  62.,  37.,  36.,  21.,  22.,  17.,  13.,   7.,   5.,\n",
       "         6.,   5.,   4.,   4.,   3.,   7.,   3.,   7., 135.,  80.,  58.,\n",
       "        56.,  36.,  24.,  17.,  11.,   4.,   9.,   8.,   8.,   1.,   5.,\n",
       "         5.,   1.,   4.,   2.,   3.,   4.,  41.,  44.,  34.,  23.,  15.,\n",
       "        14.,  12.,  13.,   5.,   6.,   2.,   6.,   2.,   2.,   2.,   4.,\n",
       "         2.,   1.,   2.,   5.,  41.,  31.,  22.,  20.,   9.,  11.,   8.,\n",
       "         5.,   6.,   3.,   4.,   2.,   2.,   3.,   1.,   1.,   2.,   3.,\n",
       "         2.,  19.,  23.,  14.,   9.,   8.,   6.,   4.,   6.,   4.,   4.,\n",
       "         2.,   1.,   0.,   1.,   2.,   1.,   0.,   0.,   2.,   0.,   0.,\n",
       "        15.,  11.,  10.,   8.,   7.,   5.,   4.,   1.,   2.,   1.,   1.,\n",
       "         4.,   1.,   1.,   1.,   0.,   1.,   1.,   1.,   0.,   8.,   7.,\n",
       "         5.,   2.,   4.,   2.,   3.,   5.,   2.,   0.,   1.,   0.,   0.,\n",
       "         1.,   1.,   2.,   0.,   1.,   0.,   1.,   9.,  12.,   5.,   5.,\n",
       "         2.,   3.,   1.,   4.,   0.,   2.,   1.,   0.,   1.,   0.,   0.,\n",
       "         0.,   0.,   1.,   0.,   0.,   8.,   0.,   2.,   3.,   5.,   3.,\n",
       "         0.,   2.,   0.,   0.,   0.,   1.,   0.,   0.,   0.,   1.,   0.,\n",
       "         0.,   0.,   5.,   5.,   3.,   1.,   3.,   2.,   0.,   0.,   0.,\n",
       "         1.,   1.,   2.,   1.,   0.,   1.,   1.,   0.,   0.,   0.,   0.,\n",
       "         1.,   2.,   3.,   2.,   0.,   3.,   0.,   0.,   3.,   0.,   1.,\n",
       "         0.,   0.,   1.,   0.,   0.,   0.,   0.,   0.,   0.,   0.,   4.,\n",
       "         5.,   2.,   1.,   4.,   0.,   0.,   1.,   0.,   2.,   0.,   0.,\n",
       "         0.,   0.,   0.,   0.,   0.,   0.,   0.,   0.,   2.,   2.,   2.,\n",
       "         1.,   2.,   1.,   3.,   1.,   0.,   1.,   1.,   0.,   0.,   0.,\n",
       "         0.,   0.,   0.,   0.,   0.,   0.,   5.,   2.,   2.,   0.,   0.,\n",
       "         0.,   0.,   0.,   0.,   1.,   0.,   0.,   1.,   0.,   0.,   0.,\n",
       "         1.,   0.,   0.,   0.,   0.,   1.,   2.,   1.,   0.,   2.,   3.,\n",
       "         0.,   1.,   0.,   0.,   0.,   0.,   0.,   0.,   0.,   1.,   0.,\n",
       "         0.,   0.,   0.,   2.,   0.,   1.,   1.,   1.,   0.,   1.,   1.,\n",
       "         0.,   0.,   0.,   0.,   0.,   0.,   0.,   0.,   0.,   0.,   0.,\n",
       "         0.,   2.,   0.,   0.,   1.,   0.,   0.,   0.,   1.,   0.,   0.,\n",
       "         0.,   0.,   0.,   0.,   0.,   0.,   0.,   0.,   0.,   1.,   1.,\n",
       "         0.,   0.,   0.,   0.,   0.,   1.,   0.,   0.,   0.,   0.,   0.,\n",
       "         0.,   0.,   0.,   0.,   1.,   0.,   0.,   1.,   0.,   0.,   2.,\n",
       "         0.,   0.,   0.,   0.,   0.,   0.,   0.,   0.,   0.,   0.,   0.,\n",
       "         0.,   0.,   1.,   0.])"
      ]
     },
     "execution_count": 204,
     "metadata": {},
     "output_type": "execute_result"
    }
   ],
   "source": [
    "counters[2]"
   ]
  },
  {
   "cell_type": "code",
   "execution_count": 203,
   "metadata": {},
   "outputs": [
    {
     "data": {
      "text/plain": [
       "array([  0.,   7.,  10.,   4.,   2.,   6.,   2.,   3.,   1.,   2.,   0.,\n",
       "         4.,   0.,   0.,   0.,   0.,   1.,   0.,   1.,   1.,  10., 122.,\n",
       "       135.,  80.,  68.,  46.,  48.,  28.,  26.,  24.,  27.,  12.,  13.,\n",
       "        13.,   9.,   8.,  11.,   5.,   7.,   1.,   7.,  83.,  91.,  54.,\n",
       "        43.,  34.,  39.,  23.,  15.,  14.,  13.,   8.,  14.,   6.,   9.,\n",
       "         8.,  11.,   6.,   2.,   3.,   5.,  45.,  48.,  26.,  23.,  22.,\n",
       "        12.,  13.,   7.,   9.,   7.,   4.,  11.,   5.,   3.,   4.,   2.,\n",
       "         1.,   1.,   2.,   3.,  19.,  20.,  19.,  11.,  13.,  13.,  12.,\n",
       "         6.,   9.,   6.,   6.,   6.,   5.,   1.,   1.,   0.,   1.,   0.,\n",
       "         5.,  14.,  13.,   9.,   9.,   8.,  11.,   9.,   5.,   1.,   6.,\n",
       "         1.,   1.,   5.,   2.,   0.,   0.,   0.,   0.,   2.,   0.,   1.,\n",
       "        12.,  10.,  13.,  12.,   7.,   2.,   3.,   2.,   3.,   5.,   1.,\n",
       "         0.,   2.,   2.,   0.,   1.,   0.,   0.,   2.,   1.,   9.,  11.,\n",
       "         3.,   4.,   5.,   6.,   2.,   3.,   3.,   3.,   1.,   0.,   0.,\n",
       "         0.,   0.,   1.,   1.,   2.,   1.,   0.,   6.,   7.,   4.,   1.,\n",
       "         2.,   3.,   1.,   3.,   2.,   0.,   1.,   1.,   0.,   2.,   1.,\n",
       "         1.,   2.,   0.,   0.,   0.,   2.,   7.,   5.,   1.,   1.,   3.,\n",
       "         2.,   1.,   0.,   0.,   0.,   0.,   1.,   0.,   0.,   1.,   0.,\n",
       "         1.,   2.,   2.,   6.,   4.,   2.,   1.,   1.,   2.,   2.,   0.,\n",
       "         0.,   0.,   0.,   0.,   0.,   0.,   1.,   0.,   0.,   0.,   0.,\n",
       "         0.,   3.,   1.,   2.,   1.,   1.,   0.,   1.,   0.,   2.,   0.,\n",
       "         0.,   0.,   0.,   0.,   0.,   0.,   0.,   0.,   0.,   0.,   0.,\n",
       "         1.,   1.,   1.,   2.,   0.,   2.,   0.,   1.,   0.,   0.,   0.,\n",
       "         0.,   0.,   0.,   0.,   0.,   0.,   0.,   0.,   1.,   0.,   0.,\n",
       "         0.,   0.,   0.,   0.,   0.,   1.,   1.,   1.,   0.,   0.,   0.,\n",
       "         0.,   0.,   0.,   0.,   0.,   1.,   1.,   0.,   0.,   2.,   0.,\n",
       "         1.,   0.,   0.,   0.,   0.,   0.,   0.,   0.,   0.,   0.,   0.,\n",
       "         1.,   0.,   0.,   0.,   2.,   0.,   0.,   0.,   1.,   0.,   0.,\n",
       "         1.,   0.,   0.,   0.,   0.,   0.,   0.,   0.,   0.,   0.,   0.,\n",
       "         0.,   0.,   0.,   1.,   1.,   0.,   1.,   0.,   1.,   0.,   0.,\n",
       "         0.,   0.,   0.,   0.,   0.,   0.,   0.,   0.,   0.,   0.,   0.,\n",
       "         0.,   1.,   0.,   0.,   0.,   0.,   0.,   0.,   0.,   0.,   0.,\n",
       "         0.,   0.,   0.,   0.,   0.,   0.,   0.,   0.,   0.,   0.,   0.,\n",
       "         0.,   1.,   0.,   0.,   1.,   0.,   0.,   0.,   0.,   0.,   0.,\n",
       "         0.,   0.,   0.,   0.,   0.,   0.,   0.,   0.,   1.,   0.,   0.,\n",
       "         0.,   0.,   0.,   0.,   0.,   0.,   0.,   0.,   0.,   0.,   0.,\n",
       "         0.,   0.,   0.,   0.])"
      ]
     },
     "execution_count": 203,
     "metadata": {},
     "output_type": "execute_result"
    }
   ],
   "source": [
    "counters[3]"
   ]
  },
  {
   "cell_type": "code",
   "execution_count": 206,
   "metadata": {},
   "outputs": [
    {
     "data": {
      "text/plain": [
       "array([  2.,  24.,  17.,   5.,   4.,   3.,   3.,   2.,   0.,   0.,   1.,\n",
       "         0.,   0.,   1.,   0.,   0.,   0.,   0.,   0.,   0.,  20., 249.,\n",
       "       172.,  87.,  54.,  33.,  25.,  19.,  10.,   7.,   9.,   4.,   3.,\n",
       "         4.,   0.,   2.,   2.,   1.,   1.,   0.,   5., 146., 125.,  49.,\n",
       "        40.,  31.,  33.,  11.,  14.,   9.,   7.,   7.,   3.,   3.,   3.,\n",
       "         2.,   1.,   3.,   1.,   2.,   6.,  58.,  41.,  28.,  35.,  17.,\n",
       "        18.,  11.,  10.,   5.,   2.,   1.,   1.,   4.,   2.,   0.,   1.,\n",
       "         2.,   0.,   1.,   3.,  27.,  31.,  18.,  14.,   9.,   8.,   6.,\n",
       "         9.,   4.,   2.,   1.,   1.,   1.,   0.,   1.,   1.,   0.,   0.,\n",
       "         2.,  18.,  18.,  13.,   6.,   6.,   5.,   3.,   4.,   6.,   2.,\n",
       "         2.,   2.,   1.,   0.,   0.,   0.,   1.,   0.,   0.,   0.,   0.,\n",
       "        18.,  19.,  12.,   6.,   2.,   3.,   4.,   5.,   2.,   2.,   0.,\n",
       "         0.,   2.,   0.,   3.,   0.,   1.,   0.,   0.,   0.,   5.,   7.,\n",
       "         9.,   8.,   3.,   5.,   4.,   2.,   2.,   2.,   0.,   0.,   1.,\n",
       "         0.,   0.,   0.,   0.,   1.,   0.,   1.,   5.,   7.,   5.,   5.,\n",
       "         4.,   2.,   2.,   3.,   2.,   0.,   2.,   1.,   0.,   1.,   0.,\n",
       "         0.,   0.,   0.,   0.,   0.,   6.,   5.,   4.,   4.,   2.,   0.,\n",
       "         3.,   0.,   1.,   1.,   3.,   1.,   0.,   0.,   0.,   0.,   0.,\n",
       "         0.,   0.,   1.,   6.,   3.,   0.,   6.,   1.,   2.,   2.,   0.,\n",
       "         2.,   2.,   0.,   0.,   2.,   0.,   1.,   0.,   0.,   0.,   0.,\n",
       "         0.,   1.,   5.,   0.,   1.,   1.,   1.,   1.,   1.,   0.,   0.,\n",
       "         1.,   1.,   0.,   0.,   1.,   1.,   0.,   0.,   0.,   0.,   3.,\n",
       "         2.,   2.,   2.,   2.,   1.,   0.,   0.,   1.,   1.,   1.,   0.,\n",
       "         0.,   0.,   0.,   1.,   0.,   0.,   0.,   0.,   4.,   3.,   0.,\n",
       "         3.,   2.,   2.,   0.,   0.,   0.,   1.,   0.,   0.,   0.,   0.,\n",
       "         1.,   0.,   0.,   0.,   0.,   0.,   2.,   2.,   3.,   0.,   0.,\n",
       "         0.,   0.,   0.,   1.,   0.,   0.,   0.,   0.,   0.,   0.,   0.,\n",
       "         0.,   0.,   0.,   0.,   1.,   0.,   0.,   0.,   0.,   0.,   0.,\n",
       "         0.,   0.,   0.,   1.,   1.,   1.,   0.,   0.,   0.,   0.,   0.,\n",
       "         0.,   0.,   0.,   3.,   3.,   4.,   0.,   1.,   1.,   0.,   1.,\n",
       "         0.,   0.,   0.,   1.,   0.,   0.,   0.,   0.,   0.,   0.,   0.,\n",
       "         0.,   0.,   0.,   1.,   0.,   0.,   0.,   0.,   0.,   0.,   0.,\n",
       "         0.,   0.,   0.,   0.,   0.,   0.,   0.,   0.,   0.,   2.,   0.,\n",
       "         1.,   1.,   0.,   0.,   1.,   1.,   0.,   1.,   0.,   0.,   0.,\n",
       "         0.,   0.,   0.,   0.,   0.,   0.,   0.,   0.,   0.,   0.,   0.,\n",
       "         0.,   0.,   0.,   0.,   0.,   0.,   0.,   1.,   0.,   0.,   0.,\n",
       "         0.,   0.,   0.,   0.])"
      ]
     },
     "execution_count": 206,
     "metadata": {},
     "output_type": "execute_result"
    }
   ],
   "source": [
    "counters[4]"
   ]
  },
  {
   "cell_type": "code",
   "execution_count": 207,
   "metadata": {},
   "outputs": [
    {
     "data": {
      "text/plain": [
       "array([  1.,  12.,  10.,   7.,   2.,   1.,   2.,   1.,   1.,   0.,   0.,\n",
       "         0.,   0.,   1.,   1.,   0.,   0.,   0.,   0.,   0.,   6., 308.,\n",
       "       255., 145.,  98.,  46.,  40.,  21.,  15.,   6.,   6.,   5.,  10.,\n",
       "         5.,   8.,   2.,   2.,   1.,   5.,   1.,   8., 218., 206., 111.,\n",
       "        64.,  48.,  28.,  18.,  21.,  10.,   9.,  10.,   6.,   3.,   6.,\n",
       "         5.,   2.,   2.,   2.,   1.,   2.,  53.,  73.,  32.,  31.,  18.,\n",
       "        24.,   9.,  12.,   4.,   4.,   3.,   3.,   0.,   1.,   3.,   2.,\n",
       "         0.,   0.,   0.,   3.,  36.,  36.,  28.,  21.,  11.,   7.,   4.,\n",
       "         3.,   3.,   3.,   1.,   3.,   0.,   3.,   1.,   0.,   0.,   0.,\n",
       "         0.,  23.,  24.,  17.,  17.,   6.,   3.,   3.,   3.,   4.,   0.,\n",
       "         6.,   2.,   3.,   1.,   0.,   2.,   1.,   0.,   0.,   0.,   0.,\n",
       "        20.,  27.,  12.,  14.,   9.,   7.,   2.,   0.,   3.,   1.,   3.,\n",
       "         2.,   1.,   2.,   0.,   0.,   0.,   0.,   0.,   1.,   9.,  15.,\n",
       "         7.,  12.,   7.,   6.,   3.,   5.,   1.,   3.,   0.,   1.,   0.,\n",
       "         1.,   1.,   0.,   0.,   0.,   0.,   2.,   9.,  10.,   6.,   5.,\n",
       "         3.,   3.,   1.,   2.,   1.,   0.,   0.,   0.,   1.,   0.,   0.,\n",
       "         0.,   0.,   0.,   1.,   0.,   6.,   9.,   1.,   4.,   3.,   4.,\n",
       "         2.,   2.,   1.,   2.,   0.,   1.,   0.,   0.,   0.,   0.,   1.,\n",
       "         0.,   1.,   4.,   3.,   2.,   3.,   1.,   1.,   2.,   1.,   0.,\n",
       "         1.,   1.,   0.,   0.,   0.,   0.,   0.,   0.,   0.,   0.,   0.,\n",
       "         1.,   1.,   9.,   1.,   1.,   1.,   0.,   1.,   0.,   0.,   0.,\n",
       "         0.,   0.,   0.,   0.,   1.,   0.,   0.,   0.,   0.,   0.,   6.,\n",
       "         5.,   1.,   4.,   0.,   0.,   2.,   0.,   0.,   0.,   0.,   0.,\n",
       "         0.,   0.,   0.,   0.,   0.,   1.,   0.,   0.,   3.,   2.,   2.,\n",
       "         0.,   0.,   1.,   1.,   2.,   1.,   0.,   0.,   0.,   0.,   0.,\n",
       "         0.,   0.,   0.,   0.,   0.,   0.,   4.,   2.,   0.,   2.,   0.,\n",
       "         1.,   1.,   0.,   0.,   0.,   0.,   0.,   0.,   0.,   0.,   0.,\n",
       "         0.,   0.,   0.,   0.,   1.,   0.,   1.,   1.,   0.,   2.,   0.,\n",
       "         0.,   0.,   0.,   1.,   0.,   0.,   0.,   0.,   0.,   0.,   0.,\n",
       "         0.,   0.,   1.,   3.,   0.,   1.,   0.,   0.,   0.,   1.,   0.,\n",
       "         0.,   0.,   0.,   0.,   0.,   0.,   0.,   0.,   0.,   0.,   0.,\n",
       "         1.,   1.,   3.,   0.,   0.,   0.,   1.,   0.,   1.,   0.,   0.,\n",
       "         0.,   0.,   0.,   0.,   0.,   0.,   0.,   0.,   0.,   1.,   1.,\n",
       "         1.,   0.,   0.,   0.,   1.,   0.,   0.,   0.,   0.,   0.,   0.,\n",
       "         0.,   0.,   0.,   0.,   0.,   0.,   0.,   2.,   0.,   0.,   2.,\n",
       "         0.,   0.,   0.,   0.,   0.,   0.,   0.,   0.,   0.,   0.,   0.,\n",
       "         0.,   0.,   0.,   0.])"
      ]
     },
     "execution_count": 207,
     "metadata": {},
     "output_type": "execute_result"
    }
   ],
   "source": [
    "counters[5]"
   ]
  }
 ],
 "metadata": {
  "kernelspec": {
   "display_name": "Python 3",
   "language": "python",
   "name": "python3"
  },
  "language_info": {
   "codemirror_mode": {
    "name": "ipython",
    "version": 3
   },
   "file_extension": ".py",
   "mimetype": "text/x-python",
   "name": "python",
   "nbconvert_exporter": "python",
   "pygments_lexer": "ipython3",
   "version": "3.7.10"
  }
 },
 "nbformat": 4,
 "nbformat_minor": 4
}
